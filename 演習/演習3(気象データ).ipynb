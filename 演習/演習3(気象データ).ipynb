{
 "cells": [
  {
   "cell_type": "markdown",
   "metadata": {},
   "source": [
    "# 演習３\n",
    "\n",
    "気象庁のサイトから東京の２０１７年３月のデータをHTMLとして取り込み、最低気温を表示する"
   ]
  },
  {
   "cell_type": "markdown",
   "metadata": {},
   "source": [
    "# 手順の解説\n",
    "\n",
    "- 必要なライブラリのインポート\n",
    "- HTMLからテーブルを抜き出す\n",
    "- 抜き出したテーブルの数を確認\n",
    "- 最初のテーブルをデータフレームdfに入れる\n",
    "- dfの先頭を見る\n",
    "- 先頭の4行を削除\n",
    "- 日のカラム(`0`) と 最低気温のカラム(`8`) のみを新たなデータフレームに入れる。その際に、データをfloat型に変換\n",
    "- 新たに作ったデータフレームの先頭を確認\n",
    "- 最低気温が入っているカラム (カラム名8)の中の最低の値を出力"
   ]
  },
  {
   "cell_type": "code",
   "execution_count": 1,
   "metadata": {
    "collapsed": true
   },
   "outputs": [],
   "source": [
    "import numpy as np\n",
    "import pandas as pd"
   ]
  },
  {
   "cell_type": "code",
   "execution_count": 2,
   "metadata": {
    "collapsed": true
   },
   "outputs": [],
   "source": [
    "tables = pd.read_html('201703weather.html')"
   ]
  },
  {
   "cell_type": "code",
   "execution_count": 3,
   "metadata": {},
   "outputs": [
    {
     "data": {
      "text/plain": [
       "2"
      ]
     },
     "execution_count": 3,
     "metadata": {},
     "output_type": "execute_result"
    }
   ],
   "source": [
    "len(tables)"
   ]
  },
  {
   "cell_type": "code",
   "execution_count": 4,
   "metadata": {
    "collapsed": true
   },
   "outputs": [],
   "source": [
    "df = tables[0]"
   ]
  },
  {
   "cell_type": "code",
   "execution_count": 5,
   "metadata": {},
   "outputs": [
    {
     "data": {
      "text/html": [
       "<div>\n",
       "<style>\n",
       "    .dataframe thead tr:only-child th {\n",
       "        text-align: right;\n",
       "    }\n",
       "\n",
       "    .dataframe thead th {\n",
       "        text-align: left;\n",
       "    }\n",
       "\n",
       "    .dataframe tbody tr th {\n",
       "        vertical-align: top;\n",
       "    }\n",
       "</style>\n",
       "<table border=\"1\" class=\"dataframe\">\n",
       "  <thead>\n",
       "    <tr style=\"text-align: right;\">\n",
       "      <th></th>\n",
       "      <th>0</th>\n",
       "      <th>1</th>\n",
       "      <th>2</th>\n",
       "      <th>3</th>\n",
       "      <th>4</th>\n",
       "      <th>5</th>\n",
       "      <th>6</th>\n",
       "      <th>7</th>\n",
       "      <th>8</th>\n",
       "      <th>9</th>\n",
       "      <th>...</th>\n",
       "      <th>11</th>\n",
       "      <th>12</th>\n",
       "      <th>13</th>\n",
       "      <th>14</th>\n",
       "      <th>15</th>\n",
       "      <th>16</th>\n",
       "      <th>17</th>\n",
       "      <th>18</th>\n",
       "      <th>19</th>\n",
       "      <th>20</th>\n",
       "    </tr>\n",
       "  </thead>\n",
       "  <tbody>\n",
       "    <tr>\n",
       "      <th>0</th>\n",
       "      <td>日</td>\n",
       "      <td>気圧(hPa)</td>\n",
       "      <td>降水量(mm)</td>\n",
       "      <td>気温(℃)</td>\n",
       "      <td>湿度(％)</td>\n",
       "      <td>風向・風速(m/s)</td>\n",
       "      <td>日照時間(h)</td>\n",
       "      <td>雪(cm)</td>\n",
       "      <td>天気概況</td>\n",
       "      <td>NaN</td>\n",
       "      <td>...</td>\n",
       "      <td>NaN</td>\n",
       "      <td>NaN</td>\n",
       "      <td>NaN</td>\n",
       "      <td>NaN</td>\n",
       "      <td>NaN</td>\n",
       "      <td>NaN</td>\n",
       "      <td>NaN</td>\n",
       "      <td>NaN</td>\n",
       "      <td>NaN</td>\n",
       "      <td>NaN</td>\n",
       "    </tr>\n",
       "    <tr>\n",
       "      <th>1</th>\n",
       "      <td>現地</td>\n",
       "      <td>海面</td>\n",
       "      <td>NaN</td>\n",
       "      <td>NaN</td>\n",
       "      <td>NaN</td>\n",
       "      <td>NaN</td>\n",
       "      <td>NaN</td>\n",
       "      <td>NaN</td>\n",
       "      <td>NaN</td>\n",
       "      <td>NaN</td>\n",
       "      <td>...</td>\n",
       "      <td>NaN</td>\n",
       "      <td>NaN</td>\n",
       "      <td>NaN</td>\n",
       "      <td>NaN</td>\n",
       "      <td>NaN</td>\n",
       "      <td>NaN</td>\n",
       "      <td>NaN</td>\n",
       "      <td>NaN</td>\n",
       "      <td>NaN</td>\n",
       "      <td>NaN</td>\n",
       "    </tr>\n",
       "    <tr>\n",
       "      <th>2</th>\n",
       "      <td>平均</td>\n",
       "      <td>平均</td>\n",
       "      <td>合計</td>\n",
       "      <td>最大</td>\n",
       "      <td>平均</td>\n",
       "      <td>最高</td>\n",
       "      <td>最低</td>\n",
       "      <td>平均</td>\n",
       "      <td>最小</td>\n",
       "      <td>平均風速</td>\n",
       "      <td>...</td>\n",
       "      <td>最大瞬間風速</td>\n",
       "      <td>降雪</td>\n",
       "      <td>最深積雪</td>\n",
       "      <td>昼(06:00-18:00)</td>\n",
       "      <td>夜(18:00-翌日06:00)</td>\n",
       "      <td>NaN</td>\n",
       "      <td>NaN</td>\n",
       "      <td>NaN</td>\n",
       "      <td>NaN</td>\n",
       "      <td>NaN</td>\n",
       "    </tr>\n",
       "    <tr>\n",
       "      <th>3</th>\n",
       "      <td>1時間</td>\n",
       "      <td>10分間</td>\n",
       "      <td>風速</td>\n",
       "      <td>風向</td>\n",
       "      <td>風速</td>\n",
       "      <td>風向</td>\n",
       "      <td>合計</td>\n",
       "      <td>値</td>\n",
       "      <td>NaN</td>\n",
       "      <td>NaN</td>\n",
       "      <td>...</td>\n",
       "      <td>NaN</td>\n",
       "      <td>NaN</td>\n",
       "      <td>NaN</td>\n",
       "      <td>NaN</td>\n",
       "      <td>NaN</td>\n",
       "      <td>NaN</td>\n",
       "      <td>NaN</td>\n",
       "      <td>NaN</td>\n",
       "      <td>NaN</td>\n",
       "      <td>NaN</td>\n",
       "    </tr>\n",
       "    <tr>\n",
       "      <th>4</th>\n",
       "      <td>1</td>\n",
       "      <td>1018.6</td>\n",
       "      <td>1021.6</td>\n",
       "      <td>4.5</td>\n",
       "      <td>2.0</td>\n",
       "      <td>0.5</td>\n",
       "      <td>6.4</td>\n",
       "      <td>11.1</td>\n",
       "      <td>1.4</td>\n",
       "      <td>73</td>\n",
       "      <td>...</td>\n",
       "      <td>1.8</td>\n",
       "      <td>3.8</td>\n",
       "      <td>南南東</td>\n",
       "      <td>6.3</td>\n",
       "      <td>南南東</td>\n",
       "      <td>5.6</td>\n",
       "      <td>--</td>\n",
       "      <td>--</td>\n",
       "      <td>曇一時晴</td>\n",
       "      <td>雨後時々曇</td>\n",
       "    </tr>\n",
       "  </tbody>\n",
       "</table>\n",
       "<p>5 rows × 21 columns</p>\n",
       "</div>"
      ],
      "text/plain": [
       "    0        1        2      3      4           5        6      7     8   \\\n",
       "0    日  気圧(hPa)  降水量(mm)  気温(℃)  湿度(％)  風向・風速(m/s)  日照時間(h)  雪(cm)  天気概況   \n",
       "1   現地       海面      NaN    NaN    NaN         NaN      NaN    NaN   NaN   \n",
       "2   平均       平均       合計     最大     平均          最高       最低     平均    最小   \n",
       "3  1時間     10分間       風速     風向     風速          風向       合計      値   NaN   \n",
       "4    1   1018.6   1021.6    4.5    2.0         0.5      6.4   11.1   1.4   \n",
       "\n",
       "     9   ...        11   12    13              14                15   16   17  \\\n",
       "0   NaN  ...       NaN  NaN   NaN             NaN               NaN  NaN  NaN   \n",
       "1   NaN  ...       NaN  NaN   NaN             NaN               NaN  NaN  NaN   \n",
       "2  平均風速  ...    最大瞬間風速   降雪  最深積雪  昼(06:00-18:00)  夜(18:00-翌日06:00)  NaN  NaN   \n",
       "3   NaN  ...       NaN  NaN   NaN             NaN               NaN  NaN  NaN   \n",
       "4    73  ...       1.8  3.8   南南東             6.3               南南東  5.6   --   \n",
       "\n",
       "    18    19     20  \n",
       "0  NaN   NaN    NaN  \n",
       "1  NaN   NaN    NaN  \n",
       "2  NaN   NaN    NaN  \n",
       "3  NaN   NaN    NaN  \n",
       "4   --  曇一時晴  雨後時々曇  \n",
       "\n",
       "[5 rows x 21 columns]"
      ]
     },
     "execution_count": 5,
     "metadata": {},
     "output_type": "execute_result"
    }
   ],
   "source": [
    "df.head()"
   ]
  },
  {
   "cell_type": "code",
   "execution_count": 6,
   "metadata": {
    "collapsed": true
   },
   "outputs": [],
   "source": [
    "df = df.drop([0, 1, 2, 3])"
   ]
  },
  {
   "cell_type": "code",
   "execution_count": 7,
   "metadata": {
    "collapsed": true
   },
   "outputs": [],
   "source": [
    "df_min = pd.DataFrame(df.iloc[:, [0, 8]].astype(np.float64))"
   ]
  },
  {
   "cell_type": "code",
   "execution_count": 8,
   "metadata": {},
   "outputs": [
    {
     "data": {
      "text/html": [
       "<div>\n",
       "<style>\n",
       "    .dataframe thead tr:only-child th {\n",
       "        text-align: right;\n",
       "    }\n",
       "\n",
       "    .dataframe thead th {\n",
       "        text-align: left;\n",
       "    }\n",
       "\n",
       "    .dataframe tbody tr th {\n",
       "        vertical-align: top;\n",
       "    }\n",
       "</style>\n",
       "<table border=\"1\" class=\"dataframe\">\n",
       "  <thead>\n",
       "    <tr style=\"text-align: right;\">\n",
       "      <th></th>\n",
       "      <th>0</th>\n",
       "      <th>8</th>\n",
       "    </tr>\n",
       "  </thead>\n",
       "  <tbody>\n",
       "    <tr>\n",
       "      <th>4</th>\n",
       "      <td>1.0</td>\n",
       "      <td>1.4</td>\n",
       "    </tr>\n",
       "    <tr>\n",
       "      <th>5</th>\n",
       "      <td>2.0</td>\n",
       "      <td>5.4</td>\n",
       "    </tr>\n",
       "    <tr>\n",
       "      <th>6</th>\n",
       "      <td>3.0</td>\n",
       "      <td>3.7</td>\n",
       "    </tr>\n",
       "    <tr>\n",
       "      <th>7</th>\n",
       "      <td>4.0</td>\n",
       "      <td>3.0</td>\n",
       "    </tr>\n",
       "    <tr>\n",
       "      <th>8</th>\n",
       "      <td>5.0</td>\n",
       "      <td>4.9</td>\n",
       "    </tr>\n",
       "  </tbody>\n",
       "</table>\n",
       "</div>"
      ],
      "text/plain": [
       "     0    8\n",
       "4  1.0  1.4\n",
       "5  2.0  5.4\n",
       "6  3.0  3.7\n",
       "7  4.0  3.0\n",
       "8  5.0  4.9"
      ]
     },
     "execution_count": 8,
     "metadata": {},
     "output_type": "execute_result"
    }
   ],
   "source": [
    "df_min.head()"
   ]
  },
  {
   "cell_type": "code",
   "execution_count": 9,
   "metadata": {},
   "outputs": [
    {
     "data": {
      "text/plain": [
       "'0.0'"
      ]
     },
     "execution_count": 9,
     "metadata": {},
     "output_type": "execute_result"
    }
   ],
   "source": [
    "df.loc[:, 8].min()"
   ]
  },
  {
   "cell_type": "code",
   "execution_count": null,
   "metadata": {
    "collapsed": true
   },
   "outputs": [],
   "source": []
  }
 ],
 "metadata": {
  "kernelspec": {
   "display_name": "Python 3",
   "language": "python",
   "name": "python3"
  },
  "language_info": {
   "codemirror_mode": {
    "name": "ipython",
    "version": 3
   },
   "file_extension": ".py",
   "mimetype": "text/x-python",
   "name": "python",
   "nbconvert_exporter": "python",
   "pygments_lexer": "ipython3",
   "version": "3.5.2"
  }
 },
 "nbformat": 4,
 "nbformat_minor": 2
}
