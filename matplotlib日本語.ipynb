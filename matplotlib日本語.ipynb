{
 "cells": [
  {
   "cell_type": "markdown",
   "metadata": {},
   "source": [
    "\n",
    "# 日本語でラベル表示\n",
    "\n",
    "- 毎回宣言\n",
    "- グローバル設定\n",
    "\n",
    "# 書式\n",
    "\n",
    "- マーカー\n",
    "- 線の種類・色\n",
    "- 縦軸\n",
    "- 横軸"
   ]
  },
  {
   "cell_type": "code",
   "execution_count": 1,
   "metadata": {
    "collapsed": true
   },
   "outputs": [],
   "source": [
    "%matplotlib inline"
   ]
  },
  {
   "cell_type": "code",
   "execution_count": 2,
   "metadata": {
    "collapsed": true
   },
   "outputs": [],
   "source": [
    "import numpy as np\n",
    "import pandas as pd\n",
    "import matplotlib.pyplot as plt"
   ]
  },
  {
   "cell_type": "code",
   "execution_count": 3,
   "metadata": {
    "collapsed": true
   },
   "outputs": [],
   "source": [
    "from matplotlib import font_manager"
   ]
  },
  {
   "cell_type": "code",
   "execution_count": 4,
   "metadata": {
    "collapsed": true
   },
   "outputs": [],
   "source": [
    "font = font_manager.FontProperties(fname='/Users/terada/Library/Fonts/SourceHanCodeJP-Medium.otf', size=14)"
   ]
  },
  {
   "cell_type": "markdown",
   "metadata": {},
   "source": [
    "# 日本語フォントのダウンロード\n",
    "https://github.com/adobe-fonts/source-han-code-jp/releases/tag/2.000R"
   ]
  },
  {
   "cell_type": "markdown",
   "metadata": {},
   "source": [
    "# フォントの適用\n",
    "\n",
    "```\n",
    "$ rm ~/.matplotlib/fontList.py3k.cache\n",
    "```"
   ]
  },
  {
   "cell_type": "code",
   "execution_count": 5,
   "metadata": {
    "collapsed": true
   },
   "outputs": [],
   "source": [
    "from matplotlib import rcParams"
   ]
  },
  {
   "cell_type": "code",
   "execution_count": 6,
   "metadata": {
    "collapsed": true
   },
   "outputs": [],
   "source": [
    "\n",
    "rcParams['font.sans-serif'] = \"Source Han Code JP\"\n",
    "rcParams['font.weight'] = \"regular\"\n",
    "rcParams['axes.titlesize'] = 15\n",
    "rcParams['ytick.labelsize'] = 12\n",
    "rcParams['xtick.labelsize'] = 12"
   ]
  },
  {
   "cell_type": "code",
   "execution_count": 7,
   "metadata": {
    "collapsed": true
   },
   "outputs": [],
   "source": [
    "df = pd.DataFrame({'a': [1, 2, 3], 'b': [1.5, 2.0, 2.5]})"
   ]
  },
  {
   "cell_type": "code",
   "execution_count": 8,
   "metadata": {},
   "outputs": [
    {
     "data": {
      "text/html": [
       "<div>\n",
       "<table border=\"1\" class=\"dataframe\">\n",
       "  <thead>\n",
       "    <tr style=\"text-align: right;\">\n",
       "      <th></th>\n",
       "      <th>a</th>\n",
       "      <th>b</th>\n",
       "    </tr>\n",
       "  </thead>\n",
       "  <tbody>\n",
       "    <tr>\n",
       "      <th>0</th>\n",
       "      <td>1</td>\n",
       "      <td>1.5</td>\n",
       "    </tr>\n",
       "    <tr>\n",
       "      <th>1</th>\n",
       "      <td>2</td>\n",
       "      <td>2.0</td>\n",
       "    </tr>\n",
       "    <tr>\n",
       "      <th>2</th>\n",
       "      <td>3</td>\n",
       "      <td>2.5</td>\n",
       "    </tr>\n",
       "  </tbody>\n",
       "</table>\n",
       "</div>"
      ],
      "text/plain": [
       "   a    b\n",
       "0  1  1.5\n",
       "1  2  2.0\n",
       "2  3  2.5"
      ]
     },
     "execution_count": 8,
     "metadata": {},
     "output_type": "execute_result"
    }
   ],
   "source": [
    "df"
   ]
  },
  {
   "cell_type": "code",
   "execution_count": 9,
   "metadata": {},
   "outputs": [
    {
     "data": {
      "text/plain": [
       "[<matplotlib.lines.Line2D at 0x109a3a240>,\n",
       " <matplotlib.lines.Line2D at 0x109a8a860>]"
      ]
     },
     "execution_count": 9,
     "metadata": {},
     "output_type": "execute_result"
    },
    {
     "data": {
      "image/png": "[encoded data removed]",
      "text/plain": [
       "<matplotlib.figure.Figure at 0x109a3a400>"
      ]
     },
     "metadata": {},
     "output_type": "display_data"
    }
   ],
   "source": [
    "fig, ax = plt.subplots()\n",
    "ax.plot(df)"
   ]
  },
  {
   "cell_type": "code",
   "execution_count": 10,
   "metadata": {
    "scrolled": true
   },
   "outputs": [
    {
     "data": {
      "text/plain": [
       "<matplotlib.legend.Legend at 0x109c9dda0>"
      ]
     },
     "execution_count": 10,
     "metadata": {},
     "output_type": "execute_result"
    },
    {
     "data": {
      "image/png": "[encoded data removed]",
      "text/plain": [
       "<matplotlib.figure.Figure at 0x109bcf160>"
      ]
     },
     "metadata": {},
     "output_type": "display_data"
    }
   ],
   "source": [
    "fig, ax = plt.subplots()\n",
    "ax.set_xlabel(\"数値\")\n",
    "ax.set_ylabel(\"量\")\n",
    "ax.plot(df.index, df['a'], color=\"b\", marker=\"x\")\n",
    "ax.plot(df.index, df['b'], color=\"r\", marker=\"o\", linestyle='--')\n",
    "handles, labels = ax.get_legend_handles_labels()\n",
    "ax.legend(handles, labels)"
   ]
  },
  {
   "cell_type": "markdown",
   "metadata": {},
   "source": [
    "# SIN / COS カーブを出力"
   ]
  },
  {
   "cell_type": "code",
   "execution_count": 11,
   "metadata": {},
   "outputs": [
    {
     "data": {
      "text/plain": [
       "array([ -5.00000000e+00,  -4.90000000e+00,  -4.80000000e+00,\n",
       "        -4.70000000e+00,  -4.60000000e+00,  -4.50000000e+00,\n",
       "        -4.40000000e+00,  -4.30000000e+00,  -4.20000000e+00,\n",
       "        -4.10000000e+00,  -4.00000000e+00,  -3.90000000e+00,\n",
       "        -3.80000000e+00,  -3.70000000e+00,  -3.60000000e+00,\n",
       "        -3.50000000e+00,  -3.40000000e+00,  -3.30000000e+00,\n",
       "        -3.20000000e+00,  -3.10000000e+00,  -3.00000000e+00,\n",
       "        -2.90000000e+00,  -2.80000000e+00,  -2.70000000e+00,\n",
       "        -2.60000000e+00,  -2.50000000e+00,  -2.40000000e+00,\n",
       "        -2.30000000e+00,  -2.20000000e+00,  -2.10000000e+00,\n",
       "        -2.00000000e+00,  -1.90000000e+00,  -1.80000000e+00,\n",
       "        -1.70000000e+00,  -1.60000000e+00,  -1.50000000e+00,\n",
       "        -1.40000000e+00,  -1.30000000e+00,  -1.20000000e+00,\n",
       "        -1.10000000e+00,  -1.00000000e+00,  -9.00000000e-01,\n",
       "        -8.00000000e-01,  -7.00000000e-01,  -6.00000000e-01,\n",
       "        -5.00000000e-01,  -4.00000000e-01,  -3.00000000e-01,\n",
       "        -2.00000000e-01,  -1.00000000e-01,  -1.77635684e-14,\n",
       "         1.00000000e-01,   2.00000000e-01,   3.00000000e-01,\n",
       "         4.00000000e-01,   5.00000000e-01,   6.00000000e-01,\n",
       "         7.00000000e-01,   8.00000000e-01,   9.00000000e-01,\n",
       "         1.00000000e+00,   1.10000000e+00,   1.20000000e+00,\n",
       "         1.30000000e+00,   1.40000000e+00,   1.50000000e+00,\n",
       "         1.60000000e+00,   1.70000000e+00,   1.80000000e+00,\n",
       "         1.90000000e+00,   2.00000000e+00,   2.10000000e+00,\n",
       "         2.20000000e+00,   2.30000000e+00,   2.40000000e+00,\n",
       "         2.50000000e+00,   2.60000000e+00,   2.70000000e+00,\n",
       "         2.80000000e+00,   2.90000000e+00,   3.00000000e+00,\n",
       "         3.10000000e+00,   3.20000000e+00,   3.30000000e+00,\n",
       "         3.40000000e+00,   3.50000000e+00,   3.60000000e+00,\n",
       "         3.70000000e+00,   3.80000000e+00,   3.90000000e+00,\n",
       "         4.00000000e+00,   4.10000000e+00,   4.20000000e+00,\n",
       "         4.30000000e+00,   4.40000000e+00,   4.50000000e+00,\n",
       "         4.60000000e+00,   4.70000000e+00,   4.80000000e+00,\n",
       "         4.90000000e+00])"
      ]
     },
     "execution_count": 11,
     "metadata": {},
     "output_type": "execute_result"
    }
   ],
   "source": [
    "np.arange(-5.0, 5.0, 0.1)"
   ]
  },
  {
   "cell_type": "code",
   "execution_count": 12,
   "metadata": {},
   "outputs": [
    {
     "data": {
      "text/plain": [
       "array([  9.58924275e-01,   9.82452613e-01,   9.96164609e-01,\n",
       "         9.99923258e-01,   9.93691004e-01,   9.77530118e-01,\n",
       "         9.51602074e-01,   9.16165937e-01,   8.71575772e-01,\n",
       "         8.18277111e-01,   7.56802495e-01,   6.87766159e-01,\n",
       "         6.11857891e-01,   5.29836141e-01,   4.42520443e-01,\n",
       "         3.50783228e-01,   2.55541102e-01,   1.57745694e-01,\n",
       "         5.83741434e-02,  -4.15806624e-02,  -1.41120008e-01,\n",
       "        -2.39249329e-01,  -3.34988150e-01,  -4.27379880e-01,\n",
       "        -5.15501372e-01,  -5.98472144e-01,  -6.75463181e-01,\n",
       "        -7.45705212e-01,  -8.08496404e-01,  -8.63209367e-01,\n",
       "        -9.09297427e-01,  -9.46300088e-01,  -9.73847631e-01,\n",
       "        -9.91664810e-01,  -9.99573603e-01,  -9.97494987e-01,\n",
       "        -9.85449730e-01,  -9.63558185e-01,  -9.32039086e-01,\n",
       "        -8.91207360e-01,  -8.41470985e-01,  -7.83326910e-01,\n",
       "        -7.17356091e-01,  -6.44217687e-01,  -5.64642473e-01,\n",
       "        -4.79425539e-01,  -3.89418342e-01,  -2.95520207e-01,\n",
       "        -1.98669331e-01,  -9.98334166e-02,  -1.77635684e-14,\n",
       "         9.98334166e-02,   1.98669331e-01,   2.95520207e-01,\n",
       "         3.89418342e-01,   4.79425539e-01,   5.64642473e-01,\n",
       "         6.44217687e-01,   7.17356091e-01,   7.83326910e-01,\n",
       "         8.41470985e-01,   8.91207360e-01,   9.32039086e-01,\n",
       "         9.63558185e-01,   9.85449730e-01,   9.97494987e-01,\n",
       "         9.99573603e-01,   9.91664810e-01,   9.73847631e-01,\n",
       "         9.46300088e-01,   9.09297427e-01,   8.63209367e-01,\n",
       "         8.08496404e-01,   7.45705212e-01,   6.75463181e-01,\n",
       "         5.98472144e-01,   5.15501372e-01,   4.27379880e-01,\n",
       "         3.34988150e-01,   2.39249329e-01,   1.41120008e-01,\n",
       "         4.15806624e-02,  -5.83741434e-02,  -1.57745694e-01,\n",
       "        -2.55541102e-01,  -3.50783228e-01,  -4.42520443e-01,\n",
       "        -5.29836141e-01,  -6.11857891e-01,  -6.87766159e-01,\n",
       "        -7.56802495e-01,  -8.18277111e-01,  -8.71575772e-01,\n",
       "        -9.16165937e-01,  -9.51602074e-01,  -9.77530118e-01,\n",
       "        -9.93691004e-01,  -9.99923258e-01,  -9.96164609e-01,\n",
       "        -9.82452613e-01])"
      ]
     },
     "execution_count": 12,
     "metadata": {},
     "output_type": "execute_result"
    }
   ],
   "source": [
    "np.sin(np.arange(-5.0, 5.0, 0.1))"
   ]
  },
  {
   "cell_type": "code",
   "execution_count": 13,
   "metadata": {
    "collapsed": true
   },
   "outputs": [],
   "source": [
    "df_math = pd.DataFrame({i: [np.sin(i), np.cos(i)] for i in np.arange(np.pi*-1, np.pi, 0.1)}, index=['sin', 'cos'])"
   ]
  },
  {
   "cell_type": "code",
   "execution_count": 14,
   "metadata": {
    "scrolled": true
   },
   "outputs": [
    {
     "data": {
      "text/html": [
       "<div>\n",
       "<table border=\"1\" class=\"dataframe\">\n",
       "  <thead>\n",
       "    <tr style=\"text-align: right;\">\n",
       "      <th></th>\n",
       "      <th>sin</th>\n",
       "      <th>cos</th>\n",
       "    </tr>\n",
       "  </thead>\n",
       "  <tbody>\n",
       "    <tr>\n",
       "      <th>-3.141593</th>\n",
       "      <td>-1.224647e-16</td>\n",
       "      <td>-1.000000</td>\n",
       "    </tr>\n",
       "    <tr>\n",
       "      <th>-3.041593</th>\n",
       "      <td>-9.983342e-02</td>\n",
       "      <td>-0.995004</td>\n",
       "    </tr>\n",
       "    <tr>\n",
       "      <th>-2.941593</th>\n",
       "      <td>-1.986693e-01</td>\n",
       "      <td>-0.980067</td>\n",
       "    </tr>\n",
       "    <tr>\n",
       "      <th>-2.841593</th>\n",
       "      <td>-2.955202e-01</td>\n",
       "      <td>-0.955336</td>\n",
       "    </tr>\n",
       "    <tr>\n",
       "      <th>-2.741593</th>\n",
       "      <td>-3.894183e-01</td>\n",
       "      <td>-0.921061</td>\n",
       "    </tr>\n",
       "    <tr>\n",
       "      <th>-2.641593</th>\n",
       "      <td>-4.794255e-01</td>\n",
       "      <td>-0.877583</td>\n",
       "    </tr>\n",
       "    <tr>\n",
       "      <th>-2.541593</th>\n",
       "      <td>-5.646425e-01</td>\n",
       "      <td>-0.825336</td>\n",
       "    </tr>\n",
       "    <tr>\n",
       "      <th>-2.441593</th>\n",
       "      <td>-6.442177e-01</td>\n",
       "      <td>-0.764842</td>\n",
       "    </tr>\n",
       "    <tr>\n",
       "      <th>-2.341593</th>\n",
       "      <td>-7.173561e-01</td>\n",
       "      <td>-0.696707</td>\n",
       "    </tr>\n",
       "    <tr>\n",
       "      <th>-2.241593</th>\n",
       "      <td>-7.833269e-01</td>\n",
       "      <td>-0.621610</td>\n",
       "    </tr>\n",
       "    <tr>\n",
       "      <th>-2.141593</th>\n",
       "      <td>-8.414710e-01</td>\n",
       "      <td>-0.540302</td>\n",
       "    </tr>\n",
       "    <tr>\n",
       "      <th>-2.041593</th>\n",
       "      <td>-8.912074e-01</td>\n",
       "      <td>-0.453596</td>\n",
       "    </tr>\n",
       "    <tr>\n",
       "      <th>-1.941593</th>\n",
       "      <td>-9.320391e-01</td>\n",
       "      <td>-0.362358</td>\n",
       "    </tr>\n",
       "    <tr>\n",
       "      <th>-1.841593</th>\n",
       "      <td>-9.635582e-01</td>\n",
       "      <td>-0.267499</td>\n",
       "    </tr>\n",
       "    <tr>\n",
       "      <th>-1.741593</th>\n",
       "      <td>-9.854497e-01</td>\n",
       "      <td>-0.169967</td>\n",
       "    </tr>\n",
       "    <tr>\n",
       "      <th>-1.641593</th>\n",
       "      <td>-9.974950e-01</td>\n",
       "      <td>-0.070737</td>\n",
       "    </tr>\n",
       "    <tr>\n",
       "      <th>-1.541593</th>\n",
       "      <td>-9.995736e-01</td>\n",
       "      <td>0.029200</td>\n",
       "    </tr>\n",
       "    <tr>\n",
       "      <th>-1.441593</th>\n",
       "      <td>-9.916648e-01</td>\n",
       "      <td>0.128844</td>\n",
       "    </tr>\n",
       "    <tr>\n",
       "      <th>-1.341593</th>\n",
       "      <td>-9.738476e-01</td>\n",
       "      <td>0.227202</td>\n",
       "    </tr>\n",
       "    <tr>\n",
       "      <th>-1.241593</th>\n",
       "      <td>-9.463001e-01</td>\n",
       "      <td>0.323290</td>\n",
       "    </tr>\n",
       "    <tr>\n",
       "      <th>-1.141593</th>\n",
       "      <td>-9.092974e-01</td>\n",
       "      <td>0.416147</td>\n",
       "    </tr>\n",
       "    <tr>\n",
       "      <th>-1.041593</th>\n",
       "      <td>-8.632094e-01</td>\n",
       "      <td>0.504846</td>\n",
       "    </tr>\n",
       "    <tr>\n",
       "      <th>-0.941593</th>\n",
       "      <td>-8.084964e-01</td>\n",
       "      <td>0.588501</td>\n",
       "    </tr>\n",
       "    <tr>\n",
       "      <th>-0.841593</th>\n",
       "      <td>-7.457052e-01</td>\n",
       "      <td>0.666276</td>\n",
       "    </tr>\n",
       "    <tr>\n",
       "      <th>-0.741593</th>\n",
       "      <td>-6.754632e-01</td>\n",
       "      <td>0.737394</td>\n",
       "    </tr>\n",
       "    <tr>\n",
       "      <th>-0.641593</th>\n",
       "      <td>-5.984721e-01</td>\n",
       "      <td>0.801144</td>\n",
       "    </tr>\n",
       "    <tr>\n",
       "      <th>-0.541593</th>\n",
       "      <td>-5.155014e-01</td>\n",
       "      <td>0.856889</td>\n",
       "    </tr>\n",
       "    <tr>\n",
       "      <th>-0.441593</th>\n",
       "      <td>-4.273799e-01</td>\n",
       "      <td>0.904072</td>\n",
       "    </tr>\n",
       "    <tr>\n",
       "      <th>-0.341593</th>\n",
       "      <td>-3.349882e-01</td>\n",
       "      <td>0.942222</td>\n",
       "    </tr>\n",
       "    <tr>\n",
       "      <th>-0.241593</th>\n",
       "      <td>-2.392493e-01</td>\n",
       "      <td>0.970958</td>\n",
       "    </tr>\n",
       "    <tr>\n",
       "      <th>...</th>\n",
       "      <td>...</td>\n",
       "      <td>...</td>\n",
       "    </tr>\n",
       "    <tr>\n",
       "      <th>0.158407</th>\n",
       "      <td>1.577457e-01</td>\n",
       "      <td>0.987480</td>\n",
       "    </tr>\n",
       "    <tr>\n",
       "      <th>0.258407</th>\n",
       "      <td>2.555411e-01</td>\n",
       "      <td>0.966798</td>\n",
       "    </tr>\n",
       "    <tr>\n",
       "      <th>0.358407</th>\n",
       "      <td>3.507832e-01</td>\n",
       "      <td>0.936457</td>\n",
       "    </tr>\n",
       "    <tr>\n",
       "      <th>0.458407</th>\n",
       "      <td>4.425204e-01</td>\n",
       "      <td>0.896758</td>\n",
       "    </tr>\n",
       "    <tr>\n",
       "      <th>0.558407</th>\n",
       "      <td>5.298361e-01</td>\n",
       "      <td>0.848100</td>\n",
       "    </tr>\n",
       "    <tr>\n",
       "      <th>0.658407</th>\n",
       "      <td>6.118579e-01</td>\n",
       "      <td>0.790968</td>\n",
       "    </tr>\n",
       "    <tr>\n",
       "      <th>0.758407</th>\n",
       "      <td>6.877662e-01</td>\n",
       "      <td>0.725932</td>\n",
       "    </tr>\n",
       "    <tr>\n",
       "      <th>0.858407</th>\n",
       "      <td>7.568025e-01</td>\n",
       "      <td>0.653644</td>\n",
       "    </tr>\n",
       "    <tr>\n",
       "      <th>0.958407</th>\n",
       "      <td>8.182771e-01</td>\n",
       "      <td>0.574824</td>\n",
       "    </tr>\n",
       "    <tr>\n",
       "      <th>1.058407</th>\n",
       "      <td>8.715758e-01</td>\n",
       "      <td>0.490261</td>\n",
       "    </tr>\n",
       "    <tr>\n",
       "      <th>1.158407</th>\n",
       "      <td>9.161659e-01</td>\n",
       "      <td>0.400799</td>\n",
       "    </tr>\n",
       "    <tr>\n",
       "      <th>1.258407</th>\n",
       "      <td>9.516021e-01</td>\n",
       "      <td>0.307333</td>\n",
       "    </tr>\n",
       "    <tr>\n",
       "      <th>1.358407</th>\n",
       "      <td>9.775301e-01</td>\n",
       "      <td>0.210796</td>\n",
       "    </tr>\n",
       "    <tr>\n",
       "      <th>1.458407</th>\n",
       "      <td>9.936910e-01</td>\n",
       "      <td>0.112153</td>\n",
       "    </tr>\n",
       "    <tr>\n",
       "      <th>1.558407</th>\n",
       "      <td>9.999233e-01</td>\n",
       "      <td>0.012389</td>\n",
       "    </tr>\n",
       "    <tr>\n",
       "      <th>1.658407</th>\n",
       "      <td>9.961646e-01</td>\n",
       "      <td>-0.087499</td>\n",
       "    </tr>\n",
       "    <tr>\n",
       "      <th>1.758407</th>\n",
       "      <td>9.824526e-01</td>\n",
       "      <td>-0.186512</td>\n",
       "    </tr>\n",
       "    <tr>\n",
       "      <th>1.858407</th>\n",
       "      <td>9.589243e-01</td>\n",
       "      <td>-0.283662</td>\n",
       "    </tr>\n",
       "    <tr>\n",
       "      <th>1.958407</th>\n",
       "      <td>9.258147e-01</td>\n",
       "      <td>-0.377978</td>\n",
       "    </tr>\n",
       "    <tr>\n",
       "      <th>2.058407</th>\n",
       "      <td>8.834547e-01</td>\n",
       "      <td>-0.468517</td>\n",
       "    </tr>\n",
       "    <tr>\n",
       "      <th>2.158407</th>\n",
       "      <td>8.322674e-01</td>\n",
       "      <td>-0.554374</td>\n",
       "    </tr>\n",
       "    <tr>\n",
       "      <th>2.258407</th>\n",
       "      <td>7.727645e-01</td>\n",
       "      <td>-0.634693</td>\n",
       "    </tr>\n",
       "    <tr>\n",
       "      <th>2.358407</th>\n",
       "      <td>7.055403e-01</td>\n",
       "      <td>-0.708670</td>\n",
       "    </tr>\n",
       "    <tr>\n",
       "      <th>2.458407</th>\n",
       "      <td>6.312666e-01</td>\n",
       "      <td>-0.775566</td>\n",
       "    </tr>\n",
       "    <tr>\n",
       "      <th>2.558407</th>\n",
       "      <td>5.506855e-01</td>\n",
       "      <td>-0.834713</td>\n",
       "    </tr>\n",
       "    <tr>\n",
       "      <th>2.658407</th>\n",
       "      <td>4.646022e-01</td>\n",
       "      <td>-0.885520</td>\n",
       "    </tr>\n",
       "    <tr>\n",
       "      <th>2.758407</th>\n",
       "      <td>3.738767e-01</td>\n",
       "      <td>-0.927478</td>\n",
       "    </tr>\n",
       "    <tr>\n",
       "      <th>2.858407</th>\n",
       "      <td>2.794155e-01</td>\n",
       "      <td>-0.960170</td>\n",
       "    </tr>\n",
       "    <tr>\n",
       "      <th>2.958407</th>\n",
       "      <td>1.821625e-01</td>\n",
       "      <td>-0.983268</td>\n",
       "    </tr>\n",
       "    <tr>\n",
       "      <th>3.058407</th>\n",
       "      <td>8.308940e-02</td>\n",
       "      <td>-0.996542</td>\n",
       "    </tr>\n",
       "  </tbody>\n",
       "</table>\n",
       "<p>63 rows × 2 columns</p>\n",
       "</div>"
      ],
      "text/plain": [
       "                    sin       cos\n",
       "-3.141593 -1.224647e-16 -1.000000\n",
       "-3.041593 -9.983342e-02 -0.995004\n",
       "-2.941593 -1.986693e-01 -0.980067\n",
       "-2.841593 -2.955202e-01 -0.955336\n",
       "-2.741593 -3.894183e-01 -0.921061\n",
       "-2.641593 -4.794255e-01 -0.877583\n",
       "-2.541593 -5.646425e-01 -0.825336\n",
       "-2.441593 -6.442177e-01 -0.764842\n",
       "-2.341593 -7.173561e-01 -0.696707\n",
       "-2.241593 -7.833269e-01 -0.621610\n",
       "-2.141593 -8.414710e-01 -0.540302\n",
       "-2.041593 -8.912074e-01 -0.453596\n",
       "-1.941593 -9.320391e-01 -0.362358\n",
       "-1.841593 -9.635582e-01 -0.267499\n",
       "-1.741593 -9.854497e-01 -0.169967\n",
       "-1.641593 -9.974950e-01 -0.070737\n",
       "-1.541593 -9.995736e-01  0.029200\n",
       "-1.441593 -9.916648e-01  0.128844\n",
       "-1.341593 -9.738476e-01  0.227202\n",
       "-1.241593 -9.463001e-01  0.323290\n",
       "-1.141593 -9.092974e-01  0.416147\n",
       "-1.041593 -8.632094e-01  0.504846\n",
       "-0.941593 -8.084964e-01  0.588501\n",
       "-0.841593 -7.457052e-01  0.666276\n",
       "-0.741593 -6.754632e-01  0.737394\n",
       "-0.641593 -5.984721e-01  0.801144\n",
       "-0.541593 -5.155014e-01  0.856889\n",
       "-0.441593 -4.273799e-01  0.904072\n",
       "-0.341593 -3.349882e-01  0.942222\n",
       "-0.241593 -2.392493e-01  0.970958\n",
       "...                 ...       ...\n",
       " 0.158407  1.577457e-01  0.987480\n",
       " 0.258407  2.555411e-01  0.966798\n",
       " 0.358407  3.507832e-01  0.936457\n",
       " 0.458407  4.425204e-01  0.896758\n",
       " 0.558407  5.298361e-01  0.848100\n",
       " 0.658407  6.118579e-01  0.790968\n",
       " 0.758407  6.877662e-01  0.725932\n",
       " 0.858407  7.568025e-01  0.653644\n",
       " 0.958407  8.182771e-01  0.574824\n",
       " 1.058407  8.715758e-01  0.490261\n",
       " 1.158407  9.161659e-01  0.400799\n",
       " 1.258407  9.516021e-01  0.307333\n",
       " 1.358407  9.775301e-01  0.210796\n",
       " 1.458407  9.936910e-01  0.112153\n",
       " 1.558407  9.999233e-01  0.012389\n",
       " 1.658407  9.961646e-01 -0.087499\n",
       " 1.758407  9.824526e-01 -0.186512\n",
       " 1.858407  9.589243e-01 -0.283662\n",
       " 1.958407  9.258147e-01 -0.377978\n",
       " 2.058407  8.834547e-01 -0.468517\n",
       " 2.158407  8.322674e-01 -0.554374\n",
       " 2.258407  7.727645e-01 -0.634693\n",
       " 2.358407  7.055403e-01 -0.708670\n",
       " 2.458407  6.312666e-01 -0.775566\n",
       " 2.558407  5.506855e-01 -0.834713\n",
       " 2.658407  4.646022e-01 -0.885520\n",
       " 2.758407  3.738767e-01 -0.927478\n",
       " 2.858407  2.794155e-01 -0.960170\n",
       " 2.958407  1.821625e-01 -0.983268\n",
       " 3.058407  8.308940e-02 -0.996542\n",
       "\n",
       "[63 rows x 2 columns]"
      ]
     },
     "execution_count": 14,
     "metadata": {},
     "output_type": "execute_result"
    }
   ],
   "source": [
    "df_math.T"
   ]
  },
  {
   "cell_type": "code",
   "execution_count": 15,
   "metadata": {
    "collapsed": true
   },
   "outputs": [],
   "source": [
    "df = df_math.T.copy()"
   ]
  },
  {
   "cell_type": "code",
   "execution_count": 17,
   "metadata": {},
   "outputs": [
    {
     "data": {
      "text/plain": [
       "<matplotlib.legend.Legend at 0x109e8cfd0>"
      ]
     },
     "execution_count": 17,
     "metadata": {},
     "output_type": "execute_result"
    },
    {
     "data": {
      "image/png": "[encoded data removed]",
      "text/plain": [
       "<matplotlib.figure.Figure at 0x109e41898>"
      ]
     },
     "metadata": {},
     "output_type": "display_data"
    }
   ],
   "source": [
    "fig, ax = plt.subplots()\n",
    "ax.set_xlabel(\"時間 (rad)\")\n",
    "ax.plot(df.index, df['sin'], color=\"b\", marker=\"x\")\n",
    "ax.plot(df.index, df['cos'], color=\"r\", marker=\"o\", linestyle='--')\n",
    "handles, labels = ax.get_legend_handles_labels()\n",
    "ax.legend(handles, labels)"
   ]
  },
  {
   "cell_type": "code",
   "execution_count": null,
   "metadata": {
    "collapsed": true
   },
   "outputs": [],
   "source": []
  }
 ],
 "metadata": {
  "kernelspec": {
   "display_name": "Python 3",
   "language": "python",
   "name": "python3"
  },
  "language_info": {
   "codemirror_mode": {
    "name": "ipython",
    "version": 3
   },
   "file_extension": ".py",
   "mimetype": "text/x-python",
   "name": "python",
   "nbconvert_exporter": "python",
   "pygments_lexer": "ipython3",
   "version": "3.6.1"
  }
 },
 "nbformat": 4,
 "nbformat_minor": 2
}
