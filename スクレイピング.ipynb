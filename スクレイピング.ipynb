{
 "cells": [
  {
   "cell_type": "code",
   "execution_count": 1,
   "metadata": {
    "collapsed": true
   },
   "outputs": [],
   "source": [
    "import requests\n",
    "from bs4 import BeautifulSoup"
   ]
  },
  {
   "cell_type": "markdown",
   "metadata": {},
   "source": [
    "```\n",
    "必要なライブラリの2つをインポートします\n",
    "```"
   ]
  },
  {
   "cell_type": "code",
   "execution_count": 2,
   "metadata": {
    "collapsed": true
   },
   "outputs": [],
   "source": [
    "url = \"https://www.bizlearn.jp/\""
   ]
  },
  {
   "cell_type": "markdown",
   "metadata": {},
   "source": [
    "```\n",
    "取得するサイトのURLを定義します。\n",
    "```"
   ]
  },
  {
   "cell_type": "code",
   "execution_count": 3,
   "metadata": {
    "collapsed": true
   },
   "outputs": [],
   "source": [
    "res = requests.get(url)"
   ]
  },
  {
   "cell_type": "markdown",
   "metadata": {},
   "source": [
    "```\n",
    "requestライブラリのget関数を使い、指定のURLにアクセスを行います\n",
    "```"
   ]
  },
  {
   "cell_type": "code",
   "execution_count": 4,
   "metadata": {},
   "outputs": [
    {
     "data": {
      "text/plain": [
       "<Response [200]>"
      ]
     },
     "execution_count": 4,
     "metadata": {},
     "output_type": "execute_result"
    }
   ],
   "source": [
    "res"
   ]
  },
  {
   "cell_type": "markdown",
   "metadata": {},
   "source": [
    "```\n",
    "アクセスした結果を確認します。\n",
    "２００番が返ってきたので、取得が成功しました。この200番は、HTTPレスポンスと言われるものです。\n",
    "200番以外に有名なのは、 404 Not Found ページが見つかりませんでした。などがあります。\n",
    "```"
   ]
  },
  {
   "cell_type": "code",
   "execution_count": 5,
   "metadata": {},
   "outputs": [
    {
     "data": {
      "text/plain": [
       "b'\\xef\\xbb\\xbf\\r\\n<!DOCTYPE html>\\r\\n<html lang=\"ja\">\\r\\n<head>\\r\\n    <meta charset=\"utf-8\">\\r\\n    <title>BizLearn</title>\\r\\n    <meta http-equiv=\"X-UA-Compatible\" content=\"IE=Edge\">\\r\\n    <meta name=\"viewport\" content=\"initial-scale=1, maximum-scale=1, user-scalable=no\">\\r\\n    <meta name=\"smartaddon-verification\" conten'"
      ]
     },
     "execution_count": 5,
     "metadata": {},
     "output_type": "execute_result"
    }
   ],
   "source": [
    "res.content[:300]"
   ]
  },
  {
   "cell_type": "markdown",
   "metadata": {},
   "source": [
    "```\n",
    "レスポンスデータの本文の先頭を出力しています。\n",
    "```"
   ]
  },
  {
   "cell_type": "code",
   "execution_count": 6,
   "metadata": {
    "scrolled": true
   },
   "outputs": [
    {
     "data": {
      "text/plain": [
       "bytes"
      ]
     },
     "execution_count": 6,
     "metadata": {},
     "output_type": "execute_result"
    }
   ],
   "source": [
    "type(res.content)"
   ]
  },
  {
   "cell_type": "markdown",
   "metadata": {},
   "source": [
    "```\n",
    "b` から始まるので、バイト型で取得できたことがわかりますが、type関数で確認してみます。\n",
    "```"
   ]
  },
  {
   "cell_type": "code",
   "execution_count": 7,
   "metadata": {
    "collapsed": true
   },
   "outputs": [],
   "source": [
    "soup = BeautifulSoup(res.content, 'html.parser')"
   ]
  },
  {
   "cell_type": "markdown",
   "metadata": {
    "collapsed": true
   },
   "source": [
    "```\n",
    "先程のバイト型のデータをそのまま人が読むことは難しいと思います。\n",
    "BeautifulSoupを使って、HTMLの解析を行います。\n",
    "```"
   ]
  },
  {
   "cell_type": "code",
   "execution_count": 8,
   "metadata": {},
   "outputs": [
    {
     "data": {
      "text/plain": [
       "50"
      ]
     },
     "execution_count": 8,
     "metadata": {},
     "output_type": "execute_result"
    }
   ],
   "source": [
    "len(soup.find_all(class_=\"crsItem\"))"
   ]
  },
  {
   "cell_type": "markdown",
   "metadata": {},
   "source": [
    "```\n",
    "前もって、Webブラウザで、必要な要素を確認していました。\n",
    "ここでは、 class=\"crsItem\" が繰り返されていることをしっていたので、先程解析したHTMLの中から、指定のクラスを抜き出しています。\n",
    "find_allメソッドをつかい、クラスを指定して取得しています。\n",
    "class_ とアンダースコア付きになっていますが、これは、Pythonの予約語である、classとかぶらないように、class_と指定することにBeautifulSoupでは決まっています。\n",
    "\n",
    "今回は 50件取得できました。\n",
    "```"
   ]
  },
  {
   "cell_type": "code",
   "execution_count": 9,
   "metadata": {
    "collapsed": true
   },
   "outputs": [],
   "source": [
    "course = soup.find_all(class_=\"crsItem\")[0]"
   ]
  },
  {
   "cell_type": "markdown",
   "metadata": {},
   "source": [
    "```\n",
    "最初の要素で見ていきましょう。\n",
    "```"
   ]
  },
  {
   "cell_type": "code",
   "execution_count": 10,
   "metadata": {},
   "outputs": [
    {
     "data": {
      "text/plain": [
       "bs4.element.Tag"
      ]
     },
     "execution_count": 10,
     "metadata": {},
     "output_type": "execute_result"
    }
   ],
   "source": [
    "type(course)"
   ]
  },
  {
   "cell_type": "markdown",
   "metadata": {},
   "source": [
    "```\n",
    "この要素は、Tagという型になっています\n",
    "```"
   ]
  },
  {
   "cell_type": "code",
   "execution_count": 11,
   "metadata": {
    "scrolled": true
   },
   "outputs": [
    {
     "data": {
      "text/plain": [
       "<div class=\"crsItem hl-2\" id=\"business\">\n",
       "<a class=\"crsInfo\" href=\"javascript:lecture('00026B11');\">\n",
       "<img src=\"common/images/course/course_card001.png\"/>\n",
       "<span class=\"crsDetail\">\n",
       "<span class=\"crsTtl\">チームが活性化するコミュニケーション</span>\n",
       "<span class=\"crsUni\">　</span>\n",
       "<span class=\"crsName\">標準学習時間：10時間 </span>\n",
       "<span class=\"crsDate\">チュータ： なし　　<span class=\"label-status3\">開講中</span></span>\n",
       "<span class=\"crsOpt\">　</span>\n",
       "</span>\n",
       "</a>\n",
       "</div>"
      ]
     },
     "execution_count": 11,
     "metadata": {},
     "output_type": "execute_result"
    }
   ],
   "source": [
    "course"
   ]
  },
  {
   "cell_type": "markdown",
   "metadata": {},
   "source": [
    "```\n",
    "コースの中身を見てみます。\n",
    "\n",
    "div要素の１ブロックが取得されています。\n",
    "このHTML要素の中の必要なものを一つずつ抜き出していきます。\n",
    "```"
   ]
  },
  {
   "cell_type": "code",
   "execution_count": 12,
   "metadata": {},
   "outputs": [
    {
     "data": {
      "text/plain": [
       "<span class=\"crsTtl\">チームが活性化するコミュニケーション</span>"
      ]
     },
     "execution_count": 12,
     "metadata": {},
     "output_type": "execute_result"
    }
   ],
   "source": [
    "course.find(class_='crsTtl')"
   ]
  },
  {
   "cell_type": "markdown",
   "metadata": {},
   "source": [
    "```\n",
    "最初がタイトルに相当する部分です。\n",
    "findメソッドをつかい、class_キーワード引数にしていのクラス名をいれています。\n",
    "子要素のtagが取得できました。\n",
    "```"
   ]
  },
  {
   "cell_type": "code",
   "execution_count": 13,
   "metadata": {},
   "outputs": [
    {
     "data": {
      "text/plain": [
       "'チームが活性化するコミュニケーション'"
      ]
     },
     "execution_count": 13,
     "metadata": {},
     "output_type": "execute_result"
    }
   ],
   "source": [
    "course.find(class_='crsTtl').get_text()"
   ]
  },
  {
   "cell_type": "markdown",
   "metadata": {},
   "source": [
    "```\n",
    "今回必要なものは、このタグの中に入っているテキストです。\n",
    "get_textメソッドを使って取得します。\n",
    "```"
   ]
  },
  {
   "cell_type": "code",
   "execution_count": 14,
   "metadata": {},
   "outputs": [
    {
     "data": {
      "text/plain": [
       "'標準学習時間：10時間 '"
      ]
     },
     "execution_count": 14,
     "metadata": {},
     "output_type": "execute_result"
    }
   ],
   "source": [
    "course.find(class_='crsName').get_text()"
   ]
  },
  {
   "cell_type": "markdown",
   "metadata": {},
   "source": [
    "```\n",
    "同様に、学習に必要な時間がこのクラスに入っていましたので取得します。\n",
    "```"
   ]
  },
  {
   "cell_type": "code",
   "execution_count": 15,
   "metadata": {
    "scrolled": true
   },
   "outputs": [
    {
     "data": {
      "text/plain": [
       "'チュータ： なし\\u3000\\u3000開講中'"
      ]
     },
     "execution_count": 15,
     "metadata": {},
     "output_type": "execute_result"
    }
   ],
   "source": [
    "course.find(class_='crsDate').get_text()"
   ]
  },
  {
   "cell_type": "markdown",
   "metadata": {},
   "source": [
    "```\n",
    "開校状態などを示すクラスがあったので、同様に取得します\n",
    "```"
   ]
  },
  {
   "cell_type": "code",
   "execution_count": 16,
   "metadata": {},
   "outputs": [],
   "source": [
    "result = []\n",
    "for elm in soup.find_all(class_=\"crsItem\"):\n",
    "    title = elm.find(class_=\"crsTtl\")\n",
    "    hours = elm.find(class_='crsName')\n",
    "    status = elm.find(class_='crsDate')\n",
    "    if title is not None and hours is not None and status is not None:\n",
    "        result.append({'title': title.get_text(), \"hours\": hours.get_text(), \"status\": status.get_text()})"
   ]
  },
  {
   "cell_type": "markdown",
   "metadata": {},
   "source": [
    "```\n",
    "一つのブロックをステップ・バイ・ステップで取得してきましたが、\n",
    "ここでは、すべてのコースからそれぞれ、タイトル、必要な時間、状態の３つを取得します。\n",
    "\n",
    "for文を用いて、順次取得し、最後に取得したオブジェクトがNoneでないことを確認しています。\n",
    "Noneでないものを、dict型にし、リストにとりまとめています。\n",
    "\n",
    "これらの動作は、本講座の姉妹コースである、Python入門で解説しています。\n",
    "```"
   ]
  },
  {
   "cell_type": "code",
   "execution_count": 17,
   "metadata": {},
   "outputs": [
    {
     "data": {
      "text/plain": [
       "[{'hours': '標準学習時間：10時間 ',\n",
       "  'status': 'チュータ： なし\\u3000\\u3000開講中',\n",
       "  'title': 'チームが活性化するコミュニケーション'},\n",
       " {'hours': '標準学習時間：10時間 ',\n",
       "  'status': 'チュータ： なし\\u3000\\u3000開講中',\n",
       "  'title': '成果を出すタイムマネジメント'},\n",
       " {'hours': '標準学習時間：10時間 ',\n",
       "  'status': 'チュータ： なし\\u3000\\u3000開講中',\n",
       "  'title': '説得力のあるプレゼンテーション'},\n",
       " {'hours': '標準学習時間：10時間 ',\n",
       "  'status': 'チュータ： なし\\u3000\\u3000開講中',\n",
       "  'title': '目標を達成させるリーダーシップ'},\n",
       " {'hours': '標準学習時間：10時間 ',\n",
       "  'status': 'チュータ： なし\\u3000\\u3000開講中',\n",
       "  'title': 'パフォーマンスを上げるロジカル・シンキング'},\n",
       " {'hours': '標準学習時間：10時間 ',\n",
       "  'status': 'チュータ： なし\\u3000\\u3000開講中',\n",
       "  'title': '売れる仕組みをつくりだすマーケティング'},\n",
       " {'hours': '標準学習時間：10時間 ',\n",
       "  'status': 'チュータ： なし\\u3000\\u3000開講中',\n",
       "  'title': '問題解決のためのビジネスアナリシス －BABOK(R)入門－'},\n",
       " {'hours': '標準学習時間：10時間 ',\n",
       "  'status': 'チュータ： なし\\u3000\\u3000開講中',\n",
       "  'title': '会議の目的とファシリテーション'},\n",
       " {'hours': '標準学習時間：10時間 ',\n",
       "  'status': 'チュータ： なし\\u3000\\u3000開講中',\n",
       "  'title': '課題設定力と解決実行プロセス'},\n",
       " {'hours': '標準学習時間：10時間 ',\n",
       "  'status': 'チュータ： なし\\u3000\\u3000開講中',\n",
       "  'title': '企業会計ベーシック'},\n",
       " {'hours': '標準学習時間：0.5時間 ',\n",
       "  'status': 'チュータ： なし\\u3000\\u3000開講中',\n",
       "  'title': '動画で学ぶ！労働安全衛生の基礎知識'},\n",
       " {'hours': '標準学習時間：10時間 ',\n",
       "  'status': 'チュータ： なし\\u3000\\u3000開講中',\n",
       "  'title': '金融の基礎知識'},\n",
       " {'hours': '標準学習時間：7時間 ',\n",
       "  'status': 'チュータ： なし\\u3000\\u3000開講中',\n",
       "  'title': '簿記の基礎知識'},\n",
       " {'hours': '標準学習時間：20時間 ',\n",
       "  'status': 'チュータ： なし\\u3000\\u3000開講中',\n",
       "  'title': '仕訳でマスター！簿記３級への徹底演習'},\n",
       " {'hours': '標準学習時間：60時間 ',\n",
       "  'status': 'チュータ： あり\\u3000\\u3000開講中',\n",
       "  'title': '【新出題方式CBT対応】2017年版 ITパスポート試験 合格総合対策コース'},\n",
       " {'hours': '標準学習時間：125時間 ',\n",
       "  'status': 'チュータ： あり\\u3000\\u3000開講中',\n",
       "  'title': '2017年版 基本情報技術者試験 合格総合対策コース (C)'},\n",
       " {'hours': '標準学習時間：125時間 ',\n",
       "  'status': 'チュータ： あり\\u3000\\u3000開講中',\n",
       "  'title': '2017年版 基本情報技術者試験 合格総合対策コース (COBOL)'},\n",
       " {'hours': '標準学習時間：125時間 ',\n",
       "  'status': 'チュータ： あり\\u3000\\u3000開講中',\n",
       "  'title': '2017年版 基本情報技術者試験 合格総合対策コース (Java)'},\n",
       " {'hours': '標準学習時間：125時間 ',\n",
       "  'status': 'チュータ： あり\\u3000\\u3000開講中',\n",
       "  'title': '2017年版 基本情報技術者試験 合格総合対策コース (アセンブラ言語)'},\n",
       " {'hours': '標準学習時間：125時間 ',\n",
       "  'status': 'チュータ： あり\\u3000\\u3000開講中',\n",
       "  'title': '2017年版 基本情報技術者試験 合格総合対策コース (表計算)'},\n",
       " {'hours': '標準学習時間：135時間 ',\n",
       "  'status': 'チュータ： あり\\u3000\\u3000開講中',\n",
       "  'title': '2017年版 基本情報技術者試験 合格ナビ付 総合対策コース (C)'},\n",
       " {'hours': '標準学習時間：135時間 ',\n",
       "  'status': 'チュータ： あり\\u3000\\u3000開講中',\n",
       "  'title': '2017年版 基本情報技術者試験 合格ナビ付 総合対策コース (COBOL)'},\n",
       " {'hours': '標準学習時間：135時間 ',\n",
       "  'status': 'チュータ： あり\\u3000\\u3000開講中',\n",
       "  'title': '2017年版 基本情報技術者試験 合格ナビ付 総合対策コース (Java)'},\n",
       " {'hours': '標準学習時間：135時間 ',\n",
       "  'status': 'チュータ： あり\\u3000\\u3000開講中',\n",
       "  'title': '2017年版 基本情報技術者試験 合格ナビ付 総合対策コース (アセンブラ言語)'},\n",
       " {'hours': '標準学習時間：135時間 ',\n",
       "  'status': 'チュータ： あり\\u3000\\u3000開講中',\n",
       "  'title': '2017年版 基本情報技術者試験 合格ナビ付 総合対策コース (表計算)'},\n",
       " {'hours': '標準学習時間：50時間 ',\n",
       "  'status': 'チュータ： なし\\u3000\\u3000開講中',\n",
       "  'title': '2017年版 応用情報技術者試験 徹底演習コース'},\n",
       " {'hours': '標準学習時間：10時間 ',\n",
       "  'status': 'チュータ： なし\\u3000\\u3000開講中',\n",
       "  'title': '第二種衛生管理者試験\\u3000徹底演習コース'},\n",
       " {'hours': '標準学習時間：25時間 ',\n",
       "  'status': 'チュータ： なし\\u3000\\u3000開講中',\n",
       "  'title': '第二種衛生管理者試験\\u3000合格総合対策コース'},\n",
       " {'hours': '標準学習時間：25時間 ',\n",
       "  'status': 'チュータ： あり\\u3000\\u3000開講中',\n",
       "  'title': '徹底添削！英文ビジネスeメール入門'},\n",
       " {'hours': '標準学習時間：7時間 ',\n",
       "  'status': 'チュータ： あり\\u3000\\u3000開講中',\n",
       "  'title': '英文ビジネスeメール入門(A)[依頼・確認・お礼]編'},\n",
       " {'hours': '標準学習時間：7時間 ',\n",
       "  'status': 'チュータ： あり\\u3000\\u3000開講中',\n",
       "  'title': '英文ビジネスeメール入門(B)[問合せ・打合せ設定・発注]編'},\n",
       " {'hours': '標準学習時間：7時間 ',\n",
       "  'status': 'チュータ： あり\\u3000\\u3000開講中',\n",
       "  'title': '英文ビジネスeメール入門(C)[お知らせ・お詫び・招待]編'},\n",
       " {'hours': '標準学習時間：20時間 ',\n",
       "  'status': 'チュータ： なし\\u3000\\u3000開講中',\n",
       "  'title': 'オフィス英語'},\n",
       " {'hours': '標準学習時間：20時間 ',\n",
       "  'status': 'チュータ： なし\\u3000\\u3000開講中',\n",
       "  'title': '海外赴任前の英語研修'},\n",
       " {'hours': '標準学習時間：48時間 ',\n",
       "  'status': 'チュータ： なし\\u3000\\u3000開講中',\n",
       "  'title': 'English Aya Pod フルシーズン（#1to4）'},\n",
       " {'hours': '標準学習時間：72時間 ',\n",
       "  'status': 'チュータ： なし\\u3000\\u3000開講中',\n",
       "  'title': 'English Aya Pod フルシーズン（#5to8）'},\n",
       " {'hours': '標準学習時間：18時間 ',\n",
       "  'status': 'チュータ： なし\\u3000\\u3000開講中',\n",
       "  'title': '【Act in English】 声に出す！スピーキング基礎（フルシーズン）'},\n",
       " {'hours': '標準学習時間：60時間 ',\n",
       "  'status': 'チュータ： あり\\u3000\\u3000開講中',\n",
       "  'title': '【新試験対応】TOEIC(R)テスト 総合実力養成コース'},\n",
       " {'hours': '標準学習時間：30時間 ',\n",
       "  'status': 'チュータ： あり\\u3000\\u3000開講中',\n",
       "  'title': '【新試験対応】やさしい基礎英語コース（TOEIC(R)テスト 350点目標）'},\n",
       " {'hours': '標準学習時間：30時間 ',\n",
       "  'status': 'チュータ： あり\\u3000\\u3000開講中',\n",
       "  'title': '【新試験対応】TOEIC(R)テスト 470点実力養成コース '},\n",
       " {'hours': '標準学習時間：30時間 ',\n",
       "  'status': 'チュータ： あり\\u3000\\u3000開講中',\n",
       "  'title': '【新試験対応】TOEIC(R)テスト 600点実力養成コース '},\n",
       " {'hours': '標準学習時間：30時間 ',\n",
       "  'status': 'チュータ： あり\\u3000\\u3000開講中',\n",
       "  'title': '【新試験対応】TOEIC(R)テスト 上級者 実力養成コース（730点以上）'},\n",
       " {'hours': '標準学習時間：20時間 ',\n",
       "  'status': 'チュータ： なし\\u3000\\u3000開講中',\n",
       "  'title': '【新試験対応】TOEIC(R)テスト 470点直前対策テスト'},\n",
       " {'hours': '標準学習時間：20時間 ',\n",
       "  'status': 'チュータ： なし\\u3000\\u3000開講中',\n",
       "  'title': '【新試験対応】TOEIC(R)テスト 600点直前対策テスト'},\n",
       " {'hours': '標準学習時間：20時間 ',\n",
       "  'status': 'チュータ： なし\\u3000\\u3000開講中',\n",
       "  'title': '【新試験対応】TOEIC(R)テスト 上級者 直前対策テスト（730点以上）'},\n",
       " {'hours': '標準学習時間：2時間 ',\n",
       "  'status': 'チュータ： なし\\u3000\\u3000開講中',\n",
       "  'title': '早川式～レベル別 TOEIC(R) L&R TEST スコアアップセミナー'},\n",
       " {'hours': '標準学習時間：60時間 ',\n",
       "  'status': 'チュータ： なし\\u3000\\u3000開講中',\n",
       "  'title': '呉燕先生とステップアップ中国語～入門編'},\n",
       " {'hours': '標準学習時間：30時間 ',\n",
       "  'status': 'チュータ： あり\\u3000\\u3000開講中',\n",
       "  'title': 'ビジネスと生活にいかす\\u3000基礎からしっかり中国語会話入門'}]"
      ]
     },
     "execution_count": 17,
     "metadata": {},
     "output_type": "execute_result"
    }
   ],
   "source": [
    "result"
   ]
  },
  {
   "cell_type": "markdown",
   "metadata": {},
   "source": [
    "```\n",
    "結果を表示しています。\n",
    "無事に出力できたようです。\n",
    "```"
   ]
  },
  {
   "cell_type": "code",
   "execution_count": 18,
   "metadata": {
    "collapsed": true
   },
   "outputs": [],
   "source": [
    "import pandas as pd"
   ]
  },
  {
   "cell_type": "markdown",
   "metadata": {},
   "source": [
    "```\n",
    "スクレイピングで取得したデータをpandasのデータフレームに変換するために、pandasをインポートします\n",
    "```"
   ]
  },
  {
   "cell_type": "code",
   "execution_count": 19,
   "metadata": {},
   "outputs": [],
   "source": [
    "df = pd.DataFrame(result)"
   ]
  },
  {
   "cell_type": "markdown",
   "metadata": {},
   "source": [
    "```\n",
    "for文で作った、辞書を内包したリストをDataFrameに渡します。\n",
    "```"
   ]
  },
  {
   "cell_type": "code",
   "execution_count": 20,
   "metadata": {
    "scrolled": true
   },
   "outputs": [
    {
     "data": {
      "text/html": [
       "<div>\n",
       "<table border=\"1\" class=\"dataframe\">\n",
       "  <thead>\n",
       "    <tr style=\"text-align: right;\">\n",
       "      <th></th>\n",
       "      <th>hours</th>\n",
       "      <th>status</th>\n",
       "      <th>title</th>\n",
       "    </tr>\n",
       "  </thead>\n",
       "  <tbody>\n",
       "    <tr>\n",
       "      <th>0</th>\n",
       "      <td>標準学習時間：10時間</td>\n",
       "      <td>チュータ： なし　　開講中</td>\n",
       "      <td>チームが活性化するコミュニケーション</td>\n",
       "    </tr>\n",
       "    <tr>\n",
       "      <th>1</th>\n",
       "      <td>標準学習時間：10時間</td>\n",
       "      <td>チュータ： なし　　開講中</td>\n",
       "      <td>成果を出すタイムマネジメント</td>\n",
       "    </tr>\n",
       "    <tr>\n",
       "      <th>2</th>\n",
       "      <td>標準学習時間：10時間</td>\n",
       "      <td>チュータ： なし　　開講中</td>\n",
       "      <td>説得力のあるプレゼンテーション</td>\n",
       "    </tr>\n",
       "    <tr>\n",
       "      <th>3</th>\n",
       "      <td>標準学習時間：10時間</td>\n",
       "      <td>チュータ： なし　　開講中</td>\n",
       "      <td>目標を達成させるリーダーシップ</td>\n",
       "    </tr>\n",
       "    <tr>\n",
       "      <th>4</th>\n",
       "      <td>標準学習時間：10時間</td>\n",
       "      <td>チュータ： なし　　開講中</td>\n",
       "      <td>パフォーマンスを上げるロジカル・シンキング</td>\n",
       "    </tr>\n",
       "    <tr>\n",
       "      <th>5</th>\n",
       "      <td>標準学習時間：10時間</td>\n",
       "      <td>チュータ： なし　　開講中</td>\n",
       "      <td>売れる仕組みをつくりだすマーケティング</td>\n",
       "    </tr>\n",
       "    <tr>\n",
       "      <th>6</th>\n",
       "      <td>標準学習時間：10時間</td>\n",
       "      <td>チュータ： なし　　開講中</td>\n",
       "      <td>問題解決のためのビジネスアナリシス －BABOK(R)入門－</td>\n",
       "    </tr>\n",
       "    <tr>\n",
       "      <th>7</th>\n",
       "      <td>標準学習時間：10時間</td>\n",
       "      <td>チュータ： なし　　開講中</td>\n",
       "      <td>会議の目的とファシリテーション</td>\n",
       "    </tr>\n",
       "    <tr>\n",
       "      <th>8</th>\n",
       "      <td>標準学習時間：10時間</td>\n",
       "      <td>チュータ： なし　　開講中</td>\n",
       "      <td>課題設定力と解決実行プロセス</td>\n",
       "    </tr>\n",
       "    <tr>\n",
       "      <th>9</th>\n",
       "      <td>標準学習時間：10時間</td>\n",
       "      <td>チュータ： なし　　開講中</td>\n",
       "      <td>企業会計ベーシック</td>\n",
       "    </tr>\n",
       "    <tr>\n",
       "      <th>10</th>\n",
       "      <td>標準学習時間：0.5時間</td>\n",
       "      <td>チュータ： なし　　開講中</td>\n",
       "      <td>動画で学ぶ！労働安全衛生の基礎知識</td>\n",
       "    </tr>\n",
       "    <tr>\n",
       "      <th>11</th>\n",
       "      <td>標準学習時間：10時間</td>\n",
       "      <td>チュータ： なし　　開講中</td>\n",
       "      <td>金融の基礎知識</td>\n",
       "    </tr>\n",
       "    <tr>\n",
       "      <th>12</th>\n",
       "      <td>標準学習時間：7時間</td>\n",
       "      <td>チュータ： なし　　開講中</td>\n",
       "      <td>簿記の基礎知識</td>\n",
       "    </tr>\n",
       "    <tr>\n",
       "      <th>13</th>\n",
       "      <td>標準学習時間：20時間</td>\n",
       "      <td>チュータ： なし　　開講中</td>\n",
       "      <td>仕訳でマスター！簿記３級への徹底演習</td>\n",
       "    </tr>\n",
       "    <tr>\n",
       "      <th>14</th>\n",
       "      <td>標準学習時間：60時間</td>\n",
       "      <td>チュータ： あり　　開講中</td>\n",
       "      <td>【新出題方式CBT対応】2017年版 ITパスポート試験 合格総合対策コース</td>\n",
       "    </tr>\n",
       "    <tr>\n",
       "      <th>15</th>\n",
       "      <td>標準学習時間：125時間</td>\n",
       "      <td>チュータ： あり　　開講中</td>\n",
       "      <td>2017年版 基本情報技術者試験 合格総合対策コース (C)</td>\n",
       "    </tr>\n",
       "    <tr>\n",
       "      <th>16</th>\n",
       "      <td>標準学習時間：125時間</td>\n",
       "      <td>チュータ： あり　　開講中</td>\n",
       "      <td>2017年版 基本情報技術者試験 合格総合対策コース (COBOL)</td>\n",
       "    </tr>\n",
       "    <tr>\n",
       "      <th>17</th>\n",
       "      <td>標準学習時間：125時間</td>\n",
       "      <td>チュータ： あり　　開講中</td>\n",
       "      <td>2017年版 基本情報技術者試験 合格総合対策コース (Java)</td>\n",
       "    </tr>\n",
       "    <tr>\n",
       "      <th>18</th>\n",
       "      <td>標準学習時間：125時間</td>\n",
       "      <td>チュータ： あり　　開講中</td>\n",
       "      <td>2017年版 基本情報技術者試験 合格総合対策コース (アセンブラ言語)</td>\n",
       "    </tr>\n",
       "    <tr>\n",
       "      <th>19</th>\n",
       "      <td>標準学習時間：125時間</td>\n",
       "      <td>チュータ： あり　　開講中</td>\n",
       "      <td>2017年版 基本情報技術者試験 合格総合対策コース (表計算)</td>\n",
       "    </tr>\n",
       "    <tr>\n",
       "      <th>20</th>\n",
       "      <td>標準学習時間：135時間</td>\n",
       "      <td>チュータ： あり　　開講中</td>\n",
       "      <td>2017年版 基本情報技術者試験 合格ナビ付 総合対策コース (C)</td>\n",
       "    </tr>\n",
       "    <tr>\n",
       "      <th>21</th>\n",
       "      <td>標準学習時間：135時間</td>\n",
       "      <td>チュータ： あり　　開講中</td>\n",
       "      <td>2017年版 基本情報技術者試験 合格ナビ付 総合対策コース (COBOL)</td>\n",
       "    </tr>\n",
       "    <tr>\n",
       "      <th>22</th>\n",
       "      <td>標準学習時間：135時間</td>\n",
       "      <td>チュータ： あり　　開講中</td>\n",
       "      <td>2017年版 基本情報技術者試験 合格ナビ付 総合対策コース (Java)</td>\n",
       "    </tr>\n",
       "    <tr>\n",
       "      <th>23</th>\n",
       "      <td>標準学習時間：135時間</td>\n",
       "      <td>チュータ： あり　　開講中</td>\n",
       "      <td>2017年版 基本情報技術者試験 合格ナビ付 総合対策コース (アセンブラ言語)</td>\n",
       "    </tr>\n",
       "    <tr>\n",
       "      <th>24</th>\n",
       "      <td>標準学習時間：135時間</td>\n",
       "      <td>チュータ： あり　　開講中</td>\n",
       "      <td>2017年版 基本情報技術者試験 合格ナビ付 総合対策コース (表計算)</td>\n",
       "    </tr>\n",
       "    <tr>\n",
       "      <th>25</th>\n",
       "      <td>標準学習時間：50時間</td>\n",
       "      <td>チュータ： なし　　開講中</td>\n",
       "      <td>2017年版 応用情報技術者試験 徹底演習コース</td>\n",
       "    </tr>\n",
       "    <tr>\n",
       "      <th>26</th>\n",
       "      <td>標準学習時間：10時間</td>\n",
       "      <td>チュータ： なし　　開講中</td>\n",
       "      <td>第二種衛生管理者試験　徹底演習コース</td>\n",
       "    </tr>\n",
       "    <tr>\n",
       "      <th>27</th>\n",
       "      <td>標準学習時間：25時間</td>\n",
       "      <td>チュータ： なし　　開講中</td>\n",
       "      <td>第二種衛生管理者試験　合格総合対策コース</td>\n",
       "    </tr>\n",
       "    <tr>\n",
       "      <th>28</th>\n",
       "      <td>標準学習時間：25時間</td>\n",
       "      <td>チュータ： あり　　開講中</td>\n",
       "      <td>徹底添削！英文ビジネスeメール入門</td>\n",
       "    </tr>\n",
       "    <tr>\n",
       "      <th>29</th>\n",
       "      <td>標準学習時間：7時間</td>\n",
       "      <td>チュータ： あり　　開講中</td>\n",
       "      <td>英文ビジネスeメール入門(A)[依頼・確認・お礼]編</td>\n",
       "    </tr>\n",
       "    <tr>\n",
       "      <th>30</th>\n",
       "      <td>標準学習時間：7時間</td>\n",
       "      <td>チュータ： あり　　開講中</td>\n",
       "      <td>英文ビジネスeメール入門(B)[問合せ・打合せ設定・発注]編</td>\n",
       "    </tr>\n",
       "    <tr>\n",
       "      <th>31</th>\n",
       "      <td>標準学習時間：7時間</td>\n",
       "      <td>チュータ： あり　　開講中</td>\n",
       "      <td>英文ビジネスeメール入門(C)[お知らせ・お詫び・招待]編</td>\n",
       "    </tr>\n",
       "    <tr>\n",
       "      <th>32</th>\n",
       "      <td>標準学習時間：20時間</td>\n",
       "      <td>チュータ： なし　　開講中</td>\n",
       "      <td>オフィス英語</td>\n",
       "    </tr>\n",
       "    <tr>\n",
       "      <th>33</th>\n",
       "      <td>標準学習時間：20時間</td>\n",
       "      <td>チュータ： なし　　開講中</td>\n",
       "      <td>海外赴任前の英語研修</td>\n",
       "    </tr>\n",
       "    <tr>\n",
       "      <th>34</th>\n",
       "      <td>標準学習時間：48時間</td>\n",
       "      <td>チュータ： なし　　開講中</td>\n",
       "      <td>English Aya Pod フルシーズン（#1to4）</td>\n",
       "    </tr>\n",
       "    <tr>\n",
       "      <th>35</th>\n",
       "      <td>標準学習時間：72時間</td>\n",
       "      <td>チュータ： なし　　開講中</td>\n",
       "      <td>English Aya Pod フルシーズン（#5to8）</td>\n",
       "    </tr>\n",
       "    <tr>\n",
       "      <th>36</th>\n",
       "      <td>標準学習時間：18時間</td>\n",
       "      <td>チュータ： なし　　開講中</td>\n",
       "      <td>【Act in English】 声に出す！スピーキング基礎（フルシーズン）</td>\n",
       "    </tr>\n",
       "    <tr>\n",
       "      <th>37</th>\n",
       "      <td>標準学習時間：60時間</td>\n",
       "      <td>チュータ： あり　　開講中</td>\n",
       "      <td>【新試験対応】TOEIC(R)テスト 総合実力養成コース</td>\n",
       "    </tr>\n",
       "    <tr>\n",
       "      <th>38</th>\n",
       "      <td>標準学習時間：30時間</td>\n",
       "      <td>チュータ： あり　　開講中</td>\n",
       "      <td>【新試験対応】やさしい基礎英語コース（TOEIC(R)テスト 350点目標）</td>\n",
       "    </tr>\n",
       "    <tr>\n",
       "      <th>39</th>\n",
       "      <td>標準学習時間：30時間</td>\n",
       "      <td>チュータ： あり　　開講中</td>\n",
       "      <td>【新試験対応】TOEIC(R)テスト 470点実力養成コース</td>\n",
       "    </tr>\n",
       "    <tr>\n",
       "      <th>40</th>\n",
       "      <td>標準学習時間：30時間</td>\n",
       "      <td>チュータ： あり　　開講中</td>\n",
       "      <td>【新試験対応】TOEIC(R)テスト 600点実力養成コース</td>\n",
       "    </tr>\n",
       "    <tr>\n",
       "      <th>41</th>\n",
       "      <td>標準学習時間：30時間</td>\n",
       "      <td>チュータ： あり　　開講中</td>\n",
       "      <td>【新試験対応】TOEIC(R)テスト 上級者 実力養成コース（730点以上）</td>\n",
       "    </tr>\n",
       "    <tr>\n",
       "      <th>42</th>\n",
       "      <td>標準学習時間：20時間</td>\n",
       "      <td>チュータ： なし　　開講中</td>\n",
       "      <td>【新試験対応】TOEIC(R)テスト 470点直前対策テスト</td>\n",
       "    </tr>\n",
       "    <tr>\n",
       "      <th>43</th>\n",
       "      <td>標準学習時間：20時間</td>\n",
       "      <td>チュータ： なし　　開講中</td>\n",
       "      <td>【新試験対応】TOEIC(R)テスト 600点直前対策テスト</td>\n",
       "    </tr>\n",
       "    <tr>\n",
       "      <th>44</th>\n",
       "      <td>標準学習時間：20時間</td>\n",
       "      <td>チュータ： なし　　開講中</td>\n",
       "      <td>【新試験対応】TOEIC(R)テスト 上級者 直前対策テスト（730点以上）</td>\n",
       "    </tr>\n",
       "    <tr>\n",
       "      <th>45</th>\n",
       "      <td>標準学習時間：2時間</td>\n",
       "      <td>チュータ： なし　　開講中</td>\n",
       "      <td>早川式～レベル別 TOEIC(R) L&amp;R TEST スコアアップセミナー</td>\n",
       "    </tr>\n",
       "    <tr>\n",
       "      <th>46</th>\n",
       "      <td>標準学習時間：60時間</td>\n",
       "      <td>チュータ： なし　　開講中</td>\n",
       "      <td>呉燕先生とステップアップ中国語～入門編</td>\n",
       "    </tr>\n",
       "    <tr>\n",
       "      <th>47</th>\n",
       "      <td>標準学習時間：30時間</td>\n",
       "      <td>チュータ： あり　　開講中</td>\n",
       "      <td>ビジネスと生活にいかす　基礎からしっかり中国語会話入門</td>\n",
       "    </tr>\n",
       "  </tbody>\n",
       "</table>\n",
       "</div>"
      ],
      "text/plain": [
       "            hours         status                                     title\n",
       "0    標準学習時間：10時間   チュータ： なし　　開講中                        チームが活性化するコミュニケーション\n",
       "1    標準学習時間：10時間   チュータ： なし　　開講中                            成果を出すタイムマネジメント\n",
       "2    標準学習時間：10時間   チュータ： なし　　開講中                           説得力のあるプレゼンテーション\n",
       "3    標準学習時間：10時間   チュータ： なし　　開講中                           目標を達成させるリーダーシップ\n",
       "4    標準学習時間：10時間   チュータ： なし　　開講中                     パフォーマンスを上げるロジカル・シンキング\n",
       "5    標準学習時間：10時間   チュータ： なし　　開講中                       売れる仕組みをつくりだすマーケティング\n",
       "6    標準学習時間：10時間   チュータ： なし　　開講中            問題解決のためのビジネスアナリシス －BABOK(R)入門－\n",
       "7    標準学習時間：10時間   チュータ： なし　　開講中                           会議の目的とファシリテーション\n",
       "8    標準学習時間：10時間   チュータ： なし　　開講中                            課題設定力と解決実行プロセス\n",
       "9    標準学習時間：10時間   チュータ： なし　　開講中                                 企業会計ベーシック\n",
       "10  標準学習時間：0.5時間   チュータ： なし　　開講中                         動画で学ぶ！労働安全衛生の基礎知識\n",
       "11   標準学習時間：10時間   チュータ： なし　　開講中                                   金融の基礎知識\n",
       "12    標準学習時間：7時間   チュータ： なし　　開講中                                   簿記の基礎知識\n",
       "13   標準学習時間：20時間   チュータ： なし　　開講中                        仕訳でマスター！簿記３級への徹底演習\n",
       "14   標準学習時間：60時間   チュータ： あり　　開講中    【新出題方式CBT対応】2017年版 ITパスポート試験 合格総合対策コース\n",
       "15  標準学習時間：125時間   チュータ： あり　　開講中            2017年版 基本情報技術者試験 合格総合対策コース (C)\n",
       "16  標準学習時間：125時間   チュータ： あり　　開講中        2017年版 基本情報技術者試験 合格総合対策コース (COBOL)\n",
       "17  標準学習時間：125時間   チュータ： あり　　開講中         2017年版 基本情報技術者試験 合格総合対策コース (Java)\n",
       "18  標準学習時間：125時間   チュータ： あり　　開講中      2017年版 基本情報技術者試験 合格総合対策コース (アセンブラ言語)\n",
       "19  標準学習時間：125時間   チュータ： あり　　開講中          2017年版 基本情報技術者試験 合格総合対策コース (表計算)\n",
       "20  標準学習時間：135時間   チュータ： あり　　開講中        2017年版 基本情報技術者試験 合格ナビ付 総合対策コース (C)\n",
       "21  標準学習時間：135時間   チュータ： あり　　開講中    2017年版 基本情報技術者試験 合格ナビ付 総合対策コース (COBOL)\n",
       "22  標準学習時間：135時間   チュータ： あり　　開講中     2017年版 基本情報技術者試験 合格ナビ付 総合対策コース (Java)\n",
       "23  標準学習時間：135時間   チュータ： あり　　開講中  2017年版 基本情報技術者試験 合格ナビ付 総合対策コース (アセンブラ言語)\n",
       "24  標準学習時間：135時間   チュータ： あり　　開講中      2017年版 基本情報技術者試験 合格ナビ付 総合対策コース (表計算)\n",
       "25   標準学習時間：50時間   チュータ： なし　　開講中                  2017年版 応用情報技術者試験 徹底演習コース\n",
       "26   標準学習時間：10時間   チュータ： なし　　開講中                        第二種衛生管理者試験　徹底演習コース\n",
       "27   標準学習時間：25時間   チュータ： なし　　開講中                      第二種衛生管理者試験　合格総合対策コース\n",
       "28   標準学習時間：25時間   チュータ： あり　　開講中                         徹底添削！英文ビジネスeメール入門\n",
       "29    標準学習時間：7時間   チュータ： あり　　開講中                英文ビジネスeメール入門(A)[依頼・確認・お礼]編\n",
       "30    標準学習時間：7時間   チュータ： あり　　開講中            英文ビジネスeメール入門(B)[問合せ・打合せ設定・発注]編\n",
       "31    標準学習時間：7時間   チュータ： あり　　開講中             英文ビジネスeメール入門(C)[お知らせ・お詫び・招待]編\n",
       "32   標準学習時間：20時間   チュータ： なし　　開講中                                    オフィス英語\n",
       "33   標準学習時間：20時間   チュータ： なし　　開講中                                海外赴任前の英語研修\n",
       "34   標準学習時間：48時間   チュータ： なし　　開講中             English Aya Pod フルシーズン（#1to4）\n",
       "35   標準学習時間：72時間   チュータ： なし　　開講中             English Aya Pod フルシーズン（#5to8）\n",
       "36   標準学習時間：18時間   チュータ： なし　　開講中    【Act in English】 声に出す！スピーキング基礎（フルシーズン）\n",
       "37   標準学習時間：60時間   チュータ： あり　　開講中              【新試験対応】TOEIC(R)テスト 総合実力養成コース\n",
       "38   標準学習時間：30時間   チュータ： あり　　開講中    【新試験対応】やさしい基礎英語コース（TOEIC(R)テスト 350点目標）\n",
       "39   標準学習時間：30時間   チュータ： あり　　開講中           【新試験対応】TOEIC(R)テスト 470点実力養成コース \n",
       "40   標準学習時間：30時間   チュータ： あり　　開講中           【新試験対応】TOEIC(R)テスト 600点実力養成コース \n",
       "41   標準学習時間：30時間   チュータ： あり　　開講中    【新試験対応】TOEIC(R)テスト 上級者 実力養成コース（730点以上）\n",
       "42   標準学習時間：20時間   チュータ： なし　　開講中            【新試験対応】TOEIC(R)テスト 470点直前対策テスト\n",
       "43   標準学習時間：20時間   チュータ： なし　　開講中            【新試験対応】TOEIC(R)テスト 600点直前対策テスト\n",
       "44   標準学習時間：20時間   チュータ： なし　　開講中    【新試験対応】TOEIC(R)テスト 上級者 直前対策テスト（730点以上）\n",
       "45    標準学習時間：2時間   チュータ： なし　　開講中     早川式～レベル別 TOEIC(R) L&R TEST スコアアップセミナー\n",
       "46   標準学習時間：60時間   チュータ： なし　　開講中                       呉燕先生とステップアップ中国語～入門編\n",
       "47   標準学習時間：30時間   チュータ： あり　　開講中               ビジネスと生活にいかす　基礎からしっかり中国語会話入門"
      ]
     },
     "execution_count": 20,
     "metadata": {},
     "output_type": "execute_result"
    }
   ],
   "source": [
    "df"
   ]
  },
  {
   "cell_type": "markdown",
   "metadata": {},
   "source": [
    "```\n",
    "データフレームの中を見てみます。\n",
    "簡単にデータフレームに置き換わりました。\n",
    "```"
   ]
  },
  {
   "cell_type": "markdown",
   "metadata": {},
   "source": [
    "# 完成版ソースコード"
   ]
  },
  {
   "cell_type": "code",
   "execution_count": 21,
   "metadata": {
    "collapsed": true
   },
   "outputs": [],
   "source": [
    "import requests\n",
    "from bs4 import BeautifulSoup\n",
    "import pandas as pd\n",
    "\n",
    "url = \"https://www.bizlearn.jp/\"\n",
    "res = requests.get(url)\n",
    "soup = BeautifulSoup(res.content, 'html.parser')\n",
    "result = []\n",
    "for elm in soup.find_all(class_=\"crsItem\"):\n",
    "    title = elm.find(class_=\"crsTtl\")\n",
    "    hours = elm.find(class_='crsName')\n",
    "    status = elm.find(class_='crsDate')\n",
    "    if title is not None and hours is not None and status is not None:\n",
    "        result.append({'title': title.get_text(), \n",
    "                                   \"hours\": hours.get_text(), \n",
    "                                   \"status\": status.get_text()})\n",
    "\n",
    "df = pd.DataFrame(result)     "
   ]
  },
  {
   "cell_type": "markdown",
   "metadata": {},
   "source": [
    "```\n",
    "完成版のソースコードです。\n",
    "```"
   ]
  },
  {
   "cell_type": "code",
   "execution_count": 22,
   "metadata": {
    "scrolled": true
   },
   "outputs": [
    {
     "data": {
      "text/html": [
       "<div>\n",
       "<table border=\"1\" class=\"dataframe\">\n",
       "  <thead>\n",
       "    <tr style=\"text-align: right;\">\n",
       "      <th></th>\n",
       "      <th>hours</th>\n",
       "      <th>status</th>\n",
       "      <th>title</th>\n",
       "    </tr>\n",
       "  </thead>\n",
       "  <tbody>\n",
       "    <tr>\n",
       "      <th>0</th>\n",
       "      <td>標準学習時間：10時間</td>\n",
       "      <td>チュータ： なし　　開講中</td>\n",
       "      <td>チームが活性化するコミュニケーション</td>\n",
       "    </tr>\n",
       "    <tr>\n",
       "      <th>1</th>\n",
       "      <td>標準学習時間：10時間</td>\n",
       "      <td>チュータ： なし　　開講中</td>\n",
       "      <td>成果を出すタイムマネジメント</td>\n",
       "    </tr>\n",
       "    <tr>\n",
       "      <th>2</th>\n",
       "      <td>標準学習時間：10時間</td>\n",
       "      <td>チュータ： なし　　開講中</td>\n",
       "      <td>説得力のあるプレゼンテーション</td>\n",
       "    </tr>\n",
       "    <tr>\n",
       "      <th>3</th>\n",
       "      <td>標準学習時間：10時間</td>\n",
       "      <td>チュータ： なし　　開講中</td>\n",
       "      <td>目標を達成させるリーダーシップ</td>\n",
       "    </tr>\n",
       "    <tr>\n",
       "      <th>4</th>\n",
       "      <td>標準学習時間：10時間</td>\n",
       "      <td>チュータ： なし　　開講中</td>\n",
       "      <td>パフォーマンスを上げるロジカル・シンキング</td>\n",
       "    </tr>\n",
       "    <tr>\n",
       "      <th>5</th>\n",
       "      <td>標準学習時間：10時間</td>\n",
       "      <td>チュータ： なし　　開講中</td>\n",
       "      <td>売れる仕組みをつくりだすマーケティング</td>\n",
       "    </tr>\n",
       "    <tr>\n",
       "      <th>6</th>\n",
       "      <td>標準学習時間：10時間</td>\n",
       "      <td>チュータ： なし　　開講中</td>\n",
       "      <td>問題解決のためのビジネスアナリシス －BABOK(R)入門－</td>\n",
       "    </tr>\n",
       "    <tr>\n",
       "      <th>7</th>\n",
       "      <td>標準学習時間：10時間</td>\n",
       "      <td>チュータ： なし　　開講中</td>\n",
       "      <td>会議の目的とファシリテーション</td>\n",
       "    </tr>\n",
       "    <tr>\n",
       "      <th>8</th>\n",
       "      <td>標準学習時間：10時間</td>\n",
       "      <td>チュータ： なし　　開講中</td>\n",
       "      <td>課題設定力と解決実行プロセス</td>\n",
       "    </tr>\n",
       "    <tr>\n",
       "      <th>9</th>\n",
       "      <td>標準学習時間：10時間</td>\n",
       "      <td>チュータ： なし　　開講中</td>\n",
       "      <td>企業会計ベーシック</td>\n",
       "    </tr>\n",
       "    <tr>\n",
       "      <th>10</th>\n",
       "      <td>標準学習時間：0.5時間</td>\n",
       "      <td>チュータ： なし　　開講中</td>\n",
       "      <td>動画で学ぶ！労働安全衛生の基礎知識</td>\n",
       "    </tr>\n",
       "    <tr>\n",
       "      <th>11</th>\n",
       "      <td>標準学習時間：10時間</td>\n",
       "      <td>チュータ： なし　　開講中</td>\n",
       "      <td>金融の基礎知識</td>\n",
       "    </tr>\n",
       "    <tr>\n",
       "      <th>12</th>\n",
       "      <td>標準学習時間：7時間</td>\n",
       "      <td>チュータ： なし　　開講中</td>\n",
       "      <td>簿記の基礎知識</td>\n",
       "    </tr>\n",
       "    <tr>\n",
       "      <th>13</th>\n",
       "      <td>標準学習時間：20時間</td>\n",
       "      <td>チュータ： なし　　開講中</td>\n",
       "      <td>仕訳でマスター！簿記３級への徹底演習</td>\n",
       "    </tr>\n",
       "    <tr>\n",
       "      <th>14</th>\n",
       "      <td>標準学習時間：60時間</td>\n",
       "      <td>チュータ： あり　　開講中</td>\n",
       "      <td>【新出題方式CBT対応】2017年版 ITパスポート試験 合格総合対策コース</td>\n",
       "    </tr>\n",
       "    <tr>\n",
       "      <th>15</th>\n",
       "      <td>標準学習時間：125時間</td>\n",
       "      <td>チュータ： あり　　開講中</td>\n",
       "      <td>2017年版 基本情報技術者試験 合格総合対策コース (C)</td>\n",
       "    </tr>\n",
       "    <tr>\n",
       "      <th>16</th>\n",
       "      <td>標準学習時間：125時間</td>\n",
       "      <td>チュータ： あり　　開講中</td>\n",
       "      <td>2017年版 基本情報技術者試験 合格総合対策コース (COBOL)</td>\n",
       "    </tr>\n",
       "    <tr>\n",
       "      <th>17</th>\n",
       "      <td>標準学習時間：125時間</td>\n",
       "      <td>チュータ： あり　　開講中</td>\n",
       "      <td>2017年版 基本情報技術者試験 合格総合対策コース (Java)</td>\n",
       "    </tr>\n",
       "    <tr>\n",
       "      <th>18</th>\n",
       "      <td>標準学習時間：125時間</td>\n",
       "      <td>チュータ： あり　　開講中</td>\n",
       "      <td>2017年版 基本情報技術者試験 合格総合対策コース (アセンブラ言語)</td>\n",
       "    </tr>\n",
       "    <tr>\n",
       "      <th>19</th>\n",
       "      <td>標準学習時間：125時間</td>\n",
       "      <td>チュータ： あり　　開講中</td>\n",
       "      <td>2017年版 基本情報技術者試験 合格総合対策コース (表計算)</td>\n",
       "    </tr>\n",
       "    <tr>\n",
       "      <th>20</th>\n",
       "      <td>標準学習時間：135時間</td>\n",
       "      <td>チュータ： あり　　開講中</td>\n",
       "      <td>2017年版 基本情報技術者試験 合格ナビ付 総合対策コース (C)</td>\n",
       "    </tr>\n",
       "    <tr>\n",
       "      <th>21</th>\n",
       "      <td>標準学習時間：135時間</td>\n",
       "      <td>チュータ： あり　　開講中</td>\n",
       "      <td>2017年版 基本情報技術者試験 合格ナビ付 総合対策コース (COBOL)</td>\n",
       "    </tr>\n",
       "    <tr>\n",
       "      <th>22</th>\n",
       "      <td>標準学習時間：135時間</td>\n",
       "      <td>チュータ： あり　　開講中</td>\n",
       "      <td>2017年版 基本情報技術者試験 合格ナビ付 総合対策コース (Java)</td>\n",
       "    </tr>\n",
       "    <tr>\n",
       "      <th>23</th>\n",
       "      <td>標準学習時間：135時間</td>\n",
       "      <td>チュータ： あり　　開講中</td>\n",
       "      <td>2017年版 基本情報技術者試験 合格ナビ付 総合対策コース (アセンブラ言語)</td>\n",
       "    </tr>\n",
       "    <tr>\n",
       "      <th>24</th>\n",
       "      <td>標準学習時間：135時間</td>\n",
       "      <td>チュータ： あり　　開講中</td>\n",
       "      <td>2017年版 基本情報技術者試験 合格ナビ付 総合対策コース (表計算)</td>\n",
       "    </tr>\n",
       "    <tr>\n",
       "      <th>25</th>\n",
       "      <td>標準学習時間：50時間</td>\n",
       "      <td>チュータ： なし　　開講中</td>\n",
       "      <td>2017年版 応用情報技術者試験 徹底演習コース</td>\n",
       "    </tr>\n",
       "    <tr>\n",
       "      <th>26</th>\n",
       "      <td>標準学習時間：10時間</td>\n",
       "      <td>チュータ： なし　　開講中</td>\n",
       "      <td>第二種衛生管理者試験　徹底演習コース</td>\n",
       "    </tr>\n",
       "    <tr>\n",
       "      <th>27</th>\n",
       "      <td>標準学習時間：25時間</td>\n",
       "      <td>チュータ： なし　　開講中</td>\n",
       "      <td>第二種衛生管理者試験　合格総合対策コース</td>\n",
       "    </tr>\n",
       "    <tr>\n",
       "      <th>28</th>\n",
       "      <td>標準学習時間：25時間</td>\n",
       "      <td>チュータ： あり　　開講中</td>\n",
       "      <td>徹底添削！英文ビジネスeメール入門</td>\n",
       "    </tr>\n",
       "    <tr>\n",
       "      <th>29</th>\n",
       "      <td>標準学習時間：7時間</td>\n",
       "      <td>チュータ： あり　　開講中</td>\n",
       "      <td>英文ビジネスeメール入門(A)[依頼・確認・お礼]編</td>\n",
       "    </tr>\n",
       "    <tr>\n",
       "      <th>30</th>\n",
       "      <td>標準学習時間：7時間</td>\n",
       "      <td>チュータ： あり　　開講中</td>\n",
       "      <td>英文ビジネスeメール入門(B)[問合せ・打合せ設定・発注]編</td>\n",
       "    </tr>\n",
       "    <tr>\n",
       "      <th>31</th>\n",
       "      <td>標準学習時間：7時間</td>\n",
       "      <td>チュータ： あり　　開講中</td>\n",
       "      <td>英文ビジネスeメール入門(C)[お知らせ・お詫び・招待]編</td>\n",
       "    </tr>\n",
       "    <tr>\n",
       "      <th>32</th>\n",
       "      <td>標準学習時間：20時間</td>\n",
       "      <td>チュータ： なし　　開講中</td>\n",
       "      <td>オフィス英語</td>\n",
       "    </tr>\n",
       "    <tr>\n",
       "      <th>33</th>\n",
       "      <td>標準学習時間：20時間</td>\n",
       "      <td>チュータ： なし　　開講中</td>\n",
       "      <td>海外赴任前の英語研修</td>\n",
       "    </tr>\n",
       "    <tr>\n",
       "      <th>34</th>\n",
       "      <td>標準学習時間：48時間</td>\n",
       "      <td>チュータ： なし　　開講中</td>\n",
       "      <td>English Aya Pod フルシーズン（#1to4）</td>\n",
       "    </tr>\n",
       "    <tr>\n",
       "      <th>35</th>\n",
       "      <td>標準学習時間：72時間</td>\n",
       "      <td>チュータ： なし　　開講中</td>\n",
       "      <td>English Aya Pod フルシーズン（#5to8）</td>\n",
       "    </tr>\n",
       "    <tr>\n",
       "      <th>36</th>\n",
       "      <td>標準学習時間：18時間</td>\n",
       "      <td>チュータ： なし　　開講中</td>\n",
       "      <td>【Act in English】 声に出す！スピーキング基礎（フルシーズン）</td>\n",
       "    </tr>\n",
       "    <tr>\n",
       "      <th>37</th>\n",
       "      <td>標準学習時間：60時間</td>\n",
       "      <td>チュータ： あり　　開講中</td>\n",
       "      <td>【新試験対応】TOEIC(R)テスト 総合実力養成コース</td>\n",
       "    </tr>\n",
       "    <tr>\n",
       "      <th>38</th>\n",
       "      <td>標準学習時間：30時間</td>\n",
       "      <td>チュータ： あり　　開講中</td>\n",
       "      <td>【新試験対応】やさしい基礎英語コース（TOEIC(R)テスト 350点目標）</td>\n",
       "    </tr>\n",
       "    <tr>\n",
       "      <th>39</th>\n",
       "      <td>標準学習時間：30時間</td>\n",
       "      <td>チュータ： あり　　開講中</td>\n",
       "      <td>【新試験対応】TOEIC(R)テスト 470点実力養成コース</td>\n",
       "    </tr>\n",
       "    <tr>\n",
       "      <th>40</th>\n",
       "      <td>標準学習時間：30時間</td>\n",
       "      <td>チュータ： あり　　開講中</td>\n",
       "      <td>【新試験対応】TOEIC(R)テスト 600点実力養成コース</td>\n",
       "    </tr>\n",
       "    <tr>\n",
       "      <th>41</th>\n",
       "      <td>標準学習時間：30時間</td>\n",
       "      <td>チュータ： あり　　開講中</td>\n",
       "      <td>【新試験対応】TOEIC(R)テスト 上級者 実力養成コース（730点以上）</td>\n",
       "    </tr>\n",
       "    <tr>\n",
       "      <th>42</th>\n",
       "      <td>標準学習時間：20時間</td>\n",
       "      <td>チュータ： なし　　開講中</td>\n",
       "      <td>【新試験対応】TOEIC(R)テスト 470点直前対策テスト</td>\n",
       "    </tr>\n",
       "    <tr>\n",
       "      <th>43</th>\n",
       "      <td>標準学習時間：20時間</td>\n",
       "      <td>チュータ： なし　　開講中</td>\n",
       "      <td>【新試験対応】TOEIC(R)テスト 600点直前対策テスト</td>\n",
       "    </tr>\n",
       "    <tr>\n",
       "      <th>44</th>\n",
       "      <td>標準学習時間：20時間</td>\n",
       "      <td>チュータ： なし　　開講中</td>\n",
       "      <td>【新試験対応】TOEIC(R)テスト 上級者 直前対策テスト（730点以上）</td>\n",
       "    </tr>\n",
       "    <tr>\n",
       "      <th>45</th>\n",
       "      <td>標準学習時間：2時間</td>\n",
       "      <td>チュータ： なし　　開講中</td>\n",
       "      <td>早川式～レベル別 TOEIC(R) L&amp;R TEST スコアアップセミナー</td>\n",
       "    </tr>\n",
       "    <tr>\n",
       "      <th>46</th>\n",
       "      <td>標準学習時間：60時間</td>\n",
       "      <td>チュータ： なし　　開講中</td>\n",
       "      <td>呉燕先生とステップアップ中国語～入門編</td>\n",
       "    </tr>\n",
       "    <tr>\n",
       "      <th>47</th>\n",
       "      <td>標準学習時間：30時間</td>\n",
       "      <td>チュータ： あり　　開講中</td>\n",
       "      <td>ビジネスと生活にいかす　基礎からしっかり中国語会話入門</td>\n",
       "    </tr>\n",
       "  </tbody>\n",
       "</table>\n",
       "</div>"
      ],
      "text/plain": [
       "            hours         status                                     title\n",
       "0    標準学習時間：10時間   チュータ： なし　　開講中                        チームが活性化するコミュニケーション\n",
       "1    標準学習時間：10時間   チュータ： なし　　開講中                            成果を出すタイムマネジメント\n",
       "2    標準学習時間：10時間   チュータ： なし　　開講中                           説得力のあるプレゼンテーション\n",
       "3    標準学習時間：10時間   チュータ： なし　　開講中                           目標を達成させるリーダーシップ\n",
       "4    標準学習時間：10時間   チュータ： なし　　開講中                     パフォーマンスを上げるロジカル・シンキング\n",
       "5    標準学習時間：10時間   チュータ： なし　　開講中                       売れる仕組みをつくりだすマーケティング\n",
       "6    標準学習時間：10時間   チュータ： なし　　開講中            問題解決のためのビジネスアナリシス －BABOK(R)入門－\n",
       "7    標準学習時間：10時間   チュータ： なし　　開講中                           会議の目的とファシリテーション\n",
       "8    標準学習時間：10時間   チュータ： なし　　開講中                            課題設定力と解決実行プロセス\n",
       "9    標準学習時間：10時間   チュータ： なし　　開講中                                 企業会計ベーシック\n",
       "10  標準学習時間：0.5時間   チュータ： なし　　開講中                         動画で学ぶ！労働安全衛生の基礎知識\n",
       "11   標準学習時間：10時間   チュータ： なし　　開講中                                   金融の基礎知識\n",
       "12    標準学習時間：7時間   チュータ： なし　　開講中                                   簿記の基礎知識\n",
       "13   標準学習時間：20時間   チュータ： なし　　開講中                        仕訳でマスター！簿記３級への徹底演習\n",
       "14   標準学習時間：60時間   チュータ： あり　　開講中    【新出題方式CBT対応】2017年版 ITパスポート試験 合格総合対策コース\n",
       "15  標準学習時間：125時間   チュータ： あり　　開講中            2017年版 基本情報技術者試験 合格総合対策コース (C)\n",
       "16  標準学習時間：125時間   チュータ： あり　　開講中        2017年版 基本情報技術者試験 合格総合対策コース (COBOL)\n",
       "17  標準学習時間：125時間   チュータ： あり　　開講中         2017年版 基本情報技術者試験 合格総合対策コース (Java)\n",
       "18  標準学習時間：125時間   チュータ： あり　　開講中      2017年版 基本情報技術者試験 合格総合対策コース (アセンブラ言語)\n",
       "19  標準学習時間：125時間   チュータ： あり　　開講中          2017年版 基本情報技術者試験 合格総合対策コース (表計算)\n",
       "20  標準学習時間：135時間   チュータ： あり　　開講中        2017年版 基本情報技術者試験 合格ナビ付 総合対策コース (C)\n",
       "21  標準学習時間：135時間   チュータ： あり　　開講中    2017年版 基本情報技術者試験 合格ナビ付 総合対策コース (COBOL)\n",
       "22  標準学習時間：135時間   チュータ： あり　　開講中     2017年版 基本情報技術者試験 合格ナビ付 総合対策コース (Java)\n",
       "23  標準学習時間：135時間   チュータ： あり　　開講中  2017年版 基本情報技術者試験 合格ナビ付 総合対策コース (アセンブラ言語)\n",
       "24  標準学習時間：135時間   チュータ： あり　　開講中      2017年版 基本情報技術者試験 合格ナビ付 総合対策コース (表計算)\n",
       "25   標準学習時間：50時間   チュータ： なし　　開講中                  2017年版 応用情報技術者試験 徹底演習コース\n",
       "26   標準学習時間：10時間   チュータ： なし　　開講中                        第二種衛生管理者試験　徹底演習コース\n",
       "27   標準学習時間：25時間   チュータ： なし　　開講中                      第二種衛生管理者試験　合格総合対策コース\n",
       "28   標準学習時間：25時間   チュータ： あり　　開講中                         徹底添削！英文ビジネスeメール入門\n",
       "29    標準学習時間：7時間   チュータ： あり　　開講中                英文ビジネスeメール入門(A)[依頼・確認・お礼]編\n",
       "30    標準学習時間：7時間   チュータ： あり　　開講中            英文ビジネスeメール入門(B)[問合せ・打合せ設定・発注]編\n",
       "31    標準学習時間：7時間   チュータ： あり　　開講中             英文ビジネスeメール入門(C)[お知らせ・お詫び・招待]編\n",
       "32   標準学習時間：20時間   チュータ： なし　　開講中                                    オフィス英語\n",
       "33   標準学習時間：20時間   チュータ： なし　　開講中                                海外赴任前の英語研修\n",
       "34   標準学習時間：48時間   チュータ： なし　　開講中             English Aya Pod フルシーズン（#1to4）\n",
       "35   標準学習時間：72時間   チュータ： なし　　開講中             English Aya Pod フルシーズン（#5to8）\n",
       "36   標準学習時間：18時間   チュータ： なし　　開講中    【Act in English】 声に出す！スピーキング基礎（フルシーズン）\n",
       "37   標準学習時間：60時間   チュータ： あり　　開講中              【新試験対応】TOEIC(R)テスト 総合実力養成コース\n",
       "38   標準学習時間：30時間   チュータ： あり　　開講中    【新試験対応】やさしい基礎英語コース（TOEIC(R)テスト 350点目標）\n",
       "39   標準学習時間：30時間   チュータ： あり　　開講中           【新試験対応】TOEIC(R)テスト 470点実力養成コース \n",
       "40   標準学習時間：30時間   チュータ： あり　　開講中           【新試験対応】TOEIC(R)テスト 600点実力養成コース \n",
       "41   標準学習時間：30時間   チュータ： あり　　開講中    【新試験対応】TOEIC(R)テスト 上級者 実力養成コース（730点以上）\n",
       "42   標準学習時間：20時間   チュータ： なし　　開講中            【新試験対応】TOEIC(R)テスト 470点直前対策テスト\n",
       "43   標準学習時間：20時間   チュータ： なし　　開講中            【新試験対応】TOEIC(R)テスト 600点直前対策テスト\n",
       "44   標準学習時間：20時間   チュータ： なし　　開講中    【新試験対応】TOEIC(R)テスト 上級者 直前対策テスト（730点以上）\n",
       "45    標準学習時間：2時間   チュータ： なし　　開講中     早川式～レベル別 TOEIC(R) L&R TEST スコアアップセミナー\n",
       "46   標準学習時間：60時間   チュータ： なし　　開講中                       呉燕先生とステップアップ中国語～入門編\n",
       "47   標準学習時間：30時間   チュータ： あり　　開講中               ビジネスと生活にいかす　基礎からしっかり中国語会話入門"
      ]
     },
     "execution_count": 22,
     "metadata": {},
     "output_type": "execute_result"
    }
   ],
   "source": [
    "df"
   ]
  },
  {
   "cell_type": "markdown",
   "metadata": {},
   "source": [
    "```\n",
    "最後に、完成版ソースコードで出力されたデータフレームを見てみます\n",
    "```"
   ]
  },
  {
   "cell_type": "code",
   "execution_count": null,
   "metadata": {
    "collapsed": true
   },
   "outputs": [],
   "source": []
  }
 ],
 "metadata": {
  "kernelspec": {
   "display_name": "Python 3",
   "language": "python",
   "name": "python3"
  },
  "language_info": {
   "codemirror_mode": {
    "name": "ipython",
    "version": 3
   },
   "file_extension": ".py",
   "mimetype": "text/x-python",
   "name": "python",
   "nbconvert_exporter": "python",
   "pygments_lexer": "ipython3",
   "version": "3.5.2"
  }
 },
 "nbformat": 4,
 "nbformat_minor": 2
}
