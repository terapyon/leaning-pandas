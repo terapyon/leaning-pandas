{
 "cells": [
  {
   "cell_type": "code",
   "execution_count": 2,
   "metadata": {
    "collapsed": true
   },
   "outputs": [],
   "source": [
    "import requests\n",
    "from bs4 import BeautifulSoup"
   ]
  },
  {
   "cell_type": "code",
   "execution_count": 23,
   "metadata": {
    "collapsed": true
   },
   "outputs": [],
   "source": [
    "url = \"https://open.netlearning.co.jp/index.aspx\""
   ]
  },
  {
   "cell_type": "code",
   "execution_count": 24,
   "metadata": {
    "collapsed": true
   },
   "outputs": [],
   "source": [
    "res = requests.get(url)"
   ]
  },
  {
   "cell_type": "code",
   "execution_count": 25,
   "metadata": {},
   "outputs": [
    {
     "data": {
      "text/plain": [
       "<Response [200]>"
      ]
     },
     "execution_count": 25,
     "metadata": {},
     "output_type": "execute_result"
    }
   ],
   "source": [
    "res"
   ]
  },
  {
   "cell_type": "code",
   "execution_count": 26,
   "metadata": {},
   "outputs": [
    {
     "data": {
      "text/plain": [
       "b'\\r\\n<!DOCTYPE html>\\r\\n<html lang=\"ja\">\\r\\n<head>\\r\\n    <meta charset=\"utf-8\">\\r\\n    <title>OpenLearning, Japan | JMOOC\\xe5\\x85\\xac\\xe8\\xaa\\x8d\\xef\\xbc\\x81 \\xe7\\x84\\xa1\\xe6\\x96\\x99\\xe3\\x81\\xa7\\xe5\\xad\\xa6\\xe3\\x81\\xb9\\xe3\\x82\\x8b\\xe3\\x82\\xaa\\xe3\\x83\\xb3\\xe3\\x83\\xa9\\xe3\\x82\\xa4\\xe3\\x83\\xb3\\xe5\\xa4\\xa7\\xe5\\xad\\xa6\\xe8\\xac\\x9b\\xe5\\xba\\xa7\\xe6\\x8f\\x90\\xe4\\xbe\\x9b\\xe3\\x82\\xb5\\xe3\\x83\\xbc\\xe3\\x83\\x93\\xe3\\x82\\xb9</title>\\r\\n    <meta http-equiv=\"X-UA-Compatible\" content=\"IE=Edge\">\\r\\n    <meta name=\"viewport\" content=\"initial-scale=1, maximum-scale=1, user-scalable=no\">\\r\\n    <meta name=\"smartaddon-verification\" content=\"936e8d43184bc47ef34e25e426c508fe\" />\\r\\n    <meta name=\"keywords\" content=\"OpenLearning,\\xe3\\x82\\xaa\\xe3\\x83\\xbc\\xe3\\x83\\x97\\xe3\\x83\\xb3\\xe3\\x83\\xa9\\xe3\\x83\\xbc\\xe3\\x83\\x8b\\xe3\\x83\\xb3\\xe3\\x82\\xb0,JMOOC,\\xe3\\x82\\xb8\\xe3\\x82\\xa7\\xe3\\x82\\xa4\\xe3\\x83\\xa0\\xe3\\x83\\xbc\\xe3\\x82\\xaf,MOOC,\\xe3\\x83\\xa0\\xe3\\x83\\xbc\\xe3\\x82\\xaf,\\xe7\\x84\\xa1\\xe6\\x96\\x99,\\xe5\\xa4\\xa7\\xe5\\xad\\xa6\\xe8\\xac\\x9b\\xe5\\xba\\xa7,\\xe3\\x82\\xaa\\xe3\\x83\\xb3\\xe3\\x83\\xa9\\xe3\\x82\\xa4\\xe3\\x83\\xb3\\xe8\\xac\\x9b\\xe5\\xba\\xa7,\\xe4\\xbf\\xae\\xe4\\xba\\x86\\xe8\\xa8\\xbc,\\xe5\\x8f\\x8d\\xe8\\xbb\\xa2\\xe5\\xad\\xa6\\xe7\\xbf\\x92\" />\\r\\n    <meta name=\"description\" content=\"\\xe5\\xad\\xa6\\xe3\\x81\\xb3\\xe3\\x82\\x92\\xe3\\x82\\x82\\xe3\\x81\\xa3\\xe3\\x81\\xa8\\xe3\\x82\\xaa\\xe3\\x83\\xbc\\xe3\\x83\\x97\\xe3\\x83\\xb3\\xe3\\x81\\xab\\xe3\\x80\\x82JMOOC\\xe5\\x85\\xac\\xe8\\xaa\\x8d\\xe3\\x82\\xb5\\xe3\\x83\\xbc\\xe3\\x83\\x93\\xe3\\x82\\xb9OpenLearning, Japan\\xe3\\x81\\xaf\\xe3\\x80\\x81\\xe5\\xa4\\xa7\\xe5\\xad\\xa6\\xe7\\x8f\\xbe\\xe5\\xa0\\xb4\\xe7\\xac\\xac\\xe4\\xb8\\x80\\xe7\\xb7\\x9a\\xe3\\x81\\xae\\xe8\\xac\\x9b\\xe5\\xb8\\xab\\xe9\\x99\\xa3\\xe3\\x81\\xab\\xe3\\x82\\x88\\xe3\\x82\\x8b\\xe6\\x9c\\x80\\xe9\\xab\\x98\\xe3\\x81\\xae\\xe3\\x82\\xaa\\xe3\\x83\\xb3\\xe3\\x83\\xa9\\xe3\\x82\\xa4\\xe3\\x83\\xb3\\xe6\\x8e\\x88\\xe6\\xa5\\xad\\xe3\\x82\\x92\\xe7\\x84\\xa1\\xe6\\x96\\x99\\xe3\\x81\\xa7\\xe6\\x8f\\x90\\xe4\\xbe\\x9b\\xe3\\x80\\x82\\xe3\\x81\\x84\\xe3\\x81\\xa4\\xe3\\x81\\xa7\\xe3\\x82\\x82\\xe3\\x81\\xa0\\xe3\\x82\\x8c\\xe3\\x81\\xa7\\xe3\\x82\\x82\\xe8\\x87\\xaa\\xe7\\x94\\xb1\\xe3\\x81\\xab\\xe5\\xad\\xa6\\xe3\\x81\\xb9\\xe3\\x80\\x81\\xe4\\xbf\\xae\\xe4\\xba\\x86\\xe8\\xa8\\xbc\\xe3\\x82\\x82\\xe5\\x8f\\x96\\xe5\\xbe\\x97\\xe3\\x81\\xa7\\xe3\\x81\\x8d\\xe3\\x81\\xbe\\xe3\\x81\\x99\\xe3\\x80\\x82\" />\\r\\n    <link rel=\"apple-touch-icon\" href=\"common/images/logo_icon.png\" />\\r\\n    <link rel=\"shortcut icon\" href=\"common/images/favicon.ico\" />\\r\\n    <link rel=\"bookmark\" href=\"common/images/favicon.ico\" />\\r\\n    <link rel=\"stylesheet\" href=\"common/css/site.min.css\" />\\r\\n    <!-- HTML5 shim, for IE6-8 support of HTML5 elements. All other JS at the end of file. -->\\r\\n    <!--[if lt IE 9]>\\r\\n      <script src=\"common/js/html5shiv.js\"></script>\\r\\n      <script src=\"common/js/respond.min.js\"></script>\\r\\n    <![endif]-->\\r\\n\\r\\n    <script src=\"common/js/jquery-1.10.2.min.js\"></script>\\r\\n    <script>\\r\\n      window.jQuery || document.write(\\'<script src=\"common/js/jquery-1.10.2.min.js\"><\\\\/script>\\')\\r\\n    </script>\\r\\n\\r\\n    <script type=\"text/javascript\" src=\"common/js/site.min.js\"></script>\\r\\n    <script>\\r\\n        (function(i,s,o,g,r,a,m){i[\\'GoogleAnalyticsObject\\']=r;i[r]=i[r]||function(){\\r\\n        (i[r].q=i[r].q||[]).push(arguments)},i[r].l=1*new Date();a=s.createElement(o),\\r\\n        m=s.getElementsByTagName(o)[0];a.async=1;a.src=g;m.parentNode.insertBefore(a,m)\\r\\n        })(window,document,\\'script\\',\\'//www.google-analytics.com/analytics.js\\',\\'ga\\');\\r\\n        ga(\\'create\\', \\'UA-7205564-18\\', \\'auto\\');\\r\\n        ga(\\'send\\', \\'pageview\\');\\r\\n    </script>\\r\\n</head>\\r\\n<body style=\"background-color: #f1f2f6;\">\\r\\n    <form name=\"aspnetForm\" method=\"post\" action=\"index.aspx\" id=\"aspnetForm\">\\r\\n<input type=\"hidden\" name=\"__VIEWSTATE\" id=\"__VIEWSTATE\" value=\"/wEPDwULLTEwMDUyNjYzMjhkZBeE40l2+22H+XKfw6coPCvlvfTb\" />\\r\\n\\r\\n<input type=\"hidden\" name=\"__VIEWSTATEGENERATOR\" id=\"__VIEWSTATEGENERATOR\" value=\"90059987\" />\\r\\n        <div class=\"docs-header\">\\r\\n            <!--nav-->\\r\\n            <nav class=\"navbar navbar-default navbar-custom\" role=\"navigation\">\\r\\n                <div class=\"container\">\\r\\n                    <div class=\"navbar-header\">\\r\\n                        <button type=\"button\" class=\"navbar-toggle\" data-toggle=\"collapse\" data-target=\".navbar-collapse\">\\r\\n                            <span class=\"sr-only\">Toggle navigation</span>\\r\\n                            <span class=\"icon-bar\"></span>\\r\\n                            <span class=\"icon-bar\"></span>\\r\\n                            <span class=\"icon-bar\"></span>\\r\\n                        </button>\\r\\n                        <a class=\"navbar-brand\" href=\"https://www.jmooc.jp/\" target=\"_blank\">\\r\\n                            <img src=\"common/images/logo_jmooc.png\" height=\"35\" /></a>\\r\\n                        <a class=\"navbar-brand\" href=\"index.aspx\">\\r\\n                            <img src=\"common/images/logo_olearning.png\" height=\"35\" /></a>\\r\\n                    </div>\\r\\n                    <div class=\"collapse navbar-collapse\">\\r\\n                        <ul id=\"ctl00_ul01\" class=\"nav navbar-nav navbar-right\">\\r\\n                            <li><a class=\"nav-link\" href=\"guidance/index.aspx\">\\r\\n                                <span id=\"ctl00_Label4\">\\xe5\\x8f\\x97\\xe8\\xac\\x9b\\xe6\\xa1\\x88\\xe5\\x86\\x85</span></a></li>\\r\\n                            <li><a class=\"nav-link\" href=\"register/index.aspx\">\\r\\n                                <span id=\"ctl00_Label3\">\\xe4\\xbc\\x9a\\xe5\\x93\\xa1\\xe7\\x99\\xbb\\xe9\\x8c\\xb2</span></a></li>\\r\\n                            <li><a class=\"nav-link\" href=\"login/login.aspx\">\\r\\n                                <span id=\"ctl00_Label1\">\\xe3\\x83\\xad\\xe3\\x82\\xb0\\xe3\\x82\\xa4\\xe3\\x83\\xb3</span></a></li>\\r\\n                        </ul>\\r\\n                        \\r\\n                              \\r\\n                    </div>\\r\\n                </div>\\r\\n            </nav>\\r\\n        </div>\\r\\n        <div>\\r\\n            \\r\\n\\r\\n<link rel=\"stylesheet\" href=\"common/css/reset.css\" />\\r\\n<link rel=\"stylesheet\" href=\"common/css/layout.css\" />\\r\\n<link rel=\"stylesheet\" href=\"common/css/top.css\" />\\r\\n<script type=\"text/javascript\" src=\"common/js/jquery.heightLine.js\"></script>\\r\\n<script type=\"text/javascript\" src=\"common/js/top2.js\"></script>\\r\\n\\r\\n\\r\\n<div id=\"topArea\">\\r\\n\\t<div class=\"titleArea\">\\r\\n\\t\\t<div class=\"container\">\\r\\n\\t\\t\\t<div class=\"langBtn\">\\r\\n\\t\\t\\t\\t<a href=\"english/\">English</a>\\r\\n\\t\\t\\t</div>\\r\\n\\t\\t\\t<h1>\\xe5\\xad\\xa6\\xe3\\x81\\xb3\\xe3\\x82\\x92\\xe3\\x82\\x82\\xe3\\x81\\xa3\\xe3\\x81\\xa8\\xe3\\x82\\xaa\\xe3\\x83\\xbc\\xe3\\x83\\x97\\xe3\\x83\\xb3\\xe3\\x81\\xab</h1>\\r\\n\\t\\t\\t<h2>OpenLearning, Japan \\xe3\\x81\\x8c\\xe3\\x81\\x8a\\xe5\\xb1\\x8a\\xe3\\x81\\x91\\xe3\\x81\\x99\\xe3\\x82\\x8b\\xe3\\x81\\xae\\xe3\\x81\\xaf\\xe3\\x80\\x81\\xe5\\xa4\\xa7\\xe5\\xad\\xa6\\xe7\\x8f\\xbe\\xe5\\xa0\\xb4\\xe7\\xac\\xac\\xe4\\xb8\\x80\\xe7\\xb7\\x9a\\xe3\\x81\\xae\\xe8\\xac\\x9b\\xe5\\xb8\\xab\\xe9\\x99\\xa3\\xe3\\x81\\xab\\xe3\\x82\\x88\\xe3\\x82\\x8b\\xe6\\x9c\\x80\\xe9\\xab\\x98\\xe3\\x81\\xae\\xe3\\x82\\xaa\\xe3\\x83\\xb3\\xe3\\x83\\xa9\\xe3\\x82\\xa4\\xe3\\x83\\xb3\\xe6\\x8e\\x88\\xe6\\xa5\\xad\\xe3\\x80\\x82<br>\\r\\n\\t\\t\\t\\xe7\\x84\\xa1\\xe6\\x96\\x99\\xe3\\x81\\xa7\\xe3\\x80\\x81\\xe3\\x81\\xa0\\xe3\\x82\\x8c\\xe3\\x81\\xa7\\xe3\\x82\\x82\\xe8\\x87\\xaa\\xe7\\x94\\xb1\\xe3\\x81\\xab\\xe5\\xad\\xa6\\xe3\\x81\\xb9\\xe3\\x80\\x81\\xe4\\xbf\\xae\\xe4\\xba\\x86\\xe8\\xa8\\xbc\\xe3\\x82\\x82\\xe5\\x8f\\x96\\xe5\\xbe\\x97\\xe3\\x81\\xa7\\xe3\\x81\\x8d\\xe3\\x81\\xbe\\xe3\\x81\\x99\\xe3\\x80\\x82</h2>\\r\\n\\t\\t</div>\\r\\n\\t</div>\\r\\n\\t<div class=\"topContent container\">\\r\\n\\t\\t<div class=\"clearfix\">\\r\\n\\t\\t\\t<p class=\"fltR\"><a href=\"https://www.facebook.com/GlobalOpenLearning\" target=\"_blank\"><img src=\"common/images/fb.png\"></a></p>\\r\\n\\t\\t</div>\\r\\n\\t\\t<div class=\"banner\" align=\"center\">\\r\\n\\t\\t\\t<p><a href=\"https://abemafresh.tv/jmooc\" target=\"_blank\"><img src=\"common/images/jmooccast.png\" class=\"nl_scaling\" ></a></p>\\r\\n\\t\\t</div>\\r\\n\\t\\t<div class=\"topicsArea\">\\r\\n\\t\\t\\t<h3><a href=\"info/\">\\xe2\\x97\\x8f Information \\xe2\\x97\\x8f</a></h3>\\r\\n\\t\\t\\t<p>\\r\\n                        \\xe2\\x96\\xa02017/04/28\\xe3\\x80\\x80<b>\\xe3\\x83\\x8d\\xe3\\x83\\x83\\xe3\\x83\\x88\\xe3\\x83\\xaf\\xe3\\x83\\xbc\\xe3\\x82\\xaf\\xe6\\xa9\\x9f\\xe5\\x99\\xa8\\xe5\\x85\\xa5\\xe6\\x9b\\xbf\\xe3\\x81\\xab\\xe4\\xbc\\xb4\\xe3\\x81\\x86\\xe3\\x83\\xa1\\xe3\\x83\\xb3\\xe3\\x83\\x86\\xe3\\x83\\x8a\\xe3\\x83\\xb3\\xe3\\x82\\xb9\\xe5\\xae\\x9f\\xe6\\x96\\xbd\\xe3\\x81\\xae\\xe3\\x81\\x8a\\xe7\\x9f\\xa5\\xe3\\x82\\x89\\xe3\\x81\\x9b</b><br><br>\\r\\n\\xe3\\x81\\x93\\xe3\\x81\\xae\\xe3\\x81\\x9f\\xe3\\x81\\xb3\\xe3\\x83\\x8d\\xe3\\x83\\x83\\xe3\\x83\\x88\\xe3\\x83\\xaf\\xe3\\x83\\xbc\\xe3\\x82\\xaf\\xe3\\x81\\xae\\xe5\\xa2\\x97\\xe5\\xbc\\xb7\\xe3\\x82\\x92\\xe5\\xae\\x9f\\xe6\\x96\\xbd\\xe3\\x81\\x99\\xe3\\x82\\x8b\\xe3\\x81\\x9f\\xe3\\x82\\x81\\xe3\\x80\\x81\\xe4\\xbb\\xa5\\xe4\\xb8\\x8b\\xe3\\x81\\xae\\xe6\\x97\\xa5\\xe7\\xa8\\x8b\\xe3\\x81\\xab\\xe3\\x81\\x8a\\xe3\\x81\\x84\\xe3\\x81\\xa6\\xe3\\x81\\x99\\xe3\\x81\\xb9\\xe3\\x81\\xa6\\xe3\\x81\\xae\\xe3\\x82\\xb5\\xe3\\x83\\xbc\\xe3\\x83\\x93\\xe3\\x82\\xb9\\xe3\\x82\\x92\\xe4\\xb8\\x80\\xe6\\x99\\x82\\xe5\\x81\\x9c\\xe6\\xad\\xa2\\xe3\\x81\\x95\\xe3\\x81\\x9b\\xe3\\x81\\xa6\\xe3\\x81\\x84\\xe3\\x81\\x9f\\xe3\\x81\\xa0\\xe3\\x81\\x8d\\xe3\\x81\\xbe\\xe3\\x81\\x99\\xe3\\x80\\x82<br/>\\r\\n\\xe5\\xa4\\xa7\\xe5\\xa4\\x89\\xe3\\x81\\x94\\xe4\\xb8\\x8d\\xe4\\xbe\\xbf\\xe3\\x82\\x92\\xe3\\x81\\x8a\\xe3\\x81\\x8b\\xe3\\x81\\x91\\xe3\\x81\\x97\\xe3\\x81\\xbe\\xe3\\x81\\x99\\xe3\\x81\\x8c\\xe3\\x80\\x81\\xe3\\x81\\xaa\\xe3\\x81\\xab\\xe3\\x81\\xa8\\xe3\\x81\\x9e\\xe3\\x81\\x94\\xe7\\x90\\x86\\xe8\\xa7\\xa3\\xe3\\x81\\xa8\\xe3\\x81\\x94\\xe5\\x8d\\x94\\xe5\\x8a\\x9b\\xe3\\x82\\x92\\xe8\\xb3\\x9c\\xe3\\x82\\x8a\\xe3\\x81\\xbe\\xe3\\x81\\x99\\xe3\\x82\\x88\\xe3\\x81\\x86\\xe3\\x80\\x81\\xe3\\x82\\x88\\xe3\\x82\\x8d\\xe3\\x81\\x97\\xe3\\x81\\x8f\\xe3\\x81\\x8a\\xe9\\xa1\\x98\\xe3\\x81\\x84\\xe7\\x94\\xb3\\xe3\\x81\\x97\\xe4\\xb8\\x8a\\xe3\\x81\\x92\\xe3\\x81\\xbe\\xe3\\x81\\x99\\xe3\\x80\\x82<br/><br/>\\r\\n\\xe3\\x80\\x90\\xe3\\x82\\xb5\\xe3\\x83\\xbc\\xe3\\x83\\x93\\xe3\\x82\\xb9\\xe5\\x81\\x9c\\xe6\\xad\\xa2\\xe6\\x9c\\x9f\\xe9\\x96\\x93\\xef\\xbc\\x88\\xe6\\x97\\xa5\\xe6\\x9c\\xac\\xe6\\x99\\x82\\xe9\\x96\\x93\\xef\\xbc\\x89\\xe3\\x80\\x91<br/>\\r\\n2017\\xe5\\xb9\\xb45\\xe6\\x9c\\x8830\\xe6\\x97\\xa5\\xef\\xbc\\x88\\xe7\\x81\\xab\\xef\\xbc\\x895:30\\xef\\xbd\\x9e7:30\\xef\\xbc\\x88\\xe6\\x97\\xa9\\xe6\\x9c\\x9d\\xef\\xbc\\x89\\t\\t\\r\\n\\t\\t\\t</p>\\r\\n\\t\\t</div>\\r\\n\\t\\t<div class=\"detailArea\">\\r\\n\\t\\t\\t<ul class=\"picklist\">\\r\\n\\t\\t\\t<li>\\xe5\\x8f\\x97\\xe8\\xac\\x9b\\xe6\\x96\\xb9\\xe6\\xb3\\x95\\xe3\\x81\\xab\\xe3\\x81\\xa4\\xe3\\x81\\x84\\xe3\\x81\\xa6\\xe3\\x81\\xaf<a href=\"guidance/\">\\xe3\\x81\\x93\\xe3\\x81\\xa1\\xe3\\x82\\x89</a>\\xe3\\x82\\x92\\xe3\\x81\\x94\\xe8\\xa6\\xa7\\xe3\\x81\\x8f\\xe3\\x81\\xa0\\xe3\\x81\\x95\\xe3\\x81\\x84\\xe3\\x80\\x82<span class=\"label-status3\">\\xe9\\x96\\x8b\\xe8\\xac\\x9b\\xe4\\xb8\\xad</span> <span class=\"label-status2\">\\xe5\\x8b\\x9f\\xe9\\x9b\\x86\\xe4\\xb8\\xad</span>\\xe3\\x81\\xae\\xe8\\xac\\x9b\\xe5\\xba\\xa7\\xe3\\x81\\xa7\\xe5\\x8f\\x97\\xe8\\xac\\x9b\\xe7\\x99\\xbb\\xe9\\x8c\\xb2\\xe3\\x81\\x84\\xe3\\x81\\x9f\\xe3\\x81\\xa0\\xe3\\x81\\x91\\xe3\\x81\\xbe\\xe3\\x81\\x99\\xe3\\x80\\x82</li>\\r\\n\\t\\t\\t<li>\\xe4\\xbc\\x9a\\xe5\\x93\\xa1\\xe7\\x99\\xbb\\xe9\\x8c\\xb2\\xe3\\x81\\x8c\\xe3\\x81\\x8a\\xe6\\xb8\\x88\\xe3\\x81\\xbf\\xe3\\x81\\xa7\\xe3\\x81\\xaa\\xe3\\x81\\x84\\xe6\\x96\\xb9\\xe3\\x81\\xaf<a href=\"register/\">\\xe3\\x81\\x93\\xe3\\x81\\xa1\\xe3\\x82\\x89</a>\\xe3\\x82\\x88\\xe3\\x82\\x8a\\xe7\\x99\\xbb\\xe9\\x8c\\xb2\\xe3\\x81\\x84\\xe3\\x81\\x9f\\xe3\\x81\\xa0\\xe3\\x81\\x91\\xe3\\x81\\xbe\\xe3\\x81\\x99\\xe3\\x80\\x82\\xef\\xbc\\x88\\xe4\\xbc\\x9a\\xe5\\x93\\xa1\\xe3\\x81\\xae\\xe6\\x96\\xb9\\xe3\\x81\\xab\\xe3\\x81\\xaf\\xe3\\x80\\x81\\xe6\\x96\\xb0\\xe8\\xac\\x9b\\xe5\\xba\\xa7\\xe3\\x81\\xae\\xe9\\x96\\x8b\\xe8\\xac\\x9b\\xe4\\xba\\x88\\xe5\\xae\\x9a\\xe3\\x82\\x84\\xe5\\x8f\\x97\\xe8\\xac\\x9b\\xe7\\x94\\xb3\\xe8\\xbe\\xbc\\xe9\\x96\\x8b\\xe5\\xa7\\x8b\\xe3\\x81\\xaa\\xe3\\x81\\xa9\\xe3\\x81\\xae\\xe6\\x83\\x85\\xe5\\xa0\\xb1\\xe3\\x82\\x92\\xe3\\x81\\x84\\xe3\\x81\\xa1\\xe6\\x97\\xa9\\xe3\\x81\\x8f\\xe3\\x83\\xa1\\xe3\\x83\\xbc\\xe3\\x83\\xab\\xe3\\x81\\xab\\xe3\\x81\\xa6\\xe3\\x81\\x8a\\xe5\\xb1\\x8a\\xe3\\x81\\x91\\xe3\\x81\\x97\\xe3\\x81\\xbe\\xe3\\x81\\x99\\xe3\\x80\\x82\\xef\\xbc\\x89</li>\\r\\n\\t\\t\\t<li>\\xe3\\x80\\x8c\\xe4\\xbf\\xae\\xe4\\xba\\x86\\xe8\\xa8\\xbc\\xe3\\x80\\x8d\\xe3\\x81\\xaf\\xe5\\x8f\\x97\\xe8\\xac\\x9b\\xe6\\x9c\\x9f\\xe9\\x99\\x90\\xe3\\x81\\x8b\\xe3\\x82\\x894\\xe6\\x97\\xa5\\xef\\xbd\\x9e5\\xe6\\x97\\xa5\\xe5\\xbe\\x8c\\xe3\\x81\\xab\\xe7\\x99\\xba\\xe8\\xa1\\x8c\\xe3\\x81\\x95\\xe3\\x82\\x8c\\xe3\\x81\\xbe\\xe3\\x81\\x99\\xe3\\x80\\x82\\xe7\\x99\\xba\\xe8\\xa1\\x8c\\xe6\\x97\\xa5\\xe3\\x81\\xab\\xe3\\x81\\xa4\\xe3\\x81\\x84\\xe3\\x81\\xa6\\xe3\\x81\\xaf\\xe3\\x80\\x81\\xe5\\x90\\x84\\xe8\\xac\\x9b\\xe5\\xba\\xa7\\xe6\\xa1\\x88\\xe5\\x86\\x85\\xe3\\x83\\x9a\\xe3\\x83\\xbc\\xe3\\x82\\xb8\\xe3\\x81\\xae\\xe3\\x80\\x8c\\xe3\\x83\\x86\\xe3\\x82\\xb9\\xe3\\x83\\x88\\xe3\\x81\\xae\\xe9\\x85\\x8d\\xe7\\x82\\xb9\\xe3\\x81\\xa8\\xe3\\x82\\xb9\\xe3\\x82\\xb1\\xe3\\x82\\xb8\\xe3\\x83\\xa5\\xe3\\x83\\xbc\\xe3\\x83\\xab\\xe3\\x80\\x8d\\xe6\\xac\\x84\\xe3\\x81\\xa7\\xe3\\x81\\x94\\xe8\\xa6\\xa7\\xe3\\x81\\x84\\xe3\\x81\\x9f\\xe3\\x81\\xa0\\xe3\\x81\\x91\\xe3\\x81\\xbe\\xe3\\x81\\x99\\xe3\\x80\\x82</li>\\r\\n\\t\\t\\t</ul>\\r\\n\\t\\t</div>\\r\\n\\r\\n\\t\\t<h3 style=\"background-color: #676767; color: #ffffff;\">\\xe5\\x8f\\x97\\xe4\\xbb\\x98\\xe7\\xb5\\x82\\xe4\\xba\\x86</h3>\\r\\n\\t\\t<div class=\"courseList clearfix\">\\r\\n\\t\\t\\t<!-- //crsItem -->\\r\\n\\t\\t\\t<div class=\"crsItem hl-3\">\\r\\n\\t\\t\\t\\t<a href=\"javascript:lecture(\\'00001J11\\');\" class=\"crsInfo\">\\r\\n\\t\\t\\t\\t\\t<img src=\"common/images/course/course_card001.jpg\" >\\r\\n\\t\\t\\t\\t\\t<span class=\"crsDetail\">\\r\\n\\t\\t\\t\\t\\t\\t<span class=\"crsTtl\">Global Social Archaeology<br>\\xef\\xbc\\x88\\xe3\\x82\\xb0\\xe3\\x83\\xad\\xe3\\x83\\xbc\\xe3\\x83\\x90\\xe3\\x83\\xab\\xe7\\xa4\\xbe\\xe4\\xbc\\x9a\\xe8\\x80\\x83\\xe5\\x8f\\xa4\\xe5\\xad\\xa6\\xef\\xbc\\x89</span>\\r\\n\\t\\t\\t\\t\\t\\t<span class=\"crsUni\">Kyushu University</span>\\r\\n\\t\\t\\t\\t\\t\\t<span class=\"crsName\">Koji Mizoguchi\\xe3\\x80\\x81Claire Smith</span>\\r\\n\\t\\t\\t\\t\\t\\t<span class=\"crsDate\">2014\\xe5\\xb9\\xb49\\xe6\\x9c\\x8825\\xe6\\x97\\xa5\\xe9\\x96\\x8b\\xe8\\xac\\x9b <span class=\"label-status4\">\\xe5\\x8f\\x97\\xe4\\xbb\\x98\\xe7\\xb5\\x82\\xe4\\xba\\x86</span></span>\\r\\n\\t\\t\\t\\t\\t\\t<span class=\"crsOpt\">\\xe2\\x80\\xbb\\xe6\\x97\\xa5\\xe6\\x9c\\xac\\xe8\\xaa\\x9e\\xe8\\xa8\\xb3\\xe3\\x81\\x82\\xe3\\x82\\x8a</span>\\r\\n\\t\\t\\t\\t\\t</span>\\r\\n\\t\\t\\t\\t</a>\\r\\n                        \\t<a class=\"crsVdo\" href=\"https://www.youtube.com/watch?v=GOiZhvHayHE\" target=\"_blank\"><span style=\"font-weight: bold\">PV</span>\\r\\n                            \\t\\t<img src=\"common/images/play-square.png\" ></a>\\r\\n\\t\\t\\t</div>\\r\\n\\t\\t\\t<!-- //crsItem -->\\r\\n\\t\\t\\t<div class=\"crsItem hl-3\">\\r\\n\\t\\t\\t\\t<a href=\"javascript:lecture(\\'00002J11\\');\" class=\"crsInfo\">\\r\\n\\t\\t\\t\\t\\t<img src=\"common/images/course/course_card002.jpg\" >\\r\\n\\t\\t\\t\\t\\t<span class=\"crsDetail\">\\r\\n\\t\\t\\t\\t\\t\\t<span class=\"crsTtl\">\\xe3\\x82\\xa2\\xe3\\x83\\xa1\\xe3\\x83\\xaa\\xe3\\x82\\xab\\xe6\\x98\\xa0\\xe7\\x94\\xbb\\xe3\\x81\\xa8\\xe6\\x94\\xbf\\xe6\\xb2\\xbb</span>\\r\\n\\t\\t\\t\\t\\t\\t<span class=\"label-flip\">\\xe5\\x8f\\x8d\\xe8\\xbb\\xa2\\xe5\\xad\\xa6\\xe7\\xbf\\x92\\xe3\\x82\\xb3\\xe3\\x83\\xbc\\xe3\\x82\\xb9\\xe3\\x81\\x82\\xe3\\x82\\x8a</span>\\r\\n\\t\\t\\t\\t\\t\\t<span class=\"crsUni\">\\xe5\\x90\\x8c\\xe5\\xbf\\x97\\xe7\\xa4\\xbe\\xe5\\xa4\\xa7\\xe5\\xad\\xa6</span>\\r\\n\\t\\t\\t\\t\\t\\t<span class=\"crsName\">\\xe6\\x9d\\x91\\xe7\\x94\\xb0 \\xe6\\x99\\x83\\xe5\\x97\\xa3</span>\\r\\n\\t\\t\\t\\t\\t\\t<span class=\"crsDate\">2014\\xe5\\xb9\\xb411\\xe6\\x9c\\x8817\\xe6\\x97\\xa5\\xe9\\x96\\x8b\\xe8\\xac\\x9b <span class=\"label-status4\">\\xe5\\x8f\\x97\\xe4\\xbb\\x98\\xe7\\xb5\\x82\\xe4\\xba\\x86</span></span>\\r\\n\\t\\t\\t\\t\\t\\t<span class=\"crsOpt\">\\xe3\\x80\\x80</span>\\r\\n\\t\\t\\t\\t\\t</span>\\r\\n\\t\\t\\t\\t</a>\\r\\n                        \\t<a class=\"crsVdo\" href=\"https://www.youtube.com/watch?v=NMTSCI7SsR8\" target=\"_blank\"><span style=\"font-weight: bold\">PV</span>\\r\\n                            \\t\\t<img src=\"common/images/play-square.png\" ></a>\\r\\n\\t\\t\\t</div>\\r\\n\\t\\t\\t<!-- //crsItem -->\\r\\n\\t\\t\\t<div class=\"crsItem hl-3\">\\r\\n\\t\\t\\t\\t<a href=\"javascript:lecture(\\'00003J11\\');\" class=\"crsInfo\">\\r\\n\\t\\t\\t\\t\\t<img src=\"common/images/course/course_card003.jpg\" >\\r\\n\\t\\t\\t\\t\\t<span class=\"crsDetail\">\\r\\n\\t\\t\\t\\t\\t\\t<span class=\"crsTtl\">\\xe6\\xb5\\xb7\\xe3\\x81\\x8b\\xe3\\x82\\x89\\xe8\\x80\\x83\\xe3\\x81\\x88\\xe3\\x82\\x8b\\xe3\\x81\\x93\\xe3\\x81\\xae\\xe6\\x98\\x9f\\xe3\\x81\\xae\\xe6\\x9c\\xaa\\xe6\\x9d\\xa5\\xef\\xbc\\x9a\\xe6\\xb5\\xb7\\xe6\\xb4\\x8b\\xe5\\xad\\xa6\\xe3\\x81\\xb8\\xe3\\x81\\xae\\xe8\\xaa\\x98\\xe3\\x81\\x84</span>\\r\\n\\t\\t\\t\\t\\t\\t<span class=\"crsUni\">\\xe6\\x9d\\xb1\\xe6\\xb5\\xb7\\xe5\\xa4\\xa7\\xe5\\xad\\xa6</span>\\r\\n\\t\\t\\t\\t\\t\\t<span class=\"crsName\">\\xe5\\x8d\\x83\\xe8\\xb3\\x80 \\xe5\\xba\\xb7\\xe5\\xbc\\x98\\xe3\\x80\\x80\\xe4\\xbb\\x96</span>\\r\\n\\t\\t\\t\\t\\t\\t<span class=\"crsDate\">2015\\xe5\\xb9\\xb42\\xe6\\x9c\\x8823\\xe6\\x97\\xa5\\xe9\\x96\\x8b\\xe8\\xac\\x9b <span class=\"label-status4\">\\xe5\\x8f\\x97\\xe4\\xbb\\x98\\xe7\\xb5\\x82\\xe4\\xba\\x86</span></span>\\r\\n\\t\\t\\t\\t\\t\\t<span class=\"crsOpt\">\\xe3\\x80\\x80</span>\\r\\n\\t\\t\\t\\t\\t</span>\\r\\n\\t\\t\\t\\t</a>\\r\\n                        \\t<a class=\"crsVdo\" href=\"https://www.youtube.com/watch?v=XxlRATd9NS8&feature=youtu.be\" target=\"_blank\"><span style=\"font-weight: bold\">PV</span>\\r\\n                            \\t\\t<img src=\"common/images/play-square.png\" ></a>\\r\\n\\t\\t\\t</div>\\r\\n\\t\\t\\t<!-- //crsItem -->\\r\\n\\t\\t\\t<div class=\"crsItem hl-3\">\\r\\n\\t\\t\\t\\t<a href=\"javascript:lecture(\\'00006J11\\');\" class=\"crsInfo\">\\r\\n\\t\\t\\t\\t\\t<img src=\"common/images/course/course_card006.jpg\" >\\r\\n\\t\\t\\t\\t\\t<span class=\"crsDetail\">\\r\\n\\t\\t\\t\\t\\t\\t<span class=\"crsTtl\">\\xe5\\xbf\\x9c\\xe7\\x94\\xa8\\xe6\\x83\\x85\\xe5\\xa0\\xb1\\xe5\\xad\\xa6\\xe3\\x81\\xb8\\xe3\\x81\\xae\\xe6\\x8b\\x9b\\xe5\\xbe\\x85</span>\\r\\n\\t\\t\\t\\t\\t\\t<span class=\"crsUni\">\\xe4\\xba\\xac\\xe9\\x83\\xbd\\xe6\\x83\\x85\\xe5\\xa0\\xb1\\xe5\\xa4\\xa7\\xe5\\xad\\xa6\\xe9\\x99\\xa2\\xe5\\xa4\\xa7\\xe5\\xad\\xa6</span>\\r\\n\\t\\t\\t\\t\\t\\t<span class=\"crsName\">\\xe8\\x8c\\xa8\\xe6\\x9c\\xa8 \\xe4\\xbf\\x8a\\xe7\\xa7\\x80\\xe3\\x80\\x81\\xe6\\xb1\\x9f\\xe8\\xa6\\x8b \\xe5\\x9c\\xad\\xe5\\x8f\\xb8\\xe3\\x80\\x81\\xe4\\xb8\\x8a\\xe7\\x94\\xb0 \\xe6\\xb2\\xbb\\xe6\\x96\\x87\\xe3\\x80\\x81\\xe5\\xa5\\x88\\xe8\\x97\\x8f \\xe4\\xbd\\x90\\xe4\\xbf\\x9d\\xe5\\xad\\x90\\xe3\\x80\\x81\\xe5\\xb2\\xa1\\xe6\\x9c\\xac \\xe6\\x95\\x8f\\xe9\\x9b\\x84</span>\\r\\n\\t\\t\\t\\t\\t\\t<span class=\"crsDate\">2015\\xe5\\xb9\\xb43\\xe6\\x9c\\x8823\\xe6\\x97\\xa5\\xe9\\x96\\x8b\\xe8\\xac\\x9b <span class=\"label-status4\">\\xe5\\x8f\\x97\\xe4\\xbb\\x98\\xe7\\xb5\\x82\\xe4\\xba\\x86</span></span>\\r\\n\\t\\t\\t\\t\\t\\t<span class=\"crsOpt\">\\xe3\\x80\\x80</span>\\r\\n\\t\\t\\t\\t\\t</span>\\r\\n\\t\\t\\t\\t</a>\\r\\n                        \\t<a class=\"crsVdo\" href=\"https://www.youtube.com/watch?v=Wy78NwceNiA\" target=\"_blank\"><span style=\"font-weight: bold\">PV</span>\\r\\n                            \\t\\t<img src=\"common/images/play-square.png\" ></a>\\r\\n\\t\\t\\t</div>\\r\\n\\t\\t\\t<!-- //crsItem -->\\r\\n\\t\\t\\t<div class=\"crsItem hl-3\">\\r\\n\\t\\t\\t\\t<a href=\"javascript:lecture(\\'00004J11\\');\" class=\"crsInfo\">\\r\\n\\t\\t\\t\\t\\t<img src=\"common/images/course/course_card004.jpg\" >\\r\\n\\t\\t\\t\\t\\t<span class=\"crsDetail\">\\r\\n\\t\\t\\t\\t\\t\\t<span class=\"crsTtl\">\\xe3\\x82\\xb0\\xe3\\x83\\xad\\xe3\\x83\\xbc\\xe3\\x83\\x90\\xe3\\x83\\xab\\xe3\\x83\\x9e\\xe3\\x83\\x8d\\xe3\\x82\\xb8\\xe3\\x83\\xa1\\xe3\\x83\\xb3\\xe3\\x83\\x88\\xef\\xbc\\x88\\xe5\\x85\\xa5\\xe9\\x96\\x80\\xef\\xbc\\x89</span>\\r\\n\\t\\t\\t\\t\\t\\t<span class=\"label-flip\">\\xe5\\x8f\\x8d\\xe8\\xbb\\xa2\\xe5\\xad\\xa6\\xe7\\xbf\\x92\\xe3\\x82\\xb3\\xe3\\x83\\xbc\\xe3\\x82\\xb9\\xe3\\x81\\x82\\xe3\\x82\\x8a</span>\\r\\n\\t\\t\\t\\t\\t\\t<span class=\"crsUni\">\\xe7\\x94\\xa3\\xe6\\xa5\\xad\\xe8\\x83\\xbd\\xe7\\x8e\\x87\\xe5\\xa4\\xa7\\xe5\\xad\\xa6</span>\\r\\n\\t\\t\\t\\t\\t\\t<span class=\"crsName\">\\xe5\\xb9\\xb3\\xe7\\x94\\xb0 \\xe8\\xad\\xb2\\xe4\\xba\\x8c\\xe3\\x80\\x81\\xe6\\xac\\xa7\\xe9\\x99\\xbd \\xe8\\x8f\\xb2\\xe3\\x80\\x81\\xe5\\x86\\x85\\xe8\\x97\\xa4 \\xe8\\x8b\\xb1\\xe4\\xbf\\x8a</span>\\r\\n\\t\\t\\t\\t\\t\\t<span class=\"crsDate\">2015\\xe5\\xb9\\xb44\\xe6\\x9c\\x8816\\xe6\\x97\\xa5\\xe9\\x96\\x8b\\xe8\\xac\\x9b <span class=\"label-status4\">\\xe5\\x8f\\x97\\xe4\\xbb\\x98\\xe7\\xb5\\x82\\xe4\\xba\\x86</span></span>\\r\\n\\t\\t\\t\\t\\t\\t<span class=\"crsOpt\">\\xe3\\x80\\x80</span>\\r\\n\\t\\t\\t\\t\\t</span>\\r\\n\\t\\t\\t\\t</a>\\r\\n                        \\t<a class=\"crsVdo\" href=\"https://www.youtube.com/watch?v=3pSE4UQnLoI\" target=\"_blank\"><span style=\"font-weight: bold\">PV</span>\\r\\n                            \\t\\t<img src=\"common/images/play-square.png\" ></a>\\r\\n\\t\\t\\t</div>\\r\\n\\t\\t\\t<!-- //crsItem -->\\r\\n\\t\\t\\t<div class=\"crsItem hl-3\">\\r\\n\\t\\t\\t\\t<a href=\"javascript:lecture(\\'00009J11\\');\" class=\"crsInfo\">\\r\\n\\t\\t\\t\\t\\t<img src=\"common/images/course/course_card009.jpg\" >\\r\\n\\t\\t\\t\\t\\t<span class=\"crsDetail\">\\r\\n\\t\\t\\t\\t\\t\\t<span class=\"crsTtl\">\\xe3\\x81\\x97\\xe3\\x81\\x82\\xe3\\x82\\x8f\\xe3\\x81\\x9b\\xe3\\x81\\xab\\xe7\\x94\\x9f\\xe3\\x81\\x8d\\xe3\\x82\\x8b\\xe3\\x81\\x9f\\xe3\\x82\\x81\\xe3\\x81\\xae\\xe5\\xbf\\x83\\xe7\\x90\\x86\\xe5\\xad\\xa6 \\xef\\xbd\\x9e\\xe3\\x82\\xa2\\xe3\\x83\\x89\\xe3\\x83\\xa9\\xe3\\x83\\xbc\\xe5\\xbf\\x83\\xe7\\x90\\x86\\xe5\\xad\\xa6\\xe5\\x85\\xa5\\xe9\\x96\\x80\\xef\\xbd\\x9e</span>\\r\\n\\t\\t\\t\\t\\t\\t<span class=\"label-flip\">\\xe5\\x8f\\x8d\\xe8\\xbb\\xa2\\xe5\\xad\\xa6\\xe7\\xbf\\x92\\xe3\\x82\\xb3\\xe3\\x83\\xbc\\xe3\\x82\\xb9\\xe3\\x81\\x82\\xe3\\x82\\x8a</span>\\r\\n\\t\\t\\t\\t\\t\\t<span class=\"crsUni\">\\xe6\\x97\\xa9\\xe7\\xa8\\xb2\\xe7\\x94\\xb0\\xe5\\xa4\\xa7\\xe5\\xad\\xa6</span>\\r\\n\\t\\t\\t\\t\\t\\t<span class=\"crsName\">\\xe5\\x90\\x91\\xe5\\xbe\\x8c \\xe5\\x8d\\x83\\xe6\\x98\\xa5</span>\\r\\n\\t\\t\\t\\t\\t\\t<span class=\"crsDate\">2015\\xe5\\xb9\\xb45\\xe6\\x9c\\x8825\\xe6\\x97\\xa5\\xe9\\x96\\x8b\\xe8\\xac\\x9b <span class=\"label-status4\">\\xe5\\x8f\\x97\\xe4\\xbb\\x98\\xe7\\xb5\\x82\\xe4\\xba\\x86</span></span>\\r\\n\\t\\t\\t\\t\\t\\t<span class=\"crsOpt\">\\xe3\\x80\\x80</span>\\r\\n\\t\\t\\t\\t\\t</span>\\r\\n\\t\\t\\t\\t</a>\\r\\n                        \\t<a class=\"crsVdo\" href=\"https://www.youtube.com/watch?v=gp_HOyy0YDA\" target=\"_blank\"><span style=\"font-weight: bold\">PV</span>\\r\\n                            \\t\\t<img src=\"common/images/play-square.png\" ></a>\\r\\n\\t\\t\\t</div>\\r\\n\\t\\t\\t<!-- //crsItem -->\\r\\n\\t\\t\\t<div class=\"crsItem hl-3\">\\r\\n\\t\\t\\t\\t<a href=\"javascript:lecture(\\'00012J11\\');\" class=\"crsInfo\">\\r\\n\\t\\t\\t\\t\\t<img src=\"common/images/course/course_card012.jpg\" >\\r\\n\\t\\t\\t\\t\\t<span class=\"crsDetail\">\\r\\n\\t\\t\\t\\t\\t\\t<span class=\"crsTtl\">\\xe5\\x8c\\xbb\\xe5\\xad\\xa6\\xe3\\x83\\xbb\\xe5\\x8c\\xbb\\xe7\\x99\\x82\\xe3\\x81\\xae\\xe6\\x98\\x94\\xe3\\x83\\xbb\\xe4\\xbb\\x8a\\xe3\\x83\\xbb\\xe3\\x81\\x93\\xe3\\x82\\x8c\\xe3\\x81\\x8b\\xe3\\x82\\x89 \\xef\\xbc\\x8d\\xe7\\x94\\x9f\\xe5\\x91\\xbd\\xe9\\x80\\xb2\\xe5\\x8c\\x96\\xe3\\x81\\xa8\\xe7\\x96\\xbe\\xe7\\x97\\x85\\xef\\xbc\\x8d</span>\\r\\n\\t\\t\\t\\t\\t\\t<span class=\"label-flip\">\\xe5\\x8f\\x8d\\xe8\\xbb\\xa2\\xe5\\xad\\xa6\\xe7\\xbf\\x92\\xe3\\x82\\xb3\\xe3\\x83\\xbc\\xe3\\x82\\xb9\\xe3\\x81\\x82\\xe3\\x82\\x8a</span>\\r\\n\\t\\t\\t\\t\\t\\t<span class=\"crsUni\">\\xe9\\xa0\\x86\\xe5\\xa4\\xa9\\xe5\\xa0\\x82\\xe5\\xa4\\xa7\\xe5\\xad\\xa6</span>\\r\\n\\t\\t\\t\\t\\t\\t<span class=\"crsName\">\\xe4\\xbd\\x90\\xe8\\x97\\xa4 \\xe4\\xbf\\xa1\\xe7\\xb4\\x98\\xe3\\x80\\x81\\xe7\\xb6\\xbf\\xe7\\x94\\xb0 \\xe8\\xa3\\x95\\xe5\\xad\\x9d\\xe3\\x80\\x81\\xe6\\x9c\\x8d\\xe9\\x83\\xa8 \\xe4\\xbf\\xa1\\xe5\\xad\\x9d\\xe3\\x80\\x81\\xe5\\xa0\\x80\\xe6\\xb1\\x9f \\xe9\\x87\\x8d\\xe9\\x83\\x8e</span>\\r\\n\\t\\t\\t\\t\\t\\t<span class=\"crsDate\">2015\\xe5\\xb9\\xb46\\xe6\\x9c\\x881\\xe6\\x97\\xa5\\xe9\\x96\\x8b\\xe8\\xac\\x9b <span class=\"label-status4\">\\xe5\\x8f\\x97\\xe4\\xbb\\x98\\xe7\\xb5\\x82\\xe4\\xba\\x86</span></span>\\r\\n\\t\\t\\t\\t\\t\\t<span class=\"crsOpt\">\\xe3\\x80\\x80</span>\\r\\n\\t\\t\\t\\t\\t</span>\\r\\n\\t\\t\\t\\t</a>\\r\\n                        \\t<a class=\"crsVdo\" href=\"https://www.youtube.com/watch?v=x_6fzzSDpNo\" target=\"_blank\"><span style=\"font-weight: bold\">PV</span>\\r\\n                            \\t\\t<img src=\"common/images/play-square.png\" ></a>\\r\\n\\t\\t\\t</div>\\r\\n\\t\\t\\t<!-- //crsItem -->\\r\\n\\t\\t\\t<div class=\"crsItem hl-3\">\\r\\n\\t\\t\\t\\t<a href=\"javascript:lecture(\\'00007J11\\');\" class=\"crsInfo\">\\r\\n\\t\\t\\t\\t\\t<img src=\"common/images/course/course_card007.png\" >\\r\\n\\t\\t\\t\\t\\t<span class=\"crsDetail\">\\r\\n\\t\\t\\t\\t\\t\\t<span class=\"crsTtl\">\\xe3\\x82\\xa8\\xe3\\x82\\xb8\\xe3\\x83\\x97\\xe3\\x83\\x88\\xe5\\xad\\xa6\\xe3\\x81\\xb8\\xe3\\x81\\xae\\xe6\\x8b\\x9b\\xe5\\xbe\\x85</span>\\r\\n\\t\\t\\t\\t\\t\\t<span class=\"crsUni\">\\xe6\\x9d\\xb1\\xe6\\x97\\xa5\\xe6\\x9c\\xac\\xe5\\x9b\\xbd\\xe9\\x9a\\x9b\\xe5\\xa4\\xa7\\xe5\\xad\\xa6</span>\\r\\n\\t\\t\\t\\t\\t\\t<span class=\"crsName\">\\xe5\\x90\\x89\\xe6\\x9d\\x91 \\xe4\\xbd\\x9c\\xe6\\xb2\\xbb</span>\\r\\n\\t\\t\\t\\t\\t\\t<span class=\"crsDate\">2015\\xe5\\xb9\\xb46\\xe6\\x9c\\x881\\xe6\\x97\\xa5\\xe9\\x96\\x8b\\xe8\\xac\\x9b <span class=\"label-status4\">\\xe5\\x8f\\x97\\xe4\\xbb\\x98\\xe7\\xb5\\x82\\xe4\\xba\\x86</span></span>\\r\\n\\t\\t\\t\\t\\t\\t<span class=\"crsOpt\">\\xe3\\x80\\x80</span>\\r\\n\\t\\t\\t\\t\\t</span>\\r\\n\\t\\t\\t\\t</a>\\r\\n                        \\t<a class=\"crsVdo\" href=\"https://www.youtube.com/watch?v=HVSUvZKtYL4\" target=\"_blank\"><span style=\"font-weight: bold\">PV</span>\\r\\n                            \\t\\t<img src=\"common/images/play-square.png\" ></a>\\r\\n\\t\\t\\t</div>\\r\\n\\t\\t\\t<!-- //crsItem -->\\r\\n\\t\\t\\t<div class=\"crsItem hl-3\">\\r\\n\\t\\t\\t\\t<a href=\"javascript:lecture(\\'00008J11\\');\" class=\"crsInfo\">\\r\\n\\t\\t\\t\\t\\t<img src=\"common/images/course/course_card008.jpg\" >\\r\\n\\t\\t\\t\\t\\t<span class=\"crsDetail\">\\r\\n\\t\\t\\t\\t\\t\\t<span class=\"crsTtl\">\\xe3\\x82\\xb0\\xe3\\x83\\xad\\xe3\\x83\\xbc\\xe3\\x83\\x90\\xe3\\x83\\xab\\xe3\\x81\\xab\\xe7\\x94\\x9f\\xe3\\x81\\x8d\\xe3\\x82\\x8b\\xe5\\xad\\xa6\\xe7\\x94\\x9f\\xe3\\x83\\xbb\\xe7\\x94\\x9f\\xe5\\xbe\\x92\\xe3\\x81\\xae\\xe3\\x81\\x9f\\xe3\\x82\\x81\\xe3\\x81\\xae\\xe5\\xa4\\xa7\\xe5\\xad\\xa6\\xe8\\xab\\x96</span>\\r\\n\\t\\t\\t\\t\\t\\t<span class=\"label-flip\">\\xe5\\x8f\\x8d\\xe8\\xbb\\xa2\\xe5\\xad\\xa6\\xe7\\xbf\\x92\\xe3\\x82\\xb3\\xe3\\x83\\xbc\\xe3\\x82\\xb9\\xe3\\x81\\x82\\xe3\\x82\\x8a</span>\\r\\n\\t\\t\\t\\t\\t\\t<span class=\"crsUni\">\\xe5\\x89\\xb5\\xe4\\xbe\\xa1\\xe5\\xa4\\xa7\\xe5\\xad\\xa6</span>\\r\\n\\t\\t\\t\\t\\t\\t<span class=\"crsName\">\\xe5\\xb0\\x8f\\xe5\\xb1\\xb1\\xe5\\x86\\x85 \\xe5\\x84\\xaa</span>\\r\\n\\t\\t\\t\\t\\t\\t<span class=\"crsDate\">2015\\xe5\\xb9\\xb46\\xe6\\x9c\\x8830\\xe6\\x97\\xa5\\xe9\\x96\\x8b\\xe8\\xac\\x9b <span class=\"label-status4\">\\xe5\\x8f\\x97\\xe4\\xbb\\x98\\xe7\\xb5\\x82\\xe4\\xba\\x86</span></span>\\r\\n\\t\\t\\t\\t\\t\\t<span class=\"crsOpt\">\\xe3\\x80\\x80</span>\\r\\n\\t\\t\\t\\t\\t</span>\\r\\n\\t\\t\\t\\t</a>\\r\\n                        \\t<a class=\"crsVdo\" href=\"https://www.youtube.com/watch?v=90PX2rzOu5c\" target=\"_blank\"><span style=\"font-weight: bold\">PV</span>\\r\\n                            \\t\\t<img src=\"common/images/play-square.png\" ></a>\\r\\n\\t\\t\\t</div>\\r\\n\\t\\t\\t<!-- //crsItem -->\\r\\n\\t\\t\\t<div class=\"crsItem hl-3\">\\r\\n\\t\\t\\t\\t<a href=\"javascript:lecture(\\'00013J11\\');\" class=\"crsInfo\">\\r\\n\\t\\t\\t\\t\\t<img src=\"common/images/course/course_card013.jpg\" >\\r\\n\\t\\t\\t\\t\\t<span class=\"crsDetail\">\\r\\n\\t\\t\\t\\t\\t\\t<span class=\"crsTtl\">\\xe4\\xb8\\x96\\xe7\\x95\\x8c\\xe3\\x82\\x92\\xe5\\xa4\\x89\\xe3\\x81\\x88\\xe3\\x81\\x9f\\xe6\\x9b\\xb8\\xe7\\x89\\xa9 \\xef\\xbc\\x8d\\xe5\\x8e\\x9f\\xe8\\x91\\x97\\xe3\\x81\\xa7\\xe8\\xbe\\xbf\\xe3\\x82\\x8b\\xe7\\xa7\\x91\\xe5\\xad\\xa6\\xe7\\x9f\\xa5\\xe3\\x81\\xae\\xe6\\xbd\\xae\\xe6\\xb5\\x81\\xef\\xbc\\x8d</span>\\r\\n\\t\\t\\t\\t\\t\\t<span class=\"label-flip\">\\xe5\\x8f\\x8d\\xe8\\xbb\\xa2\\xe5\\xad\\xa6\\xe7\\xbf\\x92\\xe3\\x82\\xb3\\xe3\\x83\\xbc\\xe3\\x82\\xb9\\xe3\\x81\\x82\\xe3\\x82\\x8a</span>\\r\\n\\t\\t\\t\\t\\t\\t<span class=\"crsUni\">\\xe9\\x87\\x91\\xe6\\xb2\\xa2\\xe5\\xb7\\xa5\\xe6\\xa5\\xad\\xe5\\xa4\\xa7\\xe5\\xad\\xa6</span>\\r\\n\\t\\t\\t\\t\\t\\t<span class=\"crsName\">\\xe7\\xab\\xba \\xe8\\xa6\\x9a\\xe6\\x9a\\x81</span>\\r\\n\\t\\t\\t\\t\\t\\t<span class=\"crsDate\">2015\\xe5\\xb9\\xb47\\xe6\\x9c\\x8817\\xe6\\x97\\xa5\\xe9\\x96\\x8b\\xe8\\xac\\x9b <span class=\"label-status4\">\\xe5\\x8f\\x97\\xe4\\xbb\\x98\\xe7\\xb5\\x82\\xe4\\xba\\x86</span></span>\\r\\n\\t\\t\\t\\t\\t\\t<span class=\"crsOpt\">\\xe3\\x80\\x80</span>\\r\\n\\t\\t\\t\\t\\t</span>\\r\\n\\t\\t\\t\\t</a>\\r\\n                        \\t<a class=\"crsVdo\" href=\"https://www.youtube.com/watch?v=D2KACjVF01E\" target=\"_blank\"><span style=\"font-weight: bold\">PV</span>\\r\\n                            \\t\\t<img src=\"../common/images/play-square.png\" ></a>\\r\\n\\t\\t\\t</div>\\r\\n\\t\\t\\t<!-- //crsItem -->\\r\\n\\t\\t\\t<div class=\"crsItem hl-3\">\\r\\n\\t\\t\\t\\t<a href=\"javascript:lecture(\\'00003J12\\');\" class=\"crsInfo\">\\r\\n\\t\\t\\t\\t\\t<img src=\"common/images/course/course_card003.jpg\" >\\r\\n\\t\\t\\t\\t\\t<span class=\"crsDetail\">\\r\\n\\t\\t\\t\\t\\t\\t<span class=\"crsTtl\">\\xe6\\xb5\\xb7\\xe3\\x81\\x8b\\xe3\\x82\\x89\\xe8\\x80\\x83\\xe3\\x81\\x88\\xe3\\x82\\x8b\\xe3\\x81\\x93\\xe3\\x81\\xae\\xe6\\x98\\x9f\\xe3\\x81\\xae\\xe6\\x9c\\xaa\\xe6\\x9d\\xa5\\xef\\xbc\\x9a\\xe6\\xb5\\xb7\\xe6\\xb4\\x8b\\xe5\\xad\\xa6\\xe3\\x81\\xb8\\xe3\\x81\\xae\\xe8\\xaa\\x98\\xe3\\x81\\x84</span>\\r\\n\\t\\t\\t\\t\\t\\t<span class=\"crsUni\">\\xe6\\x9d\\xb1\\xe6\\xb5\\xb7\\xe5\\xa4\\xa7\\xe5\\xad\\xa6</span>\\r\\n\\t\\t\\t\\t\\t\\t<span class=\"crsName\">\\xe5\\x8d\\x83\\xe8\\xb3\\x80 \\xe5\\xba\\xb7\\xe5\\xbc\\x98\\xe3\\x80\\x80\\xe4\\xbb\\x96</span>\\r\\n\\t\\t\\t\\t\\t\\t<span class=\"crsDate\">2015\\xe5\\xb9\\xb410\\xe6\\x9c\\x881\\xe6\\x97\\xa5\\xe9\\x96\\x8b\\xe8\\xac\\x9b <span class=\"label-status4\">\\xe5\\x8f\\x97\\xe4\\xbb\\x98\\xe7\\xb5\\x82\\xe4\\xba\\x86</span></span>\\r\\n\\t\\t\\t\\t\\t\\t<span class=\"crsOpt\">\\xe3\\x80\\x80</span>\\r\\n\\t\\t\\t\\t\\t</span>\\r\\n\\t\\t\\t\\t</a>\\r\\n                        \\t<a class=\"crsVdo\" href=\"https://www.youtube.com/watch?v=XxlRATd9NS8&feature=youtu.be\" target=\"_blank\"><span style=\"font-weight: bold\">PV</span>\\r\\n                            \\t\\t<img src=\"common/images/play-square.png\" ></a>\\r\\n\\t\\t\\t</div>\\r\\n\\t\\t\\t<!-- //crsItem -->\\r\\n\\t\\t\\t<div class=\"crsItem hl-3\">\\r\\n\\t\\t\\t\\t<a href=\"javascript:lecture(\\'00015J11\\');\" class=\"crsInfo\">\\r\\n\\t\\t\\t\\t\\t<img src=\"common/images/course/course_card015.jpg\" >\\r\\n\\t\\t\\t\\t\\t<span class=\"crsDetail\">\\r\\n\\t\\t\\t\\t\\t\\t<span class=\"crsTtl\">\\xe5\\x80\\x8b\\xe4\\xba\\xba\\xe3\\x81\\xa8\\xe7\\xb5\\x84\\xe7\\xb9\\x94\\xe3\\x81\\xae\\xe3\\x81\\x9f\\xe3\\x82\\x81\\xe3\\x81\\xae\\xe6\\x9c\\x80\\xe5\\x85\\x88\\xe7\\xab\\xaf\\xe3\\x82\\xb5\\xe3\\x82\\xa4\\xe3\\x83\\x90\\xe3\\x83\\xbc\\xe3\\x82\\xbb\\xe3\\x82\\xad\\xe3\\x83\\xa5\\xe3\\x83\\xaa\\xe3\\x83\\x86\\xe3\\x82\\xa3\\xe5\\x85\\xa5\\xe9\\x96\\x80</span>\\r\\n\\t\\t\\t\\t\\t\\t<span class=\"label-flip\">\\xe5\\x8f\\x8d\\xe8\\xbb\\xa2\\xe5\\xad\\xa6\\xe7\\xbf\\x92\\xe3\\x82\\xb3\\xe3\\x83\\xbc\\xe3\\x82\\xb9\\xe3\\x81\\x82\\xe3\\x82\\x8a</span>\\r\\n\\t\\t\\t\\t\\t\\t<span class=\"crsUni\">\\xe4\\xb9\\x9d\\xe5\\xb7\\x9e\\xe5\\xa4\\xa7\\xe5\\xad\\xa6</span>\\r\\n\\t\\t\\t\\t\\t\\t<span class=\"crsName\">\\xe5\\xb2\\xa1\\xe6\\x9d\\x91 \\xe8\\x80\\x95\\xe4\\xba\\x8c</span>\\r\\n\\t\\t\\t\\t\\t\\t<span class=\"crsDate\">2015\\xe5\\xb9\\xb411\\xe6\\x9c\\x8810\\xe6\\x97\\xa5\\xe9\\x96\\x8b\\xe8\\xac\\x9b <span class=\"label-status4\">\\xe5\\x8f\\x97\\xe4\\xbb\\x98\\xe7\\xb5\\x82\\xe4\\xba\\x86</span></span>\\r\\n\\t\\t\\t\\t\\t\\t<span class=\"crsOpt\">\\xe2\\x80\\xbb\\xe8\\x8b\\xb1\\xe8\\xaa\\x9e\\xe5\\xad\\x97\\xe5\\xb9\\x95\\xe3\\x81\\x82\\xe3\\x82\\x8a</span>\\r\\n\\t\\t\\t\\t\\t</span>\\r\\n\\t\\t\\t\\t</a>\\r\\n                        \\t<a class=\"crsVdo\" href=\"https://www.youtube.com/watch?v=efOYLH3Rs_o\" target=\"_blank\"><span style=\"font-weight: bold\">PV</span>\\r\\n                            \\t\\t<img src=\"common/images/play-square.png\" ></a>\\r\\n\\t\\t\\t</div>\\r\\n\\t\\t\\t<!-- //crsItem -->\\r\\n\\t\\t\\t<div class=\"crsItem hl-3\">\\r\\n\\t\\t\\t\\t<a href=\"javascript:lecture(\\'00016J11\\');\" class=\"crsInfo\">\\r\\n\\t\\t\\t\\t\\t<img src=\"common/images/course/course_card016.jpg\" >\\r\\n\\t\\t\\t\\t\\t<span class=\"crsDetail\">\\r\\n\\t\\t\\t\\t\\t\\t<span class=\"crsTtl\">\\xe6\\x97\\xa5\\xe6\\x9c\\xac\\xe3\\x81\\xae\\xe3\\x81\\x8d\\xe3\\x82\\x82\\xe3\\x81\\xae \\xef\\xbc\\x8d\\xe6\\xad\\xb4\\xe5\\x8f\\xb2\\xe3\\x81\\xa8\\xe4\\xbb\\x8a\\xef\\xbc\\x8d</span>\\r\\n\\t\\t\\t\\t\\t\\t<span class=\"crsUni\">\\xe5\\xad\\xa6\\xe7\\xbf\\x92\\xe9\\x99\\xa2\\xe5\\xa5\\xb3\\xe5\\xad\\x90\\xe5\\xa4\\xa7\\xe5\\xad\\xa6</span>\\r\\n\\t\\t\\t\\t\\t\\t<span class=\"crsName\">\\xe7\\xa6\\x8f\\xe5\\xb3\\xb6 \\xe9\\x9b\\x85\\xe5\\xad\\x90</span>\\r\\n\\t\\t\\t\\t\\t\\t<span class=\"crsDate\">2015\\xe5\\xb9\\xb411\\xe6\\x9c\\x884\\xe6\\x97\\xa5\\xe9\\x96\\x8b\\xe8\\xac\\x9b <span class=\"label-status4\">\\xe5\\x8f\\x97\\xe4\\xbb\\x98\\xe7\\xb5\\x82\\xe4\\xba\\x86</span></span>\\r\\n\\t\\t\\t\\t\\t\\t<span class=\"crsOpt\">\\xe3\\x80\\x80</span>\\r\\n\\t\\t\\t\\t\\t</span>\\r\\n\\t\\t\\t\\t</a>\\r\\n                        \\t<a class=\"crsVdo\" href=\"https://www.youtube.com/watch?v=Pcr326FtCME\" target=\"_blank\"><span style=\"font-weight: bold\">PV</span>\\r\\n                            \\t\\t<img src=\"common/images/play-square.png\" ></a>\\r\\n\\t\\t\\t</div>\\r\\n\\t\\t\\t<!-- //crsItem -->\\r\\n\\t\\t\\t<div class=\"crsItem hl-3\">\\r\\n\\t\\t\\t\\t<a href=\"javascript:lecture(\\'00005J11\\');\" class=\"crsInfo\">\\r\\n\\t\\t\\t\\t\\t<img src=\"common/images/course/course_card005.jpg\" >\\r\\n\\t\\t\\t\\t\\t<span class=\"crsDetail\">\\r\\n\\t\\t\\t\\t\\t\\t<span class=\"crsTtl\">\\xe6\\x96\\xb0\\xe3\\x82\\xbf\\xe3\\x82\\xa4\\xe7\\xb5\\x8c\\xe6\\xb8\\x88\\xe7\\x99\\xba\\xe5\\xb1\\x95\\xe8\\xab\\x96</span>\\r\\n\\t\\t\\t\\t\\t\\t<span class=\"crsUni\">\\xe6\\x9d\\xb1\\xe4\\xba\\xac\\xe5\\xa4\\x96\\xe5\\x9b\\xbd\\xe8\\xaa\\x9e\\xe5\\xa4\\xa7\\xe5\\xad\\xa6</span>\\r\\n\\t\\t\\t\\t\\t\\t<span class=\"crsName\">\\xe5\\xae\\xae\\xe7\\x94\\xb0 \\xe6\\x95\\x8f\\xe4\\xb9\\x8b</span>\\r\\n\\t\\t\\t\\t\\t\\t<span class=\"crsDate\">2016\\xe5\\xb9\\xb41\\xe6\\x9c\\x8812\\xe6\\x97\\xa5\\xe9\\x96\\x8b\\xe8\\xac\\x9b <span class=\"label-status4\">\\xe5\\x8f\\x97\\xe4\\xbb\\x98\\xe7\\xb5\\x82\\xe4\\xba\\x86</span></span>\\r\\n\\t\\t\\t\\t\\t\\t<span class=\"crsOpt\">\\xe3\\x80\\x80</span>\\r\\n\\t\\t\\t\\t\\t</span>\\r\\n\\t\\t\\t\\t</a>\\r\\n                        \\t<a class=\"crsVdo\" href=\"https://www.youtube.com/watch?v=2w-k62fUto0\" target=\"_blank\"><span style=\"font-weight: bold\">PV</span>\\r\\n                            \\t\\t<img src=\"common/images/play-square.png\" ></a>\\r\\n\\t\\t\\t</div>\\r\\n\\t\\t\\t<!-- //crsItem -->\\r\\n\\t\\t\\t<div class=\"crsItem hl-3\">\\r\\n\\t\\t\\t\\t<a href=\"javascript:lecture(\\'00001J12\\');\" class=\"crsInfo\">\\r\\n\\t\\t\\t\\t\\t<img src=\"common/images/course/course_card018.jpg\" >\\r\\n\\t\\t\\t\\t\\t<span class=\"crsDetail\">\\r\\n\\t\\t\\t\\t\\t\\t<span class=\"crsTtl\">Global Social Archaeology: expanded edition<br>\\xef\\xbc\\x88\\xe3\\x82\\xb0\\xe3\\x83\\xad\\xe3\\x83\\xbc\\xe3\\x83\\x90\\xe3\\x83\\xab\\xe7\\xa4\\xbe\\xe4\\xbc\\x9a\\xe8\\x80\\x83\\xe5\\x8f\\xa4\\xe5\\xad\\xa6\\xef\\xbc\\x9a\\xe5\\xa2\\x97\\xe8\\xa3\\x9c\\xe7\\x89\\x88\\xef\\xbc\\x89</span>\\r\\n\\t\\t\\t\\t\\t\\t<span class=\"label-flip\">\\xe5\\x8f\\x8d\\xe8\\xbb\\xa2\\xe5\\xad\\xa6\\xe7\\xbf\\x92\\xe3\\x82\\xb3\\xe3\\x83\\xbc\\xe3\\x82\\xb9\\xe3\\x81\\x82\\xe3\\x82\\x8a</span>\\r\\n\\t\\t\\t\\t\\t\\t<span class=\"crsUni\">Kyushu University</span>\\r\\n\\t\\t\\t\\t\\t\\t<span class=\"crsName\">Koji Mizoguchi\\xe3\\x80\\x81Claire Smith</span>\\r\\n\\t\\t\\t\\t\\t\\t<span class=\"crsDate\">2016\\xe5\\xb9\\xb41\\xe6\\x9c\\x8812\\xe6\\x97\\xa5\\xe9\\x96\\x8b\\xe8\\xac\\x9b <span class=\"label-status4\">\\xe5\\x8f\\x97\\xe4\\xbb\\x98\\xe7\\xb5\\x82\\xe4\\xba\\x86</span></span>\\r\\n\\t\\t\\t\\t\\t\\t<span class=\"crsOpt\">\\xe2\\x80\\xbb\\xe6\\x97\\xa5\\xe6\\x9c\\xac\\xe8\\xaa\\x9e\\xe8\\xa8\\xb3\\xe3\\x81\\x82\\xe3\\x82\\x8a</span>\\r\\n\\t\\t\\t\\t\\t</span>\\r\\n\\t\\t\\t\\t</a>\\r\\n                        \\t<a class=\"crsVdo\" href=\"https://www.youtube.com/watch?v=GOiZhvHayHE\" target=\"_blank\"><span style=\"font-weight: bold\">PV</span>\\r\\n                            \\t\\t<img src=\"common/images/play-square.png\" ></a>\\r\\n\\t\\t\\t</div>\\r\\n\\t\\t\\t<!-- //crsItem -->\\r\\n\\t\\t\\t<div class=\"crsItem hl-3\">\\r\\n\\t\\t\\t\\t<a href=\"javascript:lecture(\\'00017J11\\');\" class=\"crsInfo\">\\r\\n\\t\\t\\t\\t\\t<img src=\"common/images/course/course_card017.jpg\" >\\r\\n\\t\\t\\t\\t\\t<span class=\"crsDetail\">\\r\\n\\t\\t\\t\\t\\t\\t<span class=\"crsTtl\">\\xe3\\x81\\x95\\xe3\\x81\\x82\\xef\\xbc\\x81\\xe3\\x83\\x97\\xe3\\x83\\xad\\xe3\\x82\\xb8\\xe3\\x82\\xa7\\xe3\\x82\\xaf\\xe3\\x83\\x88\\xe5\\xad\\xa6\\xe7\\xbf\\x92\\xe3\\x81\\xa8\\xe3\\x83\\x9d\\xe3\\x83\\xbc\\xe3\\x83\\x88\\xe3\\x83\\x95\\xe3\\x82\\xa9\\xe3\\x83\\xaa\\xe3\\x82\\xaa\\xe3\\x82\\x92\\xe5\\xa7\\x8b\\xe3\\x82\\x81\\xe3\\x82\\x88\\xe3\\x81\\x86\\xef\\xbc\\x81</span>\\r\\n\\t\\t\\t\\t\\t\\t<span class=\"crsUni\">\\xe3\\x82\\xb7\\xe3\\x83\\xb3\\xe3\\x82\\xaf\\xe3\\x82\\xbf\\xe3\\x83\\xb3\\xe3\\x82\\xaf\\xe6\\x9c\\xaa\\xe6\\x9d\\xa5\\xe6\\x95\\x99\\xe8\\x82\\xb2\\xe3\\x83\\x93\\xe3\\x82\\xb8\\xe3\\x83\\xa7\\xe3\\x83\\xb3</span>\\r\\n\\t\\t\\t\\t\\t\\t<span class=\"crsName\">\\xe9\\x88\\xb4\\xe6\\x9c\\xa8 \\xe6\\x95\\x8f\\xe6\\x81\\xb5</span>\\r\\n\\t\\t\\t\\t\\t\\t<span class=\"crsDate\">2016\\xe5\\xb9\\xb41\\xe6\\x9c\\x8818\\xe6\\x97\\xa5\\xe9\\x96\\x8b\\xe8\\xac\\x9b <span class=\"label-status4\">\\xe5\\x8f\\x97\\xe4\\xbb\\x98\\xe7\\xb5\\x82\\xe4\\xba\\x86</span></span>\\r\\n\\t\\t\\t\\t\\t\\t<span class=\"crsOpt\">\\xe3\\x80\\x80</span>\\r\\n\\t\\t\\t\\t\\t</span>\\r\\n\\t\\t\\t\\t</a>\\r\\n                        \\t<a class=\"crsVdo\" href=\"https://www.youtube.com/watch?v=yVPepebkBdo\" target=\"_blank\"><span style=\"font-weight: bold\">PV</span>\\r\\n                            \\t\\t<img src=\"common/images/play-square.png\" ></a>\\r\\n\\t\\t\\t</div>\\r\\n\\t\\t\\t<!-- //crsItem -->\\r\\n\\t\\t\\t<div class=\"crsItem hl-3\">\\r\\n\\t\\t\\t\\t<a href=\"javascript:lecture(\\'00014J11\\');\" class=\"crsInfo\">\\r\\n\\t\\t\\t\\t\\t<img src=\"common/images/course/course_card014.jpg\" >\\r\\n\\t\\t\\t\\t\\t<span class=\"crsDetail\">\\r\\n\\t\\t\\t\\t\\t\\t<span class=\"crsTtl\">\\xe7\\xa4\\xbe\\xe4\\xbc\\x9a\\xe3\\x81\\xae\\xe3\\x81\\x97\\xe3\\x81\\x8f\\xe3\\x81\\xbf \\xef\\xbc\\x8d\\xe8\\xa6\\x8f\\xe5\\x88\\xb6\\xe3\\x82\\x92\\xe5\\xad\\xa6\\xe9\\x9a\\x9b\\xe7\\x9a\\x84\\xe3\\x81\\xab\\xe8\\x80\\x83\\xe3\\x81\\x88\\xe3\\x82\\x8b\\xef\\xbc\\x8d</span>\\r\\n\\t\\t\\t\\t\\t\\t<span class=\"label-flip\">\\xe5\\x8f\\x8d\\xe8\\xbb\\xa2\\xe5\\xad\\xa6\\xe7\\xbf\\x92\\xe3\\x82\\xb3\\xe3\\x83\\xbc\\xe3\\x82\\xb9\\xe3\\x81\\x82\\xe3\\x82\\x8a</span>\\r\\n\\t\\t\\t\\t\\t\\t<span class=\"crsUni\">\\xe6\\x9d\\x8f\\xe6\\x9e\\x97\\xe5\\xa4\\xa7\\xe5\\xad\\xa6</span>\\r\\n\\t\\t\\t\\t\\t\\t<span class=\"crsName\">\\xe6\\x9c\\xa8\\xe6\\x9a\\xae \\xe5\\x81\\xa5\\xe5\\xa4\\xaa\\xe9\\x83\\x8e\\xe3\\x80\\x80\\xe4\\xbb\\x964\\xe5\\x90\\x8d</span>\\r\\n\\t\\t\\t\\t\\t\\t<span class=\"crsDate\">2016\\xe5\\xb9\\xb41\\xe6\\x9c\\x8818\\xe6\\x97\\xa5\\xe9\\x96\\x8b\\xe8\\xac\\x9b <span class=\"label-status4\">\\xe5\\x8f\\x97\\xe4\\xbb\\x98\\xe7\\xb5\\x82\\xe4\\xba\\x86</span></span>\\r\\n\\t\\t\\t\\t\\t\\t<span class=\"crsOpt\">\\xe3\\x80\\x80</span>\\r\\n\\t\\t\\t\\t\\t</span>\\r\\n\\t\\t\\t\\t</a>\\r\\n                        \\t<a class=\"crsVdo\" href=\"https://www.youtube.com/watch?v=mPYwQLZ0xlY\" target=\"_blank\"><span style=\"font-weight: bold\">PV</span>\\r\\n                            \\t\\t<img src=\"common/images/play-square.png\" ></a>\\r\\n\\t\\t\\t</div>\\r\\n\\t\\t\\t<!-- //crsItem -->\\r\\n\\t\\t\\t<div class=\"crsItem hl-3\">\\r\\n\\t\\t\\t\\t<a href=\"javascript:lecture(\\'00006J12\\');\" class=\"crsInfo\">\\r\\n\\t\\t\\t\\t\\t<img src=\"common/images/course/course_card006.jpg\" >\\r\\n\\t\\t\\t\\t\\t<span class=\"crsDetail\">\\r\\n\\t\\t\\t\\t\\t\\t<span class=\"crsTtl\">\\xe5\\xbf\\x9c\\xe7\\x94\\xa8\\xe6\\x83\\x85\\xe5\\xa0\\xb1\\xe5\\xad\\xa6\\xe3\\x81\\xb8\\xe3\\x81\\xae\\xe6\\x8b\\x9b\\xe5\\xbe\\x85</span>\\r\\n\\t\\t\\t\\t\\t\\t<span class=\"label-flip\">\\xe5\\x8f\\x8d\\xe8\\xbb\\xa2\\xe5\\xad\\xa6\\xe7\\xbf\\x92\\xe3\\x82\\xb3\\xe3\\x83\\xbc\\xe3\\x82\\xb9\\xe3\\x81\\x82\\xe3\\x82\\x8a</span>\\r\\n\\t\\t\\t\\t\\t\\t<span class=\"crsUni\">\\xe4\\xba\\xac\\xe9\\x83\\xbd\\xe6\\x83\\x85\\xe5\\xa0\\xb1\\xe5\\xa4\\xa7\\xe5\\xad\\xa6\\xe9\\x99\\xa2\\xe5\\xa4\\xa7\\xe5\\xad\\xa6</span>\\r\\n\\t\\t\\t\\t\\t\\t<span class=\"crsName\">\\xe8\\x8c\\xa8\\xe6\\x9c\\xa8 \\xe4\\xbf\\x8a\\xe7\\xa7\\x80\\xe3\\x80\\x81\\xe6\\xb1\\x9f\\xe8\\xa6\\x8b \\xe5\\x9c\\xad\\xe5\\x8f\\xb8\\xe3\\x80\\x81\\xe4\\xb8\\x8a\\xe7\\x94\\xb0 \\xe6\\xb2\\xbb\\xe6\\x96\\x87\\xe3\\x80\\x81\\xe5\\xa5\\x88\\xe8\\x97\\x8f \\xe4\\xbd\\x90\\xe4\\xbf\\x9d\\xe5\\xad\\x90\\xe3\\x80\\x81\\xe5\\xb2\\xa1\\xe6\\x9c\\xac \\xe6\\x95\\x8f\\xe9\\x9b\\x84</span>\\r\\n\\t\\t\\t\\t\\t\\t<span class=\"crsDate\">2016\\xe5\\xb9\\xb42\\xe6\\x9c\\x888\\xe6\\x97\\xa5\\xe9\\x96\\x8b\\xe8\\xac\\x9b <span class=\"label-status4\">\\xe5\\x8f\\x97\\xe4\\xbb\\x98\\xe7\\xb5\\x82\\xe4\\xba\\x86</span></span>\\r\\n\\t\\t\\t\\t\\t\\t<span class=\"crsOpt\">\\xe3\\x80\\x80</span>\\r\\n\\t\\t\\t\\t\\t</span>\\r\\n\\t\\t\\t\\t</a>\\r\\n                        \\t<a class=\"crsVdo\" href=\"https://www.youtube.com/watch?v=Wy78NwceNiA\" target=\"_blank\"><span style=\"font-weight: bold\">PV</span>\\r\\n                            \\t\\t<img src=\"common/images/play-square.png\" ></a>\\r\\n\\t\\t\\t</div>\\r\\n\\t\\t\\t<!-- //crsItem -->\\r\\n\\t\\t\\t<div class=\"crsItem hl-3\">\\r\\n\\t\\t\\t\\t<a href=\"javascript:lecture(\\'00002J12\\');\" class=\"crsInfo\">\\r\\n\\t\\t\\t\\t\\t<img src=\"common/images/course/course_card002.jpg\" >\\r\\n\\t\\t\\t\\t\\t<span class=\"crsDetail\">\\r\\n\\t\\t\\t\\t\\t\\t<span class=\"crsTtl\">\\xe3\\x82\\xa2\\xe3\\x83\\xa1\\xe3\\x83\\xaa\\xe3\\x82\\xab\\xe6\\x98\\xa0\\xe7\\x94\\xbb\\xe3\\x81\\xa8\\xe6\\x94\\xbf\\xe6\\xb2\\xbb</span>\\r\\n\\t\\t\\t\\t\\t\\t<span class=\"crsUni\">\\xe5\\x90\\x8c\\xe5\\xbf\\x97\\xe7\\xa4\\xbe\\xe5\\xa4\\xa7\\xe5\\xad\\xa6</span>\\r\\n\\t\\t\\t\\t\\t\\t<span class=\"crsName\">\\xe6\\x9d\\x91\\xe7\\x94\\xb0 \\xe6\\x99\\x83\\xe5\\x97\\xa3</span>\\r\\n\\t\\t\\t\\t\\t\\t<span class=\"crsDate\">2016\\xe5\\xb9\\xb42\\xe6\\x9c\\x8825\\xe6\\x97\\xa5\\xe9\\x96\\x8b\\xe8\\xac\\x9b <span class=\"label-status4\">\\xe5\\x8f\\x97\\xe4\\xbb\\x98\\xe7\\xb5\\x82\\xe4\\xba\\x86</span></span>\\r\\n\\t\\t\\t\\t\\t\\t<span class=\"crsOpt\">\\xe3\\x80\\x80</span>\\r\\n\\t\\t\\t\\t\\t</span>\\r\\n\\t\\t\\t\\t</a>\\r\\n                        \\t<a class=\"crsVdo\" href=\"https://www.youtube.com/watch?v=NMTSCI7SsR8\" target=\"_blank\"><span style=\"font-weight: bold\">PV</span>\\r\\n                            \\t\\t<img src=\"common/images/play-square.png\" ></a>\\r\\n\\t\\t\\t</div>\\r\\n\\t\\t\\t<!-- //crsItem -->\\r\\n\\t\\t\\t<div class=\"crsItem hl-3\">\\r\\n\\t\\t\\t\\t<a href=\"javascript:lecture(\\'00009J12\\');\" class=\"crsInfo\">\\r\\n\\t\\t\\t\\t\\t<img src=\"common/images/course/course_card009.jpg\" >\\r\\n\\t\\t\\t\\t\\t<span class=\"crsDetail\">\\r\\n\\t\\t\\t\\t\\t\\t<span class=\"crsTtl\">\\xe3\\x81\\x97\\xe3\\x81\\x82\\xe3\\x82\\x8f\\xe3\\x81\\x9b\\xe3\\x81\\xab\\xe7\\x94\\x9f\\xe3\\x81\\x8d\\xe3\\x82\\x8b\\xe3\\x81\\x9f\\xe3\\x82\\x81\\xe3\\x81\\xae\\xe5\\xbf\\x83\\xe7\\x90\\x86\\xe5\\xad\\xa6 \\xef\\xbd\\x9e\\xe3\\x82\\xa2\\xe3\\x83\\x89\\xe3\\x83\\xa9\\xe3\\x83\\xbc\\xe5\\xbf\\x83\\xe7\\x90\\x86\\xe5\\xad\\xa6\\xe5\\x85\\xa5\\xe9\\x96\\x80\\xef\\xbd\\x9e</span>\\r\\n\\t\\t\\t\\t\\t\\t<span class=\"label-flip\">\\xe5\\x8f\\x8d\\xe8\\xbb\\xa2\\xe5\\xad\\xa6\\xe7\\xbf\\x92\\xe3\\x82\\xb3\\xe3\\x83\\xbc\\xe3\\x82\\xb9\\xe3\\x81\\x82\\xe3\\x82\\x8a</span>\\r\\n\\t\\t\\t\\t\\t\\t<span class=\"crsUni\">\\xe6\\x97\\xa9\\xe7\\xa8\\xb2\\xe7\\x94\\xb0\\xe5\\xa4\\xa7\\xe5\\xad\\xa6</span>\\r\\n\\t\\t\\t\\t\\t\\t<span class=\"crsName\">\\xe5\\x90\\x91\\xe5\\xbe\\x8c \\xe5\\x8d\\x83\\xe6\\x98\\xa5</span>\\r\\n\\t\\t\\t\\t\\t\\t<span class=\"crsDate\">2016\\xe5\\xb9\\xb45\\xe6\\x9c\\x8816\\xe6\\x97\\xa5\\xe9\\x96\\x8b\\xe8\\xac\\x9b <span class=\"label-status4\">\\xe5\\x8f\\x97\\xe4\\xbb\\x98\\xe7\\xb5\\x82\\xe4\\xba\\x86</span></span>\\r\\n\\t\\t\\t\\t\\t\\t<span class=\"crsOpt\">\\xe3\\x80\\x80</span>\\r\\n\\t\\t\\t\\t\\t</span>\\r\\n\\t\\t\\t\\t</a>\\r\\n                        \\t<a class=\"crsVdo\" href=\"https://www.youtube.com/watch?v=gp_HOyy0YDA\" target=\"_blank\"><span style=\"font-weight: bold\">PV</span>\\r\\n                            \\t\\t<img src=\"common/images/play-square.png\" ></a>\\r\\n\\t\\t\\t</div>\\r\\n\\t\\t\\t<!-- //crsItem -->\\r\\n\\t\\t\\t<div class=\"crsItem hl-3\">\\r\\n\\t\\t\\t\\t<a href=\"javascript:lecture(\\'00018J11\\');\" class=\"crsInfo\">\\r\\n\\t\\t\\t\\t\\t<img src=\"common/images/course/course_card018.png\" >\\r\\n\\t\\t\\t\\t\\t<span class=\"crsDetail\">\\r\\n\\t\\t\\t\\t\\t\\t<span class=\"crsTtl\">\\xe7\\x94\\x9f\\xe6\\xb4\\xbb\\xe7\\xbf\\x92\\xe6\\x85\\xa3\\xe3\\x81\\xae\\xe6\\x94\\xb9\\xe5\\x96\\x84\\xe3\\x81\\xa7\\xe3\\x81\\x8c\\xe3\\x82\\x93\\xe3\\x82\\x92\\xe9\\x98\\xb2\\xe3\\x81\\x90</span>\\r\\n\\t\\t\\t\\t\\t\\t<span class=\"crsUni\">\\xe5\\x89\\xb5\\xe4\\xbe\\xa1\\xe5\\xa4\\xa7\\xe5\\xad\\xa6</span>\\r\\n\\t\\t\\t\\t\\t\\t<span class=\"crsName\">\\xe4\\xb8\\xad\\xe6\\xb3\\x89 \\xe6\\x98\\x8e\\xe5\\xbd\\xa6</span>\\r\\n\\t\\t\\t\\t\\t\\t<span class=\"crsDate\">2016\\xe5\\xb9\\xb46\\xe6\\x9c\\x8828\\xe6\\x97\\xa5\\xe9\\x96\\x8b\\xe8\\xac\\x9b <span class=\"label-status4\">\\xe5\\x8f\\x97\\xe4\\xbb\\x98\\xe7\\xb5\\x82\\xe4\\xba\\x86</span></span>\\r\\n\\t\\t\\t\\t\\t\\t<span class=\"crsOpt\">\\xe3\\x80\\x80</span>\\r\\n\\t\\t\\t\\t\\t</span>\\r\\n\\t\\t\\t\\t</a>\\r\\n                        \\t<a class=\"crsVdo\" href=\"https://www.youtube.com/watch?v=_Dk0sE4JQKc\" target=\"_blank\"><span style=\"font-weight: bold\">PV</span>\\r\\n                            \\t\\t<img src=\"common/images/play-square.png\" ></a>\\r\\n\\t\\t\\t</div>\\r\\n\\t\\t\\t<!-- //crsItem -->\\r\\n\\t\\t\\t<div class=\"crsItem hl-3\">\\r\\n\\t\\t\\t\\t<a href=\"javascript:lecture(\\'00019J11\\');\" class=\"crsInfo\">\\r\\n\\t\\t\\t\\t\\t<img src=\"common/images/course/course_card019.jpg\" >\\r\\n\\t\\t\\t\\t\\t<span class=\"crsDetail\">\\r\\n\\t\\t\\t\\t\\t\\t<span class=\"crsTtl\">\\xe5\\x91\\xb3\\xe3\\x81\\xa8\\xe5\\x8c\\x82\\xe3\\x81\\x84\\xe3\\x81\\xae\\xe7\\xa7\\x91\\xe5\\xad\\xa6\\xe6\\x8a\\x80\\xe8\\xa1\\x93</span>\\r\\n\\t\\t\\t\\t\\t\\t<span class=\"crsUni\">\\xe4\\xb9\\x9d\\xe5\\xb7\\x9e\\xe5\\xa4\\xa7\\xe5\\xad\\xa6</span>\\r\\n\\t\\t\\t\\t\\t\\t<span class=\"crsName\">\\xe9\\x83\\xbd\\xe7\\x94\\xb2 \\xe6\\xbd\\x94</span>\\r\\n\\t\\t\\t\\t\\t\\t<span class=\"crsDate\">2016\\xe5\\xb9\\xb49\\xe6\\x9c\\x8823\\xe6\\x97\\xa5\\xe9\\x96\\x8b\\xe8\\xac\\x9b <span class=\"label-status4\">\\xe5\\x8f\\x97\\xe4\\xbb\\x98\\xe7\\xb5\\x82\\xe4\\xba\\x86</span></span>\\r\\n\\t\\t\\t\\t\\t\\t<span class=\"crsOpt\">\\xe3\\x80\\x80</span>\\r\\n\\t\\t\\t\\t\\t</span>\\r\\n\\t\\t\\t\\t</a>\\r\\n                        \\t<a class=\"crsVdo\" href=\"https://www.youtube.com/watch?v=Ou6TbT3LZfU\" target=\"_blank\"><span style=\"font-weight: bold\">PV</span>\\r\\n                            \\t\\t<img src=\"common/images/play-square.png\" ></a>\\r\\n\\t\\t\\t</div>\\r\\n\\t\\t\\t<!-- //crsItem -->\\r\\n\\t\\t\\t<div class=\"crsItem hl-3\">\\r\\n\\t\\t\\t\\t<a href=\"javascript:lecture(\\'00020J11\\');\" class=\"crsInfo\">\\r\\n\\t\\t\\t\\t\\t<img src=\"common/images/course/course_card020.jpg\" >\\r\\n\\t\\t\\t\\t\\t<span class=\"crsDetail\">\\r\\n\\t\\t\\t\\t\\t\\t<span class=\"crsTtl\">\\xe5\\x91\\xb3\\xe3\\x82\\x8f\\xe3\\x81\\x84\\xe6\\x95\\x99\\xe8\\x82\\xb2\\xef\\xbd\\x9e\\xe6\\x84\\x9f\\xe3\\x81\\x98\\xe3\\x82\\x8b\\xe3\\x81\\xa8\\xe3\\x81\\x8a\\xe3\\x81\\x84\\xe3\\x81\\x97\\xe3\\x81\\x8f\\xe3\\x81\\xaa\\xe3\\x82\\x8b\\xe9\\xad\\x94\\xe6\\xb3\\x95</span>\\r\\n\\t\\t\\t\\t\\t\\t<span class=\"label-flip\">\\xe5\\x8f\\x8d\\xe8\\xbb\\xa2\\xe5\\xad\\xa6\\xe7\\xbf\\x92\\xe3\\x82\\xb3\\xe3\\x83\\xbc\\xe3\\x82\\xb9\\xe3\\x81\\x82\\xe3\\x82\\x8a</span>\\r\\n\\t\\t\\t\\t\\t\\t<span class=\"crsUni\">\\xe5\\xad\\xa6\\xe7\\xbf\\x92\\xe9\\x99\\xa2\\xe5\\xa5\\xb3\\xe5\\xad\\x90\\xe5\\xa4\\xa7\\xe5\\xad\\xa6</span>\\r\\n\\t\\t\\t\\t\\t\\t<span class=\"crsName\">\\xe5\\x93\\x81\\xe5\\xb7\\x9d \\xe6\\x98\\x8e</span>\\r\\n\\t\\t\\t\\t\\t\\t<span class=\"crsDate\">2016\\xe5\\xb9\\xb410\\xe6\\x9c\\x8811\\xe6\\x97\\xa5\\xe9\\x96\\x8b\\xe8\\xac\\x9b <span class=\"label-status4\">\\xe5\\x8f\\x97\\xe4\\xbb\\x98\\xe7\\xb5\\x82\\xe4\\xba\\x86</span></span>\\r\\n\\t\\t\\t\\t\\t\\t<span class=\"crsOpt\">\\xe3\\x80\\x80</span>\\r\\n\\t\\t\\t\\t\\t</span>\\r\\n\\t\\t\\t\\t</a>\\r\\n                        \\t<a class=\"crsVdo\" href=\"https://www.youtube.com/watch?v=hmdjLMnz_Vw\" target=\"_blank\"><span style=\"font-weight: bold\">PV</span>\\r\\n                            \\t\\t<img src=\"common/images/play-square.png\" ></a>\\r\\n\\t\\t\\t</div>\\r\\n\\t\\t\\t<!-- //crsItem -->\\r\\n\\t\\t\\t<div class=\"crsItem hl-3\">\\r\\n\\t\\t\\t\\t<a href=\"javascript:lecture(\\'00013J12\\');\" class=\"crsInfo\">\\r\\n\\t\\t\\t\\t\\t<img src=\"common/images/course/course_card013.jpg\" >\\r\\n\\t\\t\\t\\t\\t<span class=\"crsDetail\">\\r\\n\\t\\t\\t\\t\\t\\t<span class=\"crsTtl\">\\xe4\\xb8\\x96\\xe7\\x95\\x8c\\xe3\\x82\\x92\\xe5\\xa4\\x89\\xe3\\x81\\x88\\xe3\\x81\\x9f\\xe6\\x9b\\xb8\\xe7\\x89\\xa9 \\xef\\xbc\\x8d\\xe5\\x8e\\x9f\\xe8\\x91\\x97\\xe3\\x81\\xa7\\xe8\\xbe\\xbf\\xe3\\x82\\x8b\\xe7\\xa7\\x91\\xe5\\xad\\xa6\\xe7\\x9f\\xa5\\xe3\\x81\\xae\\xe6\\xbd\\xae\\xe6\\xb5\\x81\\xef\\xbc\\x8d</span>\\r\\n\\t\\t\\t\\t\\t\\t<span class=\"crsUni\">\\xe9\\x87\\x91\\xe6\\xb2\\xa2\\xe5\\xb7\\xa5\\xe6\\xa5\\xad\\xe5\\xa4\\xa7\\xe5\\xad\\xa6</span>\\r\\n\\t\\t\\t\\t\\t\\t<span class=\"crsName\">\\xe7\\xab\\xba \\xe8\\xa6\\x9a\\xe6\\x9a\\x81</span>\\r\\n\\t\\t\\t\\t\\t\\t<span class=\"crsDate\">2016\\xe5\\xb9\\xb411\\xe6\\x9c\\x887\\xe6\\x97\\xa5\\xe9\\x96\\x8b\\xe8\\xac\\x9b <span class=\"label-status4\">\\xe5\\x8f\\x97\\xe4\\xbb\\x98\\xe7\\xb5\\x82\\xe4\\xba\\x86</span></span>\\r\\n\\t\\t\\t\\t\\t\\t<span class=\"crsOpt\">\\xe3\\x80\\x80</span>\\r\\n\\t\\t\\t\\t\\t</span>\\r\\n\\t\\t\\t\\t</a>\\r\\n                        \\t<a class=\"crsVdo\" href=\"https://www.youtube.com/watch?v=D2KACjVF01E\" target=\"_blank\"><span style=\"font-weight: bold\">PV</span>\\r\\n                            \\t\\t<img src=\"../common/images/play-square.png\" ></a>\\r\\n\\t\\t\\t</div>\\r\\n\\xe3\\x80\\x80\\xe3\\x80\\x80\\xe3\\x80\\x80\\xe3\\x80\\x80\\xe3\\x80\\x80\\xe3\\x80\\x80\\xe3\\x80\\x80\\xe3\\x80\\x80\\xe3\\x80\\x80\\xe3\\x80\\x80\\xe3\\x80\\x80\\xe3\\x80\\x80<!-- //crsItem -->\\r\\n\\t\\t\\t<div class=\"crsItem hl-3\">\\r\\n\\t\\t\\t\\t<a href=\"javascript:lecture(\\'00021J11\\');\" class=\"crsInfo\">\\r\\n\\t\\t\\t\\t\\t<img src=\"common/images/course/course_card021.jpg\" >\\r\\n\\t\\t\\t\\t\\t<span class=\"crsDetail\">\\r\\n\\t\\t\\t\\t\\t\\t<span class=\"crsTtl\">\\xe8\\xbe\\xb2\\xe5\\xad\\xa6\\xe3\\x81\\x8c\\xe3\\x82\\x88\\xe3\\x81\\xbf\\xe3\\x81\\xa8\\xe3\\x81\\x8f\\xe3\\x80\\x8c\\xe3\\x81\\x84\\xe3\\x81\\xae\\xe3\\x81\\xa1\\xe3\\x80\\x8d\\xe3\\x81\\xa8\\xe3\\x80\\x8c\\xe7\\x94\\x9f\\xe6\\xb4\\xbb\\xe3\\x80\\x8d \\xef\\xbd\\x9e\\xe6\\x8c\\x81\\xe7\\xb6\\x9a\\xe7\\x99\\xba\\xe5\\xb1\\x95\\xe5\\x8f\\xaf\\xe8\\x83\\xbd\\xe3\\x81\\xaa\\xe7\\xa4\\xbe\\xe4\\xbc\\x9a\\xe3\\x81\\xb8\\xef\\xbd\\x9e</span>\\r\\n\\t\\t\\t\\t\\t\\t<span class=\"crsUni\">\\xe6\\x9d\\xb1\\xe4\\xba\\xac\\xe8\\xbe\\xb2\\xe5\\xb7\\xa5\\xe5\\xa4\\xa7\\xe5\\xad\\xa6</span>\\r\\n\\t\\t\\t\\t\\t\\t<span class=\"crsName\">\\xe9\\x87\\x8e\\xe6\\x9d\\x91 \\xe7\\xbe\\xa9\\xe5\\xae\\x8f\\xe3\\x80\\x81\\xe9\\xab\\x98\\xe7\\x94\\xb0 \\xe7\\xa7\\x80\\xe9\\x87\\x8d\\xe3\\x80\\x81\\xe6\\xa8\\xaa\\xe5\\xb1\\xb1 \\xe6\\xad\\xa3\\xe3\\x80\\x81\\xe6\\xad\\xa6\\xe7\\x94\\xb0 \\xe5\\xba\\x84\\xe5\\xb9\\xb3</span>\\r\\n\\t\\t\\t\\t\\t\\t<span class=\"crsDate\">2016\\xe5\\xb9\\xb412\\xe6\\x9c\\x881\\xe6\\x97\\xa5\\xe9\\x96\\x8b\\xe8\\xac\\x9b <span class=\"label-status4\">\\xe5\\x8f\\x97\\xe4\\xbb\\x98\\xe7\\xb5\\x82\\xe4\\xba\\x86</span></span>\\r\\n\\t\\t\\t\\t\\t\\t<span class=\"crsOpt\">\\xe3\\x80\\x80</span>\\r\\n\\t\\t\\t\\t\\t</span>\\r\\n\\t\\t\\t\\t</a>\\r\\n                        \\t<a class=\"crsVdo\" href=\"https://www.youtube.com/watch?v=8oV1Jko1pcw\" target=\"_blank\"><span style=\"font-weight: bold\">PV</span>\\r\\n                            \\t\\t<img src=\"../common/images/play-square.png\" ></a>\\r\\n\\t\\t\\t</div>\\r\\n\\t\\t\\t<!-- //crsItem -->\\r\\n\\t\\t\\t<div class=\"crsItem hl-3\">\\r\\n\\t\\t\\t\\t<a href=\"javascript:lecture(\\'00014J12\\');\" class=\"crsInfo\">\\r\\n\\t\\t\\t\\t\\t<img src=\"common/images/course/course_card014.jpg\" >\\r\\n\\t\\t\\t\\t\\t<span class=\"crsDetail\">\\r\\n\\t\\t\\t\\t\\t\\t<span class=\"crsTtl\">\\xe7\\xa4\\xbe\\xe4\\xbc\\x9a\\xe3\\x81\\xae\\xe3\\x81\\x97\\xe3\\x81\\x8f\\xe3\\x81\\xbf \\xef\\xbc\\x8d\\xe8\\xa6\\x8f\\xe5\\x88\\xb6\\xe3\\x82\\x92\\xe5\\xad\\xa6\\xe9\\x9a\\x9b\\xe7\\x9a\\x84\\xe3\\x81\\xab\\xe8\\x80\\x83\\xe3\\x81\\x88\\xe3\\x82\\x8b\\xef\\xbc\\x8d</span>\\r\\n\\t\\t\\t\\t\\t\\t<span class=\"crsUni\">\\xe6\\x9d\\x8f\\xe6\\x9e\\x97\\xe5\\xa4\\xa7\\xe5\\xad\\xa6</span>\\r\\n\\t\\t\\t\\t\\t\\t<span class=\"crsName\">\\xe6\\x9c\\xa8\\xe6\\x9a\\xae \\xe5\\x81\\xa5\\xe5\\xa4\\xaa\\xe9\\x83\\x8e\\xe3\\x80\\x80\\xe4\\xbb\\x964\\xe5\\x90\\x8d</span>\\r\\n\\t\\t\\t\\t\\t\\t<span class=\"crsDate\">2017\\xe5\\xb9\\xb41\\xe6\\x9c\\x8810\\xe6\\x97\\xa5\\xe9\\x96\\x8b\\xe8\\xac\\x9b <span class=\"label-status4\">\\xe5\\x8f\\x97\\xe4\\xbb\\x98\\xe7\\xb5\\x82\\xe4\\xba\\x86</span></span>\\r\\n\\t\\t\\t\\t\\t\\t<span class=\"crsOpt\">\\xe3\\x80\\x80</span>\\r\\n\\t\\t\\t\\t\\t</span>\\r\\n\\t\\t\\t\\t</a>\\r\\n                        \\t<a class=\"crsVdo\" href=\"https://www.youtube.com/watch?v=mPYwQLZ0xlY\" target=\"_blank\"><span style=\"font-weight: bold\">PV</span>\\r\\n                            \\t\\t<img src=\"common/images/play-square.png\" ></a>\\r\\n\\t\\t\\t</div>\\r\\n\\t\\t\\t<!-- //crsItem -->\\r\\n\\t\\t\\t<div class=\"crsItem hl-3\">\\r\\n\\t\\t\\t\\t<a href=\"javascript:lecture(\\'00022J11\\');\" class=\"crsInfo\">\\r\\n\\t\\t\\t\\t\\t<img src=\"common/images/course/course_card022.jpg\" >\\r\\n\\t\\t\\t\\t\\t<span class=\"crsDetail\">\\r\\n\\t\\t\\t\\t\\t\\t<span class=\"crsTtl\">\\xe7\\xa4\\xbe\\xe4\\xbc\\x9a\\xe3\\x81\\xae\\xe3\\x81\\x97\\xe3\\x81\\x8f\\xe3\\x81\\xbf \\xef\\xbc\\x8d\\xe7\\xa4\\xbe\\xe4\\xbc\\x9a\\xe4\\xbf\\x9d\\xe9\\x9a\\x9c\\xe3\\x82\\x92\\xe5\\xad\\xa6\\xe9\\x9a\\x9b\\xe7\\x9a\\x84\\xe3\\x81\\xab\\xe8\\x80\\x83\\xe3\\x81\\x88\\xe3\\x82\\x8b\\xef\\xbc\\x8d</span>\\r\\n\\t\\t\\t\\t\\t\\t<span class=\"label-flip\">\\xe5\\x8f\\x8d\\xe8\\xbb\\xa2\\xe5\\xad\\xa6\\xe7\\xbf\\x92\\xe3\\x82\\xb3\\xe3\\x83\\xbc\\xe3\\x82\\xb9\\xe3\\x81\\x82\\xe3\\x82\\x8a</span>\\r\\n\\t\\t\\t\\t\\t\\t<span class=\"crsUni\">\\xe6\\x9d\\x8f\\xe6\\x9e\\x97\\xe5\\xa4\\xa7\\xe5\\xad\\xa6</span>\\r\\n\\t\\t\\t\\t\\t\\t<span class=\"crsName\">\\xe6\\x9c\\xa8\\xe6\\x9a\\xae \\xe5\\x81\\xa5\\xe5\\xa4\\xaa\\xe9\\x83\\x8e\\xe3\\x80\\x80\\xe4\\xbb\\x966\\xe5\\x90\\x8d</span>\\r\\n\\t\\t\\t\\t\\t\\t<span class=\"crsDate\">2017\\xe5\\xb9\\xb42\\xe6\\x9c\\x887\\xe6\\x97\\xa5\\xe9\\x96\\x8b\\xe8\\xac\\x9b <span class=\"label-status4\">\\xe5\\x8f\\x97\\xe4\\xbb\\x98\\xe7\\xb5\\x82\\xe4\\xba\\x86</span></span>\\r\\n\\t\\t\\t\\t\\t\\t<span class=\"crsOpt\">\\xe3\\x80\\x80</span>\\r\\n\\t\\t\\t\\t\\t</span>\\r\\n\\t\\t\\t\\t</a>\\r\\n                        \\t<a class=\"crsVdo\" href=\"https://www.youtube.com/watch?v=lNXkwM-4l6k\" target=\"_blank\"><span style=\"font-weight: bold\">PV</span>\\r\\n                            \\t\\t<img src=\"../common/images/play-square.png\" ></a>\\r\\n\\t\\t\\t</div>\\r\\n\\t\\t\\t\\t\\r\\n\\t\\t</div>\\r\\n\\r\\n\\t\\t<a href=\"/event\"><h3 style=\"background-color: #676767; color: #ffffff\">\\xe5\\x8f\\x97\\xe4\\xbb\\x98\\xe7\\xb5\\x82\\xe4\\xba\\x86\\xef\\xbc\\x8fJMOOC\\xe5\\xa4\\xa7\\xe5\\xad\\xa6\\xe7\\x94\\x9f\\xe3\\x83\\x81\\xe3\\x83\\xbc\\xe3\\x83\\xa0\\xe9\\x81\\xb8\\xe6\\x89\\x8b\\xe6\\xa8\\xa9\\xe3\\x82\\xa8\\xe3\\x83\\xb3\\xe3\\x83\\x88\\xe3\\x83\\xaa\\xe3\\x83\\xbc\\xe8\\xac\\x9b\\xe5\\xba\\xa7\\xe3\\x80\\x80\\xe3\\x80\\x80\\xe2\\x96\\xbc\\xe5\\xaf\\xa9\\xe6\\x9f\\xbb\\xe7\\xb5\\x90\\xe6\\x9e\\x9c\\xe3\\x81\\xaf\\xe3\\x81\\x93\\xe3\\x81\\xa1\\xe3\\x82\\x89</h3></a>\\r\\n\\t\\t<div class=\"courseList clearfix\">\\r\\n\\t\\t\\t<!-- //crsItem \\xe6\\x94\\xbe\\xe9\\x80\\x81\\xe5\\xa4\\xa7\\xe5\\xad\\xa6 -->\\r\\n\\t\\t\\t<div class=\"crsItem hl-1\">\\r\\n\\t\\t\\t\\t<a href=\"lecture/lectureintro/00501J11.html\" class=\"crsInfo\">\\r\\n\\t\\t\\t\\t\\t<img src=\"common/images/course/course_card501.jpg\">\\r\\n\\t\\t\\t\\t\\t<span class=\"crsDetail\">\\r\\n\\t\\t\\t\\t\\t\\t<span class=\"crsDate\">2015\\xe5\\xb9\\xb412\\xe6\\x9c\\x8810\\xe6\\x97\\xa5\\xe9\\x96\\x8b\\xe8\\xac\\x9b <span class=\"label-status4\">\\xe5\\x8f\\x97\\xe4\\xbb\\x98\\xe7\\xb5\\x82\\xe4\\xba\\x86</span></span>\\r\\n\\t\\t\\t\\t\\t\\t<span class=\"crsOpt\">\\xe3\\x80\\x80</span>\\r\\n\\t\\t\\t\\t\\t</span>\\r\\n\\t\\t\\t\\t</a>\\r\\n                        \\t<a class=\"crsVdo\" href=\"https://www.youtube.com/watch?v=ZRmV010389A\" target=\"_blank\"><span style=\"font-weight: bold\">PV</span>\\r\\n                            \\t\\t<img src=\"common/images/play-square.png\" ></a>\\r\\n\\t\\t\\t</div>\\r\\n\\t\\t\\t<!-- //crsItem \\xe3\\x82\\xb5\\xe3\\x82\\xa4\\xe3\\x83\\x90\\xe3\\x83\\xbc\\xe5\\xa4\\xa7\\xe5\\xad\\xa6 -->\\r\\n\\t\\t\\t<div class=\"crsItem hl-1\">\\r\\n\\t\\t\\t\\t<a href=\"lecture/lectureintro/00502J11.html\" class=\"crsInfo\">\\r\\n\\t\\t\\t\\t\\t<img src=\"common/images/course/course_card502.jpg\" >\\r\\n\\t\\t\\t\\t\\t<span class=\"crsDetail\">\\r\\n\\t\\t\\t\\t\\t\\t<span class=\"crsDate\">2015\\xe5\\xb9\\xb412\\xe6\\x9c\\x8810\\xe6\\x97\\xa5\\xe9\\x96\\x8b\\xe8\\xac\\x9b <span class=\"label-status4\">\\xe5\\x8f\\x97\\xe4\\xbb\\x98\\xe7\\xb5\\x82\\xe4\\xba\\x86</span></span>\\r\\n\\t\\t\\t\\t\\t\\t<span class=\"crsOpt\">\\xe3\\x80\\x80</span>\\r\\n\\t\\t\\t\\t\\t</span>\\r\\n\\t\\t\\t\\t</a>\\r\\n                        \\t<a class=\"crsVdo\" href=\"https://www.youtube.com/watch?v=2CEG62u65yA\" target=\"_blank\"><span style=\"font-weight: bold\">PV</span>\\r\\n                            \\t\\t<img src=\"common/images/play-square.png\" ></a>\\r\\n\\t\\t\\t</div>\\r\\n\\t\\t\\t<!-- //crsItem \\xe4\\xba\\xac\\xe9\\x83\\xbd\\xe6\\x83\\x85\\xe5\\xa0\\xb1\\xe5\\xa4\\xa7\\xe5\\xad\\xa6\\xe9\\x99\\xa2\\xe5\\xa4\\xa7\\xe5\\xad\\xa6 -->\\r\\n\\t\\t\\t<div class=\"crsItem hl-1\">\\r\\n\\t\\t\\t\\t<a href=\"lecture/lectureintro/00503J11.html\" class=\"crsInfo\">\\r\\n\\t\\t\\t\\t\\t<img src=\"common/images/course/course_card503.jpg\" >\\r\\n\\t\\t\\t\\t\\t<span class=\"crsDetail\">\\r\\n\\t\\t\\t\\t\\t\\t<span class=\"crsDate\">2015\\xe5\\xb9\\xb412\\xe6\\x9c\\x8810\\xe6\\x97\\xa5\\xe9\\x96\\x8b\\xe8\\xac\\x9b <span class=\"label-status4\">\\xe5\\x8f\\x97\\xe4\\xbb\\x98\\xe7\\xb5\\x82\\xe4\\xba\\x86</span></span>\\r\\n\\t\\t\\t\\t\\t\\t<span class=\"crsOpt\">\\xe3\\x80\\x80</span>\\r\\n\\t\\t\\t\\t\\t</span>\\r\\n\\t\\t\\t\\t</a>\\r\\n                        \\t<a class=\"crsVdo\" href=\"https://www.youtube.com/watch?v=-cN9stMRCa8\" target=\"_blank\"><span style=\"font-weight: bold\">PV</span>\\r\\n                            \\t\\t<img src=\"common/images/play-square.png\" ></a>\\r\\n\\t\\t\\t</div>\\r\\n\\t\\t\\t<!-- //crsItem \\xe8\\x81\\x96\\xe5\\xad\\xa6\\xe9\\x99\\xa2\\xe5\\xa4\\xa7\\xe5\\xad\\xa6 -->\\r\\n\\t\\t\\t<div class=\"crsItem hl-1\">\\r\\n\\t\\t\\t\\t<a href=\"lecture/lectureintro/00504J11.html\" class=\"crsInfo\">\\r\\n\\t\\t\\t\\t\\t<img src=\"common/images/course/course_card504.jpg\" >\\r\\n\\t\\t\\t\\t\\t<span class=\"crsDetail\">\\r\\n\\t\\t\\t\\t\\t\\t<span class=\"crsDate\">2015\\xe5\\xb9\\xb412\\xe6\\x9c\\x8810\\xe6\\x97\\xa5\\xe9\\x96\\x8b\\xe8\\xac\\x9b <span class=\"label-status4\">\\xe5\\x8f\\x97\\xe4\\xbb\\x98\\xe7\\xb5\\x82\\xe4\\xba\\x86</span></span>\\r\\n\\t\\t\\t\\t\\t\\t<span class=\"crsOpt\">\\xe3\\x80\\x80</span>\\r\\n\\t\\t\\t\\t\\t</span>\\r\\n\\t\\t\\t\\t</a>\\r\\n                        \\t<a class=\"crsVdo\" href=\"https://www.youtube.com/watch?v=QnTHs9tYVwM\" target=\"_blank\"><span style=\"font-weight: bold\">PV</span>\\r\\n                            \\t\\t<img src=\"common/images/play-square.png\" ></a>\\r\\n\\t\\t\\t</div>\\r\\n\\t\\t</div>\\r\\n\\t</div>\\r\\n</div>\\r\\n\\r\\n<footer id=\"footer\">\\r\\n\\t<div class=\"container\">\\r\\n\\t\\t<ul>\\r\\n\\t\\t\\t<li><a href=\"\">\\xe3\\x83\\x88\\xe3\\x83\\x83\\xe3\\x83\\x97</a></li>\\r\\n\\t\\t\\t<li><a href=\"about/\">OpenLearning, Japan\\xe3\\x81\\xa8\\xe3\\x81\\xaf</a></li>\\r\\n\\t\\t\\t<li><a href=\"info/\">\\xe3\\x81\\x8a\\xe7\\x9f\\xa5\\xe3\\x82\\x89\\xe3\\x81\\x9b</a></li>\\r\\n\\t\\t\\t<li><a href=\"faq/\">\\xe3\\x82\\x88\\xe3\\x81\\x8f\\xe3\\x81\\x82\\xe3\\x82\\x8b\\xe3\\x81\\x94\\xe8\\xb3\\xaa\\xe5\\x95\\x8f</a></li>\\r\\n\\t\\t\\t<li><a href=\"contact/\">\\xe3\\x81\\x8a\\xe5\\x95\\x8f\\xe3\\x81\\x84\\xe5\\x90\\x88\\xe3\\x82\\x8f\\xe3\\x81\\x9b</a></li>\\r\\n\\t\\t\\t<li><a href=\"guidance/\">\\xe5\\x8f\\x97\\xe8\\xac\\x9b\\xe6\\xa1\\x88\\xe5\\x86\\x85</a></li>\\r\\n\\t\\t\\t<li><a href=\"register/useragreement.aspx\">\\xe5\\x88\\xa9\\xe7\\x94\\xa8\\xe8\\xa6\\x8f\\xe7\\xb4\\x84</a></li>\\r\\n\\t\\t\\t<li><a href=\"register/privacypolicy.aspx\">\\xe3\\x83\\x97\\xe3\\x83\\xa9\\xe3\\x82\\xa4\\xe3\\x83\\x90\\xe3\\x82\\xb7\\xe3\\x83\\xbc\\xe3\\x83\\x9d\\xe3\\x83\\xaa\\xe3\\x82\\xb7\\xe3\\x83\\xbc</a></li>\\r\\n\\t\\t</ul>\\r\\n\\t\\t<div class=\"certified\">Certified by <a href=\"https://www.jmooc.jp\" target=\"_blank\">JMOOC</a>.</div>\\r\\n\\t\\t<div class=\"copyright\">Copyright &copy; NetLearning, Inc., except where noted, all rights reserved.</div>\\r\\n\\t</div>\\r\\n</footer>\\r\\n\\r\\n        </div>\\r\\n    </form>\\r\\n</body>\\r\\n</html>\\r\\n\\r\\n'"
      ]
     },
     "execution_count": 26,
     "metadata": {},
     "output_type": "execute_result"
    }
   ],
   "source": [
    "res.content"
   ]
  },
  {
   "cell_type": "code",
   "execution_count": 27,
   "metadata": {},
   "outputs": [],
   "source": [
    "soup = BeautifulSoup(res.content, 'html.parser')"
   ]
  },
  {
   "cell_type": "code",
   "execution_count": null,
   "metadata": {
    "collapsed": true
   },
   "outputs": [],
   "source": []
  },
  {
   "cell_type": "code",
   "execution_count": 28,
   "metadata": {},
   "outputs": [
    {
     "data": {
      "text/plain": [
       "31"
      ]
     },
     "execution_count": 28,
     "metadata": {},
     "output_type": "execute_result"
    }
   ],
   "source": [
    "len(soup.select(\".crsItem\"))"
   ]
  },
  {
   "cell_type": "code",
   "execution_count": 34,
   "metadata": {
    "collapsed": true
   },
   "outputs": [],
   "source": [
    "seminar = soup.select(\".crsItem\")[0]"
   ]
  },
  {
   "cell_type": "code",
   "execution_count": 35,
   "metadata": {},
   "outputs": [
    {
     "data": {
      "text/plain": [
       "bs4.element.Tag"
      ]
     },
     "execution_count": 35,
     "metadata": {},
     "output_type": "execute_result"
    }
   ],
   "source": [
    "type(seminar)"
   ]
  },
  {
   "cell_type": "code",
   "execution_count": 38,
   "metadata": {
    "scrolled": true
   },
   "outputs": [
    {
     "data": {
      "text/plain": [
       "<div class=\"crsItem hl-3\">\n",
       "<a class=\"crsInfo\" href=\"javascript:lecture('00001J11');\">\n",
       "<img src=\"common/images/course/course_card001.jpg\"/>\n",
       "<span class=\"crsDetail\">\n",
       "<span class=\"crsTtl\">Global Social Archaeology<br/>（グローバル社会考古学）</span>\n",
       "<span class=\"crsUni\">Kyushu University</span>\n",
       "<span class=\"crsName\">Koji Mizoguchi、Claire Smith</span>\n",
       "<span class=\"crsDate\">2014年9月25日開講 <span class=\"label-status4\">受付終了</span></span>\n",
       "<span class=\"crsOpt\">※日本語訳あり</span>\n",
       "</span>\n",
       "</a>\n",
       "<a class=\"crsVdo\" href=\"https://www.youtube.com/watch?v=GOiZhvHayHE\" target=\"_blank\"><span style=\"font-weight: bold\">PV</span>\n",
       "<img src=\"common/images/play-square.png\"/></a>\n",
       "</div>"
      ]
     },
     "execution_count": 38,
     "metadata": {},
     "output_type": "execute_result"
    }
   ],
   "source": [
    "seminar"
   ]
  },
  {
   "cell_type": "code",
   "execution_count": 41,
   "metadata": {},
   "outputs": [
    {
     "data": {
      "text/plain": [
       "<span class=\"crsTtl\">Global Social Archaeology<br/>（グローバル社会考古学）</span>"
      ]
     },
     "execution_count": 41,
     "metadata": {},
     "output_type": "execute_result"
    }
   ],
   "source": [
    "seminar.find(class_='crsTtl')"
   ]
  },
  {
   "cell_type": "code",
   "execution_count": 44,
   "metadata": {},
   "outputs": [
    {
     "data": {
      "text/plain": [
       "'Global Social Archaeology（グローバル社会考古学）'"
      ]
     },
     "execution_count": 44,
     "metadata": {},
     "output_type": "execute_result"
    }
   ],
   "source": [
    "seminar.find(class_='crsTtl').get_text()"
   ]
  },
  {
   "cell_type": "code",
   "execution_count": 45,
   "metadata": {},
   "outputs": [
    {
     "data": {
      "text/plain": [
       "'Kyushu University'"
      ]
     },
     "execution_count": 45,
     "metadata": {},
     "output_type": "execute_result"
    }
   ],
   "source": [
    "seminar.find(class_='crsUni').get_text()"
   ]
  },
  {
   "cell_type": "code",
   "execution_count": 46,
   "metadata": {},
   "outputs": [
    {
     "data": {
      "text/plain": [
       "'2014年9月25日開講 受付終了'"
      ]
     },
     "execution_count": 46,
     "metadata": {},
     "output_type": "execute_result"
    }
   ],
   "source": [
    "seminar.find(class_='crsDate').get_text()"
   ]
  },
  {
   "cell_type": "code",
   "execution_count": 49,
   "metadata": {},
   "outputs": [],
   "source": [
    "result = []\n",
    "for elm in soup.select(\".crsItem\"):\n",
    "    title = elm.find(class_=\"crsTtl\")\n",
    "    univ = elm.find(class_='crsUni')\n",
    "    date = elm.find(class_='crsDate')\n",
    "    if title is not None and univ is not None and date is not None:\n",
    "        result.append({'title': title.get_text(), \"univ\": univ.get_text(), \"date\": date.get_text()})"
   ]
  },
  {
   "cell_type": "code",
   "execution_count": 50,
   "metadata": {},
   "outputs": [
    {
     "data": {
      "text/plain": [
       "[{'date': '2014年9月25日開講 受付終了',\n",
       "  'title': 'Global Social Archaeology（グローバル社会考古学）',\n",
       "  'univ': 'Kyushu University'},\n",
       " {'date': '2014年11月17日開講 受付終了', 'title': 'アメリカ映画と政治', 'univ': '同志社大学'},\n",
       " {'date': '2015年2月23日開講 受付終了',\n",
       "  'title': '海から考えるこの星の未来：海洋学への誘い',\n",
       "  'univ': '東海大学'},\n",
       " {'date': '2015年3月23日開講 受付終了', 'title': '応用情報学への招待', 'univ': '京都情報大学院大学'},\n",
       " {'date': '2015年4月16日開講 受付終了', 'title': 'グローバルマネジメント（入門）', 'univ': '産業能率大学'},\n",
       " {'date': '2015年5月25日開講 受付終了',\n",
       "  'title': 'しあわせに生きるための心理学 ～アドラー心理学入門～',\n",
       "  'univ': '早稲田大学'},\n",
       " {'date': '2015年6月1日開講 受付終了',\n",
       "  'title': '医学・医療の昔・今・これから －生命進化と疾病－',\n",
       "  'univ': '順天堂大学'},\n",
       " {'date': '2015年6月1日開講 受付終了', 'title': 'エジプト学への招待', 'univ': '東日本国際大学'},\n",
       " {'date': '2015年6月30日開講 受付終了',\n",
       "  'title': 'グローバルに生きる学生・生徒のための大学論',\n",
       "  'univ': '創価大学'},\n",
       " {'date': '2015年7月17日開講 受付終了',\n",
       "  'title': '世界を変えた書物 －原著で辿る科学知の潮流－',\n",
       "  'univ': '金沢工業大学'},\n",
       " {'date': '2015年10月1日開講 受付終了',\n",
       "  'title': '海から考えるこの星の未来：海洋学への誘い',\n",
       "  'univ': '東海大学'},\n",
       " {'date': '2015年11月10日開講 受付終了',\n",
       "  'title': '個人と組織のための最先端サイバーセキュリティ入門',\n",
       "  'univ': '九州大学'},\n",
       " {'date': '2015年11月4日開講 受付終了', 'title': '日本のきもの －歴史と今－', 'univ': '学習院女子大学'},\n",
       " {'date': '2016年1月12日開講 受付終了', 'title': '新タイ経済発展論', 'univ': '東京外国語大学'},\n",
       " {'date': '2016年1月12日開講 受付終了',\n",
       "  'title': 'Global Social Archaeology: expanded edition（グローバル社会考古学：増補版）',\n",
       "  'univ': 'Kyushu University'},\n",
       " {'date': '2016年1月18日開講 受付終了',\n",
       "  'title': 'さあ！プロジェクト学習とポートフォリオを始めよう！',\n",
       "  'univ': 'シンクタンク未来教育ビジョン'},\n",
       " {'date': '2016年1月18日開講 受付終了', 'title': '社会のしくみ －規制を学際的に考える－', 'univ': '杏林大学'},\n",
       " {'date': '2016年2月8日開講 受付終了', 'title': '応用情報学への招待', 'univ': '京都情報大学院大学'},\n",
       " {'date': '2016年2月25日開講 受付終了', 'title': 'アメリカ映画と政治', 'univ': '同志社大学'},\n",
       " {'date': '2016年5月16日開講 受付終了',\n",
       "  'title': 'しあわせに生きるための心理学 ～アドラー心理学入門～',\n",
       "  'univ': '早稲田大学'},\n",
       " {'date': '2016年6月28日開講 受付終了', 'title': '生活習慣の改善でがんを防ぐ', 'univ': '創価大学'},\n",
       " {'date': '2016年9月23日開講 受付終了', 'title': '味と匂いの科学技術', 'univ': '九州大学'},\n",
       " {'date': '2016年10月11日開講 受付終了',\n",
       "  'title': '味わい教育～感じるとおいしくなる魔法',\n",
       "  'univ': '学習院女子大学'},\n",
       " {'date': '2016年11月7日開講 受付終了',\n",
       "  'title': '世界を変えた書物 －原著で辿る科学知の潮流－',\n",
       "  'univ': '金沢工業大学'},\n",
       " {'date': '2016年12月1日開講 受付終了',\n",
       "  'title': '農学がよみとく「いのち」と「生活」 ～持続発展可能な社会へ～',\n",
       "  'univ': '東京農工大学'},\n",
       " {'date': '2017年1月10日開講 受付終了', 'title': '社会のしくみ －規制を学際的に考える－', 'univ': '杏林大学'},\n",
       " {'date': '2017年2月7日開講 受付終了',\n",
       "  'title': '社会のしくみ －社会保障を学際的に考える－',\n",
       "  'univ': '杏林大学'}]"
      ]
     },
     "execution_count": 50,
     "metadata": {},
     "output_type": "execute_result"
    }
   ],
   "source": [
    "result"
   ]
  },
  {
   "cell_type": "code",
   "execution_count": 51,
   "metadata": {
    "collapsed": true
   },
   "outputs": [],
   "source": [
    "import pandas as pd"
   ]
  },
  {
   "cell_type": "code",
   "execution_count": 52,
   "metadata": {},
   "outputs": [
    {
     "data": {
      "text/html": [
       "<div>\n",
       "<table border=\"1\" class=\"dataframe\">\n",
       "  <thead>\n",
       "    <tr style=\"text-align: right;\">\n",
       "      <th></th>\n",
       "      <th>date</th>\n",
       "      <th>title</th>\n",
       "      <th>univ</th>\n",
       "    </tr>\n",
       "  </thead>\n",
       "  <tbody>\n",
       "    <tr>\n",
       "      <th>0</th>\n",
       "      <td>2014年9月25日開講 受付終了</td>\n",
       "      <td>Global Social Archaeology（グローバル社会考古学）</td>\n",
       "      <td>Kyushu University</td>\n",
       "    </tr>\n",
       "    <tr>\n",
       "      <th>1</th>\n",
       "      <td>2014年11月17日開講 受付終了</td>\n",
       "      <td>アメリカ映画と政治</td>\n",
       "      <td>同志社大学</td>\n",
       "    </tr>\n",
       "    <tr>\n",
       "      <th>2</th>\n",
       "      <td>2015年2月23日開講 受付終了</td>\n",
       "      <td>海から考えるこの星の未来：海洋学への誘い</td>\n",
       "      <td>東海大学</td>\n",
       "    </tr>\n",
       "    <tr>\n",
       "      <th>3</th>\n",
       "      <td>2015年3月23日開講 受付終了</td>\n",
       "      <td>応用情報学への招待</td>\n",
       "      <td>京都情報大学院大学</td>\n",
       "    </tr>\n",
       "    <tr>\n",
       "      <th>4</th>\n",
       "      <td>2015年4月16日開講 受付終了</td>\n",
       "      <td>グローバルマネジメント（入門）</td>\n",
       "      <td>産業能率大学</td>\n",
       "    </tr>\n",
       "    <tr>\n",
       "      <th>5</th>\n",
       "      <td>2015年5月25日開講 受付終了</td>\n",
       "      <td>しあわせに生きるための心理学 ～アドラー心理学入門～</td>\n",
       "      <td>早稲田大学</td>\n",
       "    </tr>\n",
       "    <tr>\n",
       "      <th>6</th>\n",
       "      <td>2015年6月1日開講 受付終了</td>\n",
       "      <td>医学・医療の昔・今・これから －生命進化と疾病－</td>\n",
       "      <td>順天堂大学</td>\n",
       "    </tr>\n",
       "    <tr>\n",
       "      <th>7</th>\n",
       "      <td>2015年6月1日開講 受付終了</td>\n",
       "      <td>エジプト学への招待</td>\n",
       "      <td>東日本国際大学</td>\n",
       "    </tr>\n",
       "    <tr>\n",
       "      <th>8</th>\n",
       "      <td>2015年6月30日開講 受付終了</td>\n",
       "      <td>グローバルに生きる学生・生徒のための大学論</td>\n",
       "      <td>創価大学</td>\n",
       "    </tr>\n",
       "    <tr>\n",
       "      <th>9</th>\n",
       "      <td>2015年7月17日開講 受付終了</td>\n",
       "      <td>世界を変えた書物 －原著で辿る科学知の潮流－</td>\n",
       "      <td>金沢工業大学</td>\n",
       "    </tr>\n",
       "    <tr>\n",
       "      <th>10</th>\n",
       "      <td>2015年10月1日開講 受付終了</td>\n",
       "      <td>海から考えるこの星の未来：海洋学への誘い</td>\n",
       "      <td>東海大学</td>\n",
       "    </tr>\n",
       "    <tr>\n",
       "      <th>11</th>\n",
       "      <td>2015年11月10日開講 受付終了</td>\n",
       "      <td>個人と組織のための最先端サイバーセキュリティ入門</td>\n",
       "      <td>九州大学</td>\n",
       "    </tr>\n",
       "    <tr>\n",
       "      <th>12</th>\n",
       "      <td>2015年11月4日開講 受付終了</td>\n",
       "      <td>日本のきもの －歴史と今－</td>\n",
       "      <td>学習院女子大学</td>\n",
       "    </tr>\n",
       "    <tr>\n",
       "      <th>13</th>\n",
       "      <td>2016年1月12日開講 受付終了</td>\n",
       "      <td>新タイ経済発展論</td>\n",
       "      <td>東京外国語大学</td>\n",
       "    </tr>\n",
       "    <tr>\n",
       "      <th>14</th>\n",
       "      <td>2016年1月12日開講 受付終了</td>\n",
       "      <td>Global Social Archaeology: expanded edition（グロ...</td>\n",
       "      <td>Kyushu University</td>\n",
       "    </tr>\n",
       "    <tr>\n",
       "      <th>15</th>\n",
       "      <td>2016年1月18日開講 受付終了</td>\n",
       "      <td>さあ！プロジェクト学習とポートフォリオを始めよう！</td>\n",
       "      <td>シンクタンク未来教育ビジョン</td>\n",
       "    </tr>\n",
       "    <tr>\n",
       "      <th>16</th>\n",
       "      <td>2016年1月18日開講 受付終了</td>\n",
       "      <td>社会のしくみ －規制を学際的に考える－</td>\n",
       "      <td>杏林大学</td>\n",
       "    </tr>\n",
       "    <tr>\n",
       "      <th>17</th>\n",
       "      <td>2016年2月8日開講 受付終了</td>\n",
       "      <td>応用情報学への招待</td>\n",
       "      <td>京都情報大学院大学</td>\n",
       "    </tr>\n",
       "    <tr>\n",
       "      <th>18</th>\n",
       "      <td>2016年2月25日開講 受付終了</td>\n",
       "      <td>アメリカ映画と政治</td>\n",
       "      <td>同志社大学</td>\n",
       "    </tr>\n",
       "    <tr>\n",
       "      <th>19</th>\n",
       "      <td>2016年5月16日開講 受付終了</td>\n",
       "      <td>しあわせに生きるための心理学 ～アドラー心理学入門～</td>\n",
       "      <td>早稲田大学</td>\n",
       "    </tr>\n",
       "    <tr>\n",
       "      <th>20</th>\n",
       "      <td>2016年6月28日開講 受付終了</td>\n",
       "      <td>生活習慣の改善でがんを防ぐ</td>\n",
       "      <td>創価大学</td>\n",
       "    </tr>\n",
       "    <tr>\n",
       "      <th>21</th>\n",
       "      <td>2016年9月23日開講 受付終了</td>\n",
       "      <td>味と匂いの科学技術</td>\n",
       "      <td>九州大学</td>\n",
       "    </tr>\n",
       "    <tr>\n",
       "      <th>22</th>\n",
       "      <td>2016年10月11日開講 受付終了</td>\n",
       "      <td>味わい教育～感じるとおいしくなる魔法</td>\n",
       "      <td>学習院女子大学</td>\n",
       "    </tr>\n",
       "    <tr>\n",
       "      <th>23</th>\n",
       "      <td>2016年11月7日開講 受付終了</td>\n",
       "      <td>世界を変えた書物 －原著で辿る科学知の潮流－</td>\n",
       "      <td>金沢工業大学</td>\n",
       "    </tr>\n",
       "    <tr>\n",
       "      <th>24</th>\n",
       "      <td>2016年12月1日開講 受付終了</td>\n",
       "      <td>農学がよみとく「いのち」と「生活」 ～持続発展可能な社会へ～</td>\n",
       "      <td>東京農工大学</td>\n",
       "    </tr>\n",
       "    <tr>\n",
       "      <th>25</th>\n",
       "      <td>2017年1月10日開講 受付終了</td>\n",
       "      <td>社会のしくみ －規制を学際的に考える－</td>\n",
       "      <td>杏林大学</td>\n",
       "    </tr>\n",
       "    <tr>\n",
       "      <th>26</th>\n",
       "      <td>2017年2月7日開講 受付終了</td>\n",
       "      <td>社会のしくみ －社会保障を学際的に考える－</td>\n",
       "      <td>杏林大学</td>\n",
       "    </tr>\n",
       "  </tbody>\n",
       "</table>\n",
       "</div>"
      ],
      "text/plain": [
       "                  date                                              title  \\\n",
       "0    2014年9月25日開講 受付終了              Global Social Archaeology（グローバル社会考古学）   \n",
       "1   2014年11月17日開講 受付終了                                          アメリカ映画と政治   \n",
       "2    2015年2月23日開講 受付終了                               海から考えるこの星の未来：海洋学への誘い   \n",
       "3    2015年3月23日開講 受付終了                                          応用情報学への招待   \n",
       "4    2015年4月16日開講 受付終了                                    グローバルマネジメント（入門）   \n",
       "5    2015年5月25日開講 受付終了                         しあわせに生きるための心理学 ～アドラー心理学入門～   \n",
       "6     2015年6月1日開講 受付終了                           医学・医療の昔・今・これから －生命進化と疾病－   \n",
       "7     2015年6月1日開講 受付終了                                          エジプト学への招待   \n",
       "8    2015年6月30日開講 受付終了                              グローバルに生きる学生・生徒のための大学論   \n",
       "9    2015年7月17日開講 受付終了                             世界を変えた書物 －原著で辿る科学知の潮流－   \n",
       "10   2015年10月1日開講 受付終了                               海から考えるこの星の未来：海洋学への誘い   \n",
       "11  2015年11月10日開講 受付終了                           個人と組織のための最先端サイバーセキュリティ入門   \n",
       "12   2015年11月4日開講 受付終了                                      日本のきもの －歴史と今－   \n",
       "13   2016年1月12日開講 受付終了                                           新タイ経済発展論   \n",
       "14   2016年1月12日開講 受付終了  Global Social Archaeology: expanded edition（グロ...   \n",
       "15   2016年1月18日開講 受付終了                          さあ！プロジェクト学習とポートフォリオを始めよう！   \n",
       "16   2016年1月18日開講 受付終了                                社会のしくみ －規制を学際的に考える－   \n",
       "17    2016年2月8日開講 受付終了                                          応用情報学への招待   \n",
       "18   2016年2月25日開講 受付終了                                          アメリカ映画と政治   \n",
       "19   2016年5月16日開講 受付終了                         しあわせに生きるための心理学 ～アドラー心理学入門～   \n",
       "20   2016年6月28日開講 受付終了                                      生活習慣の改善でがんを防ぐ   \n",
       "21   2016年9月23日開講 受付終了                                          味と匂いの科学技術   \n",
       "22  2016年10月11日開講 受付終了                                 味わい教育～感じるとおいしくなる魔法   \n",
       "23   2016年11月7日開講 受付終了                             世界を変えた書物 －原著で辿る科学知の潮流－   \n",
       "24   2016年12月1日開講 受付終了                     農学がよみとく「いのち」と「生活」 ～持続発展可能な社会へ～   \n",
       "25   2017年1月10日開講 受付終了                                社会のしくみ －規制を学際的に考える－   \n",
       "26    2017年2月7日開講 受付終了                              社会のしくみ －社会保障を学際的に考える－   \n",
       "\n",
       "                 univ  \n",
       "0   Kyushu University  \n",
       "1               同志社大学  \n",
       "2                東海大学  \n",
       "3           京都情報大学院大学  \n",
       "4              産業能率大学  \n",
       "5               早稲田大学  \n",
       "6               順天堂大学  \n",
       "7             東日本国際大学  \n",
       "8                創価大学  \n",
       "9              金沢工業大学  \n",
       "10               東海大学  \n",
       "11               九州大学  \n",
       "12            学習院女子大学  \n",
       "13            東京外国語大学  \n",
       "14  Kyushu University  \n",
       "15     シンクタンク未来教育ビジョン  \n",
       "16               杏林大学  \n",
       "17          京都情報大学院大学  \n",
       "18              同志社大学  \n",
       "19              早稲田大学  \n",
       "20               創価大学  \n",
       "21               九州大学  \n",
       "22            学習院女子大学  \n",
       "23             金沢工業大学  \n",
       "24             東京農工大学  \n",
       "25               杏林大学  \n",
       "26               杏林大学  "
      ]
     },
     "execution_count": 52,
     "metadata": {},
     "output_type": "execute_result"
    }
   ],
   "source": [
    "pd.DataFrame(result)"
   ]
  },
  {
   "cell_type": "markdown",
   "metadata": {},
   "source": [
    "# 完成版ソースコード"
   ]
  },
  {
   "cell_type": "code",
   "execution_count": 54,
   "metadata": {},
   "outputs": [],
   "source": [
    "import requests\n",
    "from bs4 import BeautifulSoup\n",
    "import pandas as pd\n",
    "\n",
    "url = \"https://open.netlearning.co.jp/index.aspx\"\n",
    "res = requests.get(url)\n",
    "soup = BeautifulSoup(res.content, 'html.parser')\n",
    "result = []\n",
    "for elm in soup.select(\".crsItem\"):\n",
    "      title = elm.find(class_=\"crsTtl\")\n",
    "      univ = elm.find(class_='crsUni')\n",
    "      date = elm.find(class_='crsDate')\n",
    "      if title is not None and univ is not None and date is not None:\n",
    "          result.append({'title': title.get_text(), \"univ\": univ.get_text(), \"date\": date.get_text()})\n",
    "\n",
    "df = pd.DataFrame(result)     "
   ]
  },
  {
   "cell_type": "code",
   "execution_count": 55,
   "metadata": {},
   "outputs": [
    {
     "data": {
      "text/html": [
       "<div>\n",
       "<table border=\"1\" class=\"dataframe\">\n",
       "  <thead>\n",
       "    <tr style=\"text-align: right;\">\n",
       "      <th></th>\n",
       "      <th>date</th>\n",
       "      <th>title</th>\n",
       "      <th>univ</th>\n",
       "    </tr>\n",
       "  </thead>\n",
       "  <tbody>\n",
       "    <tr>\n",
       "      <th>0</th>\n",
       "      <td>2014年9月25日開講 受付終了</td>\n",
       "      <td>Global Social Archaeology（グローバル社会考古学）</td>\n",
       "      <td>Kyushu University</td>\n",
       "    </tr>\n",
       "    <tr>\n",
       "      <th>1</th>\n",
       "      <td>2014年11月17日開講 受付終了</td>\n",
       "      <td>アメリカ映画と政治</td>\n",
       "      <td>同志社大学</td>\n",
       "    </tr>\n",
       "    <tr>\n",
       "      <th>2</th>\n",
       "      <td>2015年2月23日開講 受付終了</td>\n",
       "      <td>海から考えるこの星の未来：海洋学への誘い</td>\n",
       "      <td>東海大学</td>\n",
       "    </tr>\n",
       "    <tr>\n",
       "      <th>3</th>\n",
       "      <td>2015年3月23日開講 受付終了</td>\n",
       "      <td>応用情報学への招待</td>\n",
       "      <td>京都情報大学院大学</td>\n",
       "    </tr>\n",
       "    <tr>\n",
       "      <th>4</th>\n",
       "      <td>2015年4月16日開講 受付終了</td>\n",
       "      <td>グローバルマネジメント（入門）</td>\n",
       "      <td>産業能率大学</td>\n",
       "    </tr>\n",
       "    <tr>\n",
       "      <th>5</th>\n",
       "      <td>2015年5月25日開講 受付終了</td>\n",
       "      <td>しあわせに生きるための心理学 ～アドラー心理学入門～</td>\n",
       "      <td>早稲田大学</td>\n",
       "    </tr>\n",
       "    <tr>\n",
       "      <th>6</th>\n",
       "      <td>2015年6月1日開講 受付終了</td>\n",
       "      <td>医学・医療の昔・今・これから －生命進化と疾病－</td>\n",
       "      <td>順天堂大学</td>\n",
       "    </tr>\n",
       "    <tr>\n",
       "      <th>7</th>\n",
       "      <td>2015年6月1日開講 受付終了</td>\n",
       "      <td>エジプト学への招待</td>\n",
       "      <td>東日本国際大学</td>\n",
       "    </tr>\n",
       "    <tr>\n",
       "      <th>8</th>\n",
       "      <td>2015年6月30日開講 受付終了</td>\n",
       "      <td>グローバルに生きる学生・生徒のための大学論</td>\n",
       "      <td>創価大学</td>\n",
       "    </tr>\n",
       "    <tr>\n",
       "      <th>9</th>\n",
       "      <td>2015年7月17日開講 受付終了</td>\n",
       "      <td>世界を変えた書物 －原著で辿る科学知の潮流－</td>\n",
       "      <td>金沢工業大学</td>\n",
       "    </tr>\n",
       "    <tr>\n",
       "      <th>10</th>\n",
       "      <td>2015年10月1日開講 受付終了</td>\n",
       "      <td>海から考えるこの星の未来：海洋学への誘い</td>\n",
       "      <td>東海大学</td>\n",
       "    </tr>\n",
       "    <tr>\n",
       "      <th>11</th>\n",
       "      <td>2015年11月10日開講 受付終了</td>\n",
       "      <td>個人と組織のための最先端サイバーセキュリティ入門</td>\n",
       "      <td>九州大学</td>\n",
       "    </tr>\n",
       "    <tr>\n",
       "      <th>12</th>\n",
       "      <td>2015年11月4日開講 受付終了</td>\n",
       "      <td>日本のきもの －歴史と今－</td>\n",
       "      <td>学習院女子大学</td>\n",
       "    </tr>\n",
       "    <tr>\n",
       "      <th>13</th>\n",
       "      <td>2016年1月12日開講 受付終了</td>\n",
       "      <td>新タイ経済発展論</td>\n",
       "      <td>東京外国語大学</td>\n",
       "    </tr>\n",
       "    <tr>\n",
       "      <th>14</th>\n",
       "      <td>2016年1月12日開講 受付終了</td>\n",
       "      <td>Global Social Archaeology: expanded edition（グロ...</td>\n",
       "      <td>Kyushu University</td>\n",
       "    </tr>\n",
       "    <tr>\n",
       "      <th>15</th>\n",
       "      <td>2016年1月18日開講 受付終了</td>\n",
       "      <td>さあ！プロジェクト学習とポートフォリオを始めよう！</td>\n",
       "      <td>シンクタンク未来教育ビジョン</td>\n",
       "    </tr>\n",
       "    <tr>\n",
       "      <th>16</th>\n",
       "      <td>2016年1月18日開講 受付終了</td>\n",
       "      <td>社会のしくみ －規制を学際的に考える－</td>\n",
       "      <td>杏林大学</td>\n",
       "    </tr>\n",
       "    <tr>\n",
       "      <th>17</th>\n",
       "      <td>2016年2月8日開講 受付終了</td>\n",
       "      <td>応用情報学への招待</td>\n",
       "      <td>京都情報大学院大学</td>\n",
       "    </tr>\n",
       "    <tr>\n",
       "      <th>18</th>\n",
       "      <td>2016年2月25日開講 受付終了</td>\n",
       "      <td>アメリカ映画と政治</td>\n",
       "      <td>同志社大学</td>\n",
       "    </tr>\n",
       "    <tr>\n",
       "      <th>19</th>\n",
       "      <td>2016年5月16日開講 受付終了</td>\n",
       "      <td>しあわせに生きるための心理学 ～アドラー心理学入門～</td>\n",
       "      <td>早稲田大学</td>\n",
       "    </tr>\n",
       "    <tr>\n",
       "      <th>20</th>\n",
       "      <td>2016年6月28日開講 受付終了</td>\n",
       "      <td>生活習慣の改善でがんを防ぐ</td>\n",
       "      <td>創価大学</td>\n",
       "    </tr>\n",
       "    <tr>\n",
       "      <th>21</th>\n",
       "      <td>2016年9月23日開講 受付終了</td>\n",
       "      <td>味と匂いの科学技術</td>\n",
       "      <td>九州大学</td>\n",
       "    </tr>\n",
       "    <tr>\n",
       "      <th>22</th>\n",
       "      <td>2016年10月11日開講 受付終了</td>\n",
       "      <td>味わい教育～感じるとおいしくなる魔法</td>\n",
       "      <td>学習院女子大学</td>\n",
       "    </tr>\n",
       "    <tr>\n",
       "      <th>23</th>\n",
       "      <td>2016年11月7日開講 受付終了</td>\n",
       "      <td>世界を変えた書物 －原著で辿る科学知の潮流－</td>\n",
       "      <td>金沢工業大学</td>\n",
       "    </tr>\n",
       "    <tr>\n",
       "      <th>24</th>\n",
       "      <td>2016年12月1日開講 受付終了</td>\n",
       "      <td>農学がよみとく「いのち」と「生活」 ～持続発展可能な社会へ～</td>\n",
       "      <td>東京農工大学</td>\n",
       "    </tr>\n",
       "    <tr>\n",
       "      <th>25</th>\n",
       "      <td>2017年1月10日開講 受付終了</td>\n",
       "      <td>社会のしくみ －規制を学際的に考える－</td>\n",
       "      <td>杏林大学</td>\n",
       "    </tr>\n",
       "    <tr>\n",
       "      <th>26</th>\n",
       "      <td>2017年2月7日開講 受付終了</td>\n",
       "      <td>社会のしくみ －社会保障を学際的に考える－</td>\n",
       "      <td>杏林大学</td>\n",
       "    </tr>\n",
       "  </tbody>\n",
       "</table>\n",
       "</div>"
      ],
      "text/plain": [
       "                  date                                              title  \\\n",
       "0    2014年9月25日開講 受付終了              Global Social Archaeology（グローバル社会考古学）   \n",
       "1   2014年11月17日開講 受付終了                                          アメリカ映画と政治   \n",
       "2    2015年2月23日開講 受付終了                               海から考えるこの星の未来：海洋学への誘い   \n",
       "3    2015年3月23日開講 受付終了                                          応用情報学への招待   \n",
       "4    2015年4月16日開講 受付終了                                    グローバルマネジメント（入門）   \n",
       "5    2015年5月25日開講 受付終了                         しあわせに生きるための心理学 ～アドラー心理学入門～   \n",
       "6     2015年6月1日開講 受付終了                           医学・医療の昔・今・これから －生命進化と疾病－   \n",
       "7     2015年6月1日開講 受付終了                                          エジプト学への招待   \n",
       "8    2015年6月30日開講 受付終了                              グローバルに生きる学生・生徒のための大学論   \n",
       "9    2015年7月17日開講 受付終了                             世界を変えた書物 －原著で辿る科学知の潮流－   \n",
       "10   2015年10月1日開講 受付終了                               海から考えるこの星の未来：海洋学への誘い   \n",
       "11  2015年11月10日開講 受付終了                           個人と組織のための最先端サイバーセキュリティ入門   \n",
       "12   2015年11月4日開講 受付終了                                      日本のきもの －歴史と今－   \n",
       "13   2016年1月12日開講 受付終了                                           新タイ経済発展論   \n",
       "14   2016年1月12日開講 受付終了  Global Social Archaeology: expanded edition（グロ...   \n",
       "15   2016年1月18日開講 受付終了                          さあ！プロジェクト学習とポートフォリオを始めよう！   \n",
       "16   2016年1月18日開講 受付終了                                社会のしくみ －規制を学際的に考える－   \n",
       "17    2016年2月8日開講 受付終了                                          応用情報学への招待   \n",
       "18   2016年2月25日開講 受付終了                                          アメリカ映画と政治   \n",
       "19   2016年5月16日開講 受付終了                         しあわせに生きるための心理学 ～アドラー心理学入門～   \n",
       "20   2016年6月28日開講 受付終了                                      生活習慣の改善でがんを防ぐ   \n",
       "21   2016年9月23日開講 受付終了                                          味と匂いの科学技術   \n",
       "22  2016年10月11日開講 受付終了                                 味わい教育～感じるとおいしくなる魔法   \n",
       "23   2016年11月7日開講 受付終了                             世界を変えた書物 －原著で辿る科学知の潮流－   \n",
       "24   2016年12月1日開講 受付終了                     農学がよみとく「いのち」と「生活」 ～持続発展可能な社会へ～   \n",
       "25   2017年1月10日開講 受付終了                                社会のしくみ －規制を学際的に考える－   \n",
       "26    2017年2月7日開講 受付終了                              社会のしくみ －社会保障を学際的に考える－   \n",
       "\n",
       "                 univ  \n",
       "0   Kyushu University  \n",
       "1               同志社大学  \n",
       "2                東海大学  \n",
       "3           京都情報大学院大学  \n",
       "4              産業能率大学  \n",
       "5               早稲田大学  \n",
       "6               順天堂大学  \n",
       "7             東日本国際大学  \n",
       "8                創価大学  \n",
       "9              金沢工業大学  \n",
       "10               東海大学  \n",
       "11               九州大学  \n",
       "12            学習院女子大学  \n",
       "13            東京外国語大学  \n",
       "14  Kyushu University  \n",
       "15     シンクタンク未来教育ビジョン  \n",
       "16               杏林大学  \n",
       "17          京都情報大学院大学  \n",
       "18              同志社大学  \n",
       "19              早稲田大学  \n",
       "20               創価大学  \n",
       "21               九州大学  \n",
       "22            学習院女子大学  \n",
       "23             金沢工業大学  \n",
       "24             東京農工大学  \n",
       "25               杏林大学  \n",
       "26               杏林大学  "
      ]
     },
     "execution_count": 55,
     "metadata": {},
     "output_type": "execute_result"
    }
   ],
   "source": [
    "df"
   ]
  },
  {
   "cell_type": "code",
   "execution_count": null,
   "metadata": {
    "collapsed": true
   },
   "outputs": [],
   "source": []
  }
 ],
 "metadata": {
  "kernelspec": {
   "display_name": "Python 3",
   "language": "python",
   "name": "python3"
  },
  "language_info": {
   "codemirror_mode": {
    "name": "ipython",
    "version": 3
   },
   "file_extension": ".py",
   "mimetype": "text/x-python",
   "name": "python",
   "nbconvert_exporter": "python",
   "pygments_lexer": "ipython3",
   "version": "3.5.2"
  }
 },
 "nbformat": 4,
 "nbformat_minor": 2
}
